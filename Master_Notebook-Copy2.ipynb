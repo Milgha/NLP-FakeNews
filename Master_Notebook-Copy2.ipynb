{
 "cells": [
  {
   "cell_type": "code",
   "execution_count": null,
   "metadata": {},
   "outputs": [],
   "source": [
    "#!pip install textblob"
   ]
  },
  {
   "cell_type": "code",
   "execution_count": null,
   "metadata": {},
   "outputs": [],
   "source": [
    "#pip install -U pandas==1.3.4 --user"
   ]
  },
  {
   "cell_type": "code",
   "execution_count": 2,
   "metadata": {},
   "outputs": [],
   "source": [
    "from tweepy import OAuthHandler\n",
    "#from tweepy.streaming import StreamListener\n",
    "import tweepy\n",
    "import json\n",
    "import pandas as pd\n",
    "import csv\n",
    "import re\n",
    "#from textblob import TextBlob\n",
    "import string\n",
    "#import preprocessor as p\n",
    "import os\n",
    "import time\n",
    "#from twarc import expansions\n",
    "\n",
    "from sklearn.model_selection import train_test_split, cross_val_score\n",
    "from sklearn.dummy import DummyClassifier\n",
    "from sklearn.pipeline import Pipeline\n",
    "from sklearn.feature_extraction.text import TfidfVectorizer, CountVectorizer\n",
    "from sklearn.metrics import accuracy_score, recall_score,precision_score, confusion_matrix, roc_auc_score\n",
    "from sklearn.metrics import plot_confusion_matrix\n",
    "from sklearn.ensemble import RandomForestClassifier\n",
    "from sklearn.naive_bayes import MultinomialNB\n",
    "from sklearn.neighbors import KNeighborsClassifier\n",
    "from sklearn.linear_model import LogisticRegression\n",
    "from sklearn.model_selection import GridSearchCV\n",
    "from sklearn.metrics import make_scorer\n",
    "from sklearn.tree import DecisionTreeClassifier\n",
    "from sklearn.svm import SVC\n",
    "\n",
    "import nltk\n",
    "from nltk.sentiment.vader import SentimentIntensityAnalyzer\n",
    "from textblob import TextBlob\n",
    "import textblob\n",
    "from nltk.corpus import stopwords\n",
    "from nltk.tokenize import TweetTokenizer, RegexpTokenizer\n",
    "from nltk.stem.porter import PorterStemmer \n",
    "from nltk.stem import WordNetLemmatizer\n",
    "from nltk.corpus import wordnet\n",
    "from nltk import pos_tag\n",
    "\n",
    "import tensorflow as tf\n",
    "from tensorflow.keras.layers import Embedding,LSTM,Dense,Dropout,Conv1D, MaxPooling1D, Bidirectional\n",
    "from tensorflow.keras.preprocessing.sequence import pad_sequences\n",
    "from tensorflow.keras.models import Sequential\n",
    "from tensorflow.keras.preprocessing.text import one_hot\n",
    "from keras.optimizers import SGD\n",
    "from tensorflow.keras import regularizers\n",
    "\n",
    "\n",
    "import seaborn as sns\n",
    "\n",
    "import warnings\n",
    "warnings.filterwarnings('ignore')\n"
   ]
  },
  {
   "cell_type": "code",
   "execution_count": 3,
   "metadata": {},
   "outputs": [
    {
     "name": "stderr",
     "output_type": "stream",
     "text": [
      "[nltk_data] Downloading package wordnet to\n",
      "[nltk_data]     C:\\Users\\milad\\AppData\\Roaming\\nltk_data...\n",
      "[nltk_data]   Package wordnet is already up-to-date!\n"
     ]
    },
    {
     "data": {
      "text/plain": [
       "True"
      ]
     },
     "execution_count": 3,
     "metadata": {},
     "output_type": "execute_result"
    }
   ],
   "source": [
    "nltk.download('wordnet')"
   ]
  },
  {
   "cell_type": "code",
   "execution_count": 4,
   "metadata": {},
   "outputs": [
    {
     "data": {
      "text/plain": [
       "id              0\n",
       "text            0\n",
       "withheld    30332\n",
       "dtype: int64"
      ]
     },
     "execution_count": 4,
     "metadata": {},
     "output_type": "execute_result"
    }
   ],
   "source": [
    "tweets_raw = pd.read_csv('tweets.csv')\n",
    "tweets_raw.isna().sum()"
   ]
  },
  {
   "cell_type": "code",
   "execution_count": 5,
   "metadata": {},
   "outputs": [
    {
     "name": "stderr",
     "output_type": "stream",
     "text": [
      "[nltk_data] Downloading package vader_lexicon to\n",
      "[nltk_data]     C:\\Users\\milad\\AppData\\Roaming\\nltk_data...\n",
      "[nltk_data]   Package vader_lexicon is already up-to-date!\n"
     ]
    },
    {
     "data": {
      "text/html": [
       "<div>\n",
       "<style scoped>\n",
       "    .dataframe tbody tr th:only-of-type {\n",
       "        vertical-align: middle;\n",
       "    }\n",
       "\n",
       "    .dataframe tbody tr th {\n",
       "        vertical-align: top;\n",
       "    }\n",
       "\n",
       "    .dataframe thead th {\n",
       "        text-align: right;\n",
       "    }\n",
       "</style>\n",
       "<table border=\"1\" class=\"dataframe\">\n",
       "  <thead>\n",
       "    <tr style=\"text-align: right;\">\n",
       "      <th></th>\n",
       "      <th>text</th>\n",
       "    </tr>\n",
       "  </thead>\n",
       "  <tbody>\n",
       "    <tr>\n",
       "      <th>0</th>\n",
       "      <td>Elon Musk took over Twitter. If anyone doesn't...</td>\n",
       "    </tr>\n",
       "    <tr>\n",
       "      <th>1</th>\n",
       "      <td>Why is this Twitter buyout a good thing again?...</td>\n",
       "    </tr>\n",
       "    <tr>\n",
       "      <th>2</th>\n",
       "      <td>Elon Musk’s Twitter layoffs are starting https...</td>\n",
       "    </tr>\n",
       "    <tr>\n",
       "      <th>3</th>\n",
       "      <td>Elon Musk is shocked\\n\\n@AntonioIvanchev,@tsek...</td>\n",
       "    </tr>\n",
       "    <tr>\n",
       "      <th>4</th>\n",
       "      <td>«An email went out to the company’s employees ...</td>\n",
       "    </tr>\n",
       "  </tbody>\n",
       "</table>\n",
       "</div>"
      ],
      "text/plain": [
       "                                                text\n",
       "0  Elon Musk took over Twitter. If anyone doesn't...\n",
       "1  Why is this Twitter buyout a good thing again?...\n",
       "2  Elon Musk’s Twitter layoffs are starting https...\n",
       "3  Elon Musk is shocked\\n\\n@AntonioIvanchev,@tsek...\n",
       "4  «An email went out to the company’s employees ..."
      ]
     },
     "execution_count": 5,
     "metadata": {},
     "output_type": "execute_result"
    }
   ],
   "source": [
    "nltk.download(\"vader_lexicon\")\n",
    "\n",
    "tweets_raw = pd.read_csv('tweets.csv')\n",
    "tweets_raw.drop(columns=['id','withheld'], axis=1, inplace=True)\n",
    "tweets_raw.head()"
   ]
  },
  {
   "cell_type": "code",
   "execution_count": 6,
   "metadata": {},
   "outputs": [
    {
     "data": {
      "text/html": [
       "<div>\n",
       "<style scoped>\n",
       "    .dataframe tbody tr th:only-of-type {\n",
       "        vertical-align: middle;\n",
       "    }\n",
       "\n",
       "    .dataframe tbody tr th {\n",
       "        vertical-align: top;\n",
       "    }\n",
       "\n",
       "    .dataframe thead th {\n",
       "        text-align: right;\n",
       "    }\n",
       "</style>\n",
       "<table border=\"1\" class=\"dataframe\">\n",
       "  <thead>\n",
       "    <tr style=\"text-align: right;\">\n",
       "      <th></th>\n",
       "      <th>text</th>\n",
       "      <th>Positive</th>\n",
       "      <th>Negative</th>\n",
       "      <th>Neutral</th>\n",
       "      <th>Compound</th>\n",
       "    </tr>\n",
       "  </thead>\n",
       "  <tbody>\n",
       "    <tr>\n",
       "      <th>0</th>\n",
       "      <td>Elon Musk took over Twitter. If anyone doesn't...</td>\n",
       "      <td>0.00</td>\n",
       "      <td>0.000</td>\n",
       "      <td>1.000</td>\n",
       "      <td>0.0000</td>\n",
       "    </tr>\n",
       "    <tr>\n",
       "      <th>1</th>\n",
       "      <td>Why is this Twitter buyout a good thing again?...</td>\n",
       "      <td>0.18</td>\n",
       "      <td>0.000</td>\n",
       "      <td>0.820</td>\n",
       "      <td>0.6199</td>\n",
       "    </tr>\n",
       "    <tr>\n",
       "      <th>2</th>\n",
       "      <td>Elon Musk’s Twitter layoffs are starting https...</td>\n",
       "      <td>0.00</td>\n",
       "      <td>0.000</td>\n",
       "      <td>1.000</td>\n",
       "      <td>0.0000</td>\n",
       "    </tr>\n",
       "    <tr>\n",
       "      <th>3</th>\n",
       "      <td>Elon Musk is shocked\\n\\n@AntonioIvanchev,@tsek...</td>\n",
       "      <td>0.00</td>\n",
       "      <td>0.315</td>\n",
       "      <td>0.685</td>\n",
       "      <td>-0.3182</td>\n",
       "    </tr>\n",
       "    <tr>\n",
       "      <th>4</th>\n",
       "      <td>«An email went out to the company’s employees ...</td>\n",
       "      <td>0.00</td>\n",
       "      <td>0.050</td>\n",
       "      <td>0.950</td>\n",
       "      <td>-0.2732</td>\n",
       "    </tr>\n",
       "  </tbody>\n",
       "</table>\n",
       "</div>"
      ],
      "text/plain": [
       "                                                text  Positive  Negative  \\\n",
       "0  Elon Musk took over Twitter. If anyone doesn't...      0.00     0.000   \n",
       "1  Why is this Twitter buyout a good thing again?...      0.18     0.000   \n",
       "2  Elon Musk’s Twitter layoffs are starting https...      0.00     0.000   \n",
       "3  Elon Musk is shocked\\n\\n@AntonioIvanchev,@tsek...      0.00     0.315   \n",
       "4  «An email went out to the company’s employees ...      0.00     0.050   \n",
       "\n",
       "   Neutral  Compound  \n",
       "0    1.000    0.0000  \n",
       "1    0.820    0.6199  \n",
       "2    1.000    0.0000  \n",
       "3    0.685   -0.3182  \n",
       "4    0.950   -0.2732  "
      ]
     },
     "execution_count": 6,
     "metadata": {},
     "output_type": "execute_result"
    }
   ],
   "source": [
    "sentiments = SentimentIntensityAnalyzer()\n",
    "tweets_raw[\"Positive\"] = [sentiments.polarity_scores(i)[\"pos\"] for i in tweets_raw[\"text\"]]\n",
    "tweets_raw[\"Negative\"] = [sentiments.polarity_scores(i)[\"neg\"] for i in tweets_raw[\"text\"]]\n",
    "tweets_raw[\"Neutral\"] = [sentiments.polarity_scores(i)[\"neu\"] for i in tweets_raw[\"text\"]]\n",
    "tweets_raw['Compound'] = [sentiments.polarity_scores(i)[\"compound\"] for i in tweets_raw[\"text\"]]\n",
    "tweets_raw.head()"
   ]
  },
  {
   "cell_type": "code",
   "execution_count": 7,
   "metadata": {
    "scrolled": true
   },
   "outputs": [
    {
     "data": {
      "text/html": [
       "<div>\n",
       "<style scoped>\n",
       "    .dataframe tbody tr th:only-of-type {\n",
       "        vertical-align: middle;\n",
       "    }\n",
       "\n",
       "    .dataframe tbody tr th {\n",
       "        vertical-align: top;\n",
       "    }\n",
       "\n",
       "    .dataframe thead th {\n",
       "        text-align: right;\n",
       "    }\n",
       "</style>\n",
       "<table border=\"1\" class=\"dataframe\">\n",
       "  <thead>\n",
       "    <tr style=\"text-align: right;\">\n",
       "      <th></th>\n",
       "      <th>text</th>\n",
       "      <th>Positive</th>\n",
       "      <th>Negative</th>\n",
       "      <th>Neutral</th>\n",
       "      <th>Compound</th>\n",
       "      <th>Sentiment</th>\n",
       "    </tr>\n",
       "  </thead>\n",
       "  <tbody>\n",
       "    <tr>\n",
       "      <th>0</th>\n",
       "      <td>Elon Musk took over Twitter. If anyone doesn't...</td>\n",
       "      <td>0.00</td>\n",
       "      <td>0.000</td>\n",
       "      <td>1.000</td>\n",
       "      <td>0.0000</td>\n",
       "      <td>Neutral</td>\n",
       "    </tr>\n",
       "    <tr>\n",
       "      <th>1</th>\n",
       "      <td>Why is this Twitter buyout a good thing again?...</td>\n",
       "      <td>0.18</td>\n",
       "      <td>0.000</td>\n",
       "      <td>0.820</td>\n",
       "      <td>0.6199</td>\n",
       "      <td>Positive</td>\n",
       "    </tr>\n",
       "    <tr>\n",
       "      <th>2</th>\n",
       "      <td>Elon Musk’s Twitter layoffs are starting https...</td>\n",
       "      <td>0.00</td>\n",
       "      <td>0.000</td>\n",
       "      <td>1.000</td>\n",
       "      <td>0.0000</td>\n",
       "      <td>Neutral</td>\n",
       "    </tr>\n",
       "    <tr>\n",
       "      <th>3</th>\n",
       "      <td>Elon Musk is shocked\\n\\n@AntonioIvanchev,@tsek...</td>\n",
       "      <td>0.00</td>\n",
       "      <td>0.315</td>\n",
       "      <td>0.685</td>\n",
       "      <td>-0.3182</td>\n",
       "      <td>Negative</td>\n",
       "    </tr>\n",
       "    <tr>\n",
       "      <th>4</th>\n",
       "      <td>«An email went out to the company’s employees ...</td>\n",
       "      <td>0.00</td>\n",
       "      <td>0.050</td>\n",
       "      <td>0.950</td>\n",
       "      <td>-0.2732</td>\n",
       "      <td>Negative</td>\n",
       "    </tr>\n",
       "  </tbody>\n",
       "</table>\n",
       "</div>"
      ],
      "text/plain": [
       "                                                text  Positive  Negative  \\\n",
       "0  Elon Musk took over Twitter. If anyone doesn't...      0.00     0.000   \n",
       "1  Why is this Twitter buyout a good thing again?...      0.18     0.000   \n",
       "2  Elon Musk’s Twitter layoffs are starting https...      0.00     0.000   \n",
       "3  Elon Musk is shocked\\n\\n@AntonioIvanchev,@tsek...      0.00     0.315   \n",
       "4  «An email went out to the company’s employees ...      0.00     0.050   \n",
       "\n",
       "   Neutral  Compound Sentiment  \n",
       "0    1.000    0.0000   Neutral  \n",
       "1    0.820    0.6199  Positive  \n",
       "2    1.000    0.0000   Neutral  \n",
       "3    0.685   -0.3182  Negative  \n",
       "4    0.950   -0.2732  Negative  "
      ]
     },
     "execution_count": 7,
     "metadata": {},
     "output_type": "execute_result"
    }
   ],
   "source": [
    "score = tweets_raw[\"Compound\"].values\n",
    "sentiment = []\n",
    "for i in score:\n",
    "    if i >= 0.05 :\n",
    "        sentiment.append('Positive')\n",
    "    elif i <= -0.05 :\n",
    "        sentiment.append('Negative')\n",
    "    else:\n",
    "        sentiment.append('Neutral')\n",
    "tweets_raw[\"Sentiment\"] = sentiment\n",
    "tweets_raw.head()"
   ]
  },
  {
   "cell_type": "code",
   "execution_count": 8,
   "metadata": {},
   "outputs": [
    {
     "data": {
      "text/html": [
       "<div>\n",
       "<style scoped>\n",
       "    .dataframe tbody tr th:only-of-type {\n",
       "        vertical-align: middle;\n",
       "    }\n",
       "\n",
       "    .dataframe tbody tr th {\n",
       "        vertical-align: top;\n",
       "    }\n",
       "\n",
       "    .dataframe thead th {\n",
       "        text-align: right;\n",
       "    }\n",
       "</style>\n",
       "<table border=\"1\" class=\"dataframe\">\n",
       "  <thead>\n",
       "    <tr style=\"text-align: right;\">\n",
       "      <th></th>\n",
       "      <th>text</th>\n",
       "      <th>Sentiment</th>\n",
       "    </tr>\n",
       "  </thead>\n",
       "  <tbody>\n",
       "    <tr>\n",
       "      <th>0</th>\n",
       "      <td>Elon Musk took over Twitter. If anyone doesn't...</td>\n",
       "      <td>Neutral</td>\n",
       "    </tr>\n",
       "    <tr>\n",
       "      <th>1</th>\n",
       "      <td>Why is this Twitter buyout a good thing again?...</td>\n",
       "      <td>Positive</td>\n",
       "    </tr>\n",
       "    <tr>\n",
       "      <th>2</th>\n",
       "      <td>Elon Musk’s Twitter layoffs are starting https...</td>\n",
       "      <td>Neutral</td>\n",
       "    </tr>\n",
       "    <tr>\n",
       "      <th>3</th>\n",
       "      <td>Elon Musk is shocked\\n\\n@AntonioIvanchev,@tsek...</td>\n",
       "      <td>Negative</td>\n",
       "    </tr>\n",
       "    <tr>\n",
       "      <th>4</th>\n",
       "      <td>«An email went out to the company’s employees ...</td>\n",
       "      <td>Negative</td>\n",
       "    </tr>\n",
       "  </tbody>\n",
       "</table>\n",
       "</div>"
      ],
      "text/plain": [
       "                                                text Sentiment\n",
       "0  Elon Musk took over Twitter. If anyone doesn't...   Neutral\n",
       "1  Why is this Twitter buyout a good thing again?...  Positive\n",
       "2  Elon Musk’s Twitter layoffs are starting https...   Neutral\n",
       "3  Elon Musk is shocked\\n\\n@AntonioIvanchev,@tsek...  Negative\n",
       "4  «An email went out to the company’s employees ...  Negative"
      ]
     },
     "execution_count": 8,
     "metadata": {},
     "output_type": "execute_result"
    }
   ],
   "source": [
    "tweets_raw = tweets_raw[['text','Sentiment']]\n",
    "tweets_raw.head()"
   ]
  },
  {
   "cell_type": "code",
   "execution_count": 9,
   "metadata": {},
   "outputs": [
    {
     "data": {
      "text/plain": [
       "Negative    12037\n",
       "Neutral      9377\n",
       "Positive     8921\n",
       "Name: Sentiment, dtype: int64"
      ]
     },
     "execution_count": 9,
     "metadata": {},
     "output_type": "execute_result"
    }
   ],
   "source": [
    "tweets_raw['Sentiment'].value_counts()"
   ]
  },
  {
   "cell_type": "code",
   "execution_count": 10,
   "metadata": {
    "scrolled": false
   },
   "outputs": [
    {
     "data": {
      "text/plain": [
       "<AxesSubplot:xlabel='Sentiment', ylabel='count'>"
      ]
     },
     "execution_count": 10,
     "metadata": {},
     "output_type": "execute_result"
    },
    {
     "data": {
      "image/png": "[encoded data removed]",
      "text/plain": [
       "<Figure size 432x288 with 1 Axes>"
      ]
     },
     "metadata": {
      "needs_background": "light"
     },
     "output_type": "display_data"
    }
   ],
   "source": [
    "sns.countplot(tweets_raw['Sentiment'])"
   ]
  },
  {
   "cell_type": "code",
   "execution_count": 11,
   "metadata": {},
   "outputs": [],
   "source": [
    "X=tweets_raw.text\n",
    "y=tweets_raw.Sentiment\n",
    "\n",
    "X_train, X_test, y_train, y_test = train_test_split(X, y, test_size=0.2, random_state=42)"
   ]
  },
  {
   "cell_type": "code",
   "execution_count": 12,
   "metadata": {},
   "outputs": [],
   "source": [
    "cv_dict = {}\n",
    "def reportcrossval(model, model_name, X, Y):\n",
    "    cv_mean = cross_val_score(model, X, Y).mean()\n",
    "    cv_dict[model_name] = cv_mean\n",
    "    print(f\"The cv mean of {model_name} is {cv_mean}\")"
   ]
  },
  {
   "cell_type": "code",
   "execution_count": 13,
   "metadata": {},
   "outputs": [],
   "source": [
    "pipe_dummy = Pipeline([('dummy', DummyClassifier(strategy='most_frequent'))], verbose=True)"
   ]
  },
  {
   "cell_type": "code",
   "execution_count": 14,
   "metadata": {
    "scrolled": true
   },
   "outputs": [
    {
     "name": "stdout",
     "output_type": "stream",
     "text": [
      "[Pipeline] ............. (step 1 of 1) Processing dummy, total=   0.0s\n",
      "[Pipeline] ............. (step 1 of 1) Processing dummy, total=   0.0s\n",
      "[Pipeline] ............. (step 1 of 1) Processing dummy, total=   0.0s\n",
      "[Pipeline] ............. (step 1 of 1) Processing dummy, total=   0.0s\n",
      "[Pipeline] ............. (step 1 of 1) Processing dummy, total=   0.0s\n",
      "The cv mean of Dummy is 0.39776660009470016\n"
     ]
    }
   ],
   "source": [
    "reportcrossval(pipe_dummy, 'Dummy', X_train, y_train)"
   ]
  },
  {
   "cell_type": "markdown",
   "metadata": {},
   "source": [
    "# pre-processing"
   ]
  },
  {
   "cell_type": "code",
   "execution_count": 15,
   "metadata": {
    "scrolled": true
   },
   "outputs": [
    {
     "data": {
      "text/plain": [
       "['i',\n",
       " 'me',\n",
       " 'my',\n",
       " 'myself',\n",
       " 'we',\n",
       " 'our',\n",
       " 'ours',\n",
       " 'ourselves',\n",
       " 'you',\n",
       " \"you're\",\n",
       " \"you've\",\n",
       " \"you'll\",\n",
       " \"you'd\",\n",
       " 'your',\n",
       " 'yours',\n",
       " 'yourself',\n",
       " 'yourselves',\n",
       " 'he',\n",
       " 'him',\n",
       " 'his',\n",
       " 'himself',\n",
       " 'she',\n",
       " \"she's\",\n",
       " 'her',\n",
       " 'hers',\n",
       " 'herself',\n",
       " 'it',\n",
       " \"it's\",\n",
       " 'its',\n",
       " 'itself',\n",
       " 'they',\n",
       " 'them',\n",
       " 'their',\n",
       " 'theirs',\n",
       " 'themselves',\n",
       " 'what',\n",
       " 'which',\n",
       " 'who',\n",
       " 'whom',\n",
       " 'this',\n",
       " 'that',\n",
       " \"that'll\",\n",
       " 'these',\n",
       " 'those',\n",
       " 'am',\n",
       " 'is',\n",
       " 'are',\n",
       " 'was',\n",
       " 'were',\n",
       " 'be',\n",
       " 'been',\n",
       " 'being',\n",
       " 'have',\n",
       " 'has',\n",
       " 'had',\n",
       " 'having',\n",
       " 'do',\n",
       " 'does',\n",
       " 'did',\n",
       " 'doing',\n",
       " 'a',\n",
       " 'an',\n",
       " 'the',\n",
       " 'and',\n",
       " 'but',\n",
       " 'if',\n",
       " 'or',\n",
       " 'because',\n",
       " 'as',\n",
       " 'until',\n",
       " 'while',\n",
       " 'of',\n",
       " 'at',\n",
       " 'by',\n",
       " 'for',\n",
       " 'with',\n",
       " 'about',\n",
       " 'against',\n",
       " 'between',\n",
       " 'into',\n",
       " 'through',\n",
       " 'during',\n",
       " 'before',\n",
       " 'after',\n",
       " 'above',\n",
       " 'below',\n",
       " 'to',\n",
       " 'from',\n",
       " 'up',\n",
       " 'down',\n",
       " 'in',\n",
       " 'out',\n",
       " 'on',\n",
       " 'off',\n",
       " 'over',\n",
       " 'under',\n",
       " 'again',\n",
       " 'further',\n",
       " 'then',\n",
       " 'once',\n",
       " 'here',\n",
       " 'there',\n",
       " 'when',\n",
       " 'where',\n",
       " 'why',\n",
       " 'how',\n",
       " 'all',\n",
       " 'any',\n",
       " 'both',\n",
       " 'each',\n",
       " 'few',\n",
       " 'more',\n",
       " 'most',\n",
       " 'other',\n",
       " 'some',\n",
       " 'such',\n",
       " 'no',\n",
       " 'nor',\n",
       " 'not',\n",
       " 'only',\n",
       " 'own',\n",
       " 'same',\n",
       " 'so',\n",
       " 'than',\n",
       " 'too',\n",
       " 'very',\n",
       " 's',\n",
       " 't',\n",
       " 'can',\n",
       " 'will',\n",
       " 'just',\n",
       " 'don',\n",
       " \"don't\",\n",
       " 'should',\n",
       " \"should've\",\n",
       " 'now',\n",
       " 'd',\n",
       " 'll',\n",
       " 'm',\n",
       " 'o',\n",
       " 're',\n",
       " 've',\n",
       " 'y',\n",
       " 'ain',\n",
       " 'aren',\n",
       " \"aren't\",\n",
       " 'couldn',\n",
       " \"couldn't\",\n",
       " 'didn',\n",
       " \"didn't\",\n",
       " 'doesn',\n",
       " \"doesn't\",\n",
       " 'hadn',\n",
       " \"hadn't\",\n",
       " 'hasn',\n",
       " \"hasn't\",\n",
       " 'haven',\n",
       " \"haven't\",\n",
       " 'isn',\n",
       " \"isn't\",\n",
       " 'ma',\n",
       " 'mightn',\n",
       " \"mightn't\",\n",
       " 'mustn',\n",
       " \"mustn't\",\n",
       " 'needn',\n",
       " \"needn't\",\n",
       " 'shan',\n",
       " \"shan't\",\n",
       " 'shouldn',\n",
       " \"shouldn't\",\n",
       " 'wasn',\n",
       " \"wasn't\",\n",
       " 'weren',\n",
       " \"weren't\",\n",
       " 'won',\n",
       " \"won't\",\n",
       " 'wouldn',\n",
       " \"wouldn't\"]"
      ]
     },
     "execution_count": 15,
     "metadata": {},
     "output_type": "execute_result"
    }
   ],
   "source": [
    "Stop_Words = stopwords.words('english')\n",
    "Stop_Words"
   ]
  },
  {
   "cell_type": "code",
   "execution_count": 16,
   "metadata": {},
   "outputs": [],
   "source": [
    "def get_wordnet_pos(tag):\n",
    "    '''\n",
    "    Translate nltk POS to wordnet tags\n",
    "    '''\n",
    "    \n",
    "    if tag.startswith('J'):\n",
    "        return wordnet.ADJ\n",
    "    elif tag.startswith('V'):\n",
    "        return wordnet.VERB\n",
    "    elif tag.startswith('N'):\n",
    "        return wordnet.NOUN\n",
    "    elif tag.startswith('R'):\n",
    "        return wordnet.ADV\n",
    "    else:\n",
    "        return wordnet.NOUN"
   ]
  },
  {
   "cell_type": "code",
   "execution_count": 17,
   "metadata": {},
   "outputs": [],
   "source": [
    "import numpy as np\n",
    "\n",
    "def Cleaning_tweets(df):\n",
    "    '''\n",
    "    This function will Clean the given dataframe from any URL's, Mentions, Hashtags, Punctuations, Numbers,etc.\n",
    "    and also lemmitize the words and returns a dataframe with cleaned tweet as a new column.\n",
    "    \n",
    "    '''  \n",
    "    stemmer = PorterStemmer()\n",
    "    s_stemmer = nltk.stem.SnowballStemmer(language=\"english\")\n",
    "    lemmatizer = WordNetLemmatizer()\n",
    "    \n",
    "    Extended_Stop_Words = stopwords.words('english')\n",
    "    Extended_Stop_Words.extend(['elon','musk','twitter'])\n",
    "    \n",
    "    def clean_tweet(tweet):\n",
    "        if type(tweet) == np.float:\n",
    "            return \"\"\n",
    "        temp = tweet.lower() # lower case the text\n",
    "        temp = re.sub(\"'\", \"\", temp) # to avoid removing contractions in english\n",
    "        temp = re.sub(\"@[A-Za-z0-9_]+\",\"\", temp) # removes mentions\n",
    "        temp = re.sub(\"#[A-Za-z0-9_]+\",\"\", temp) # removes hashtags\n",
    "        temp = re.sub('[0-9]+', '', temp)\n",
    "        temp = re.sub(r'http\\S+', '', temp) # removes URL's\n",
    "        temp = re.sub('[()!?]', ' ', temp) # removes special charecters\n",
    "        temp = re.sub('\\[.*?\\]',' ', temp) # further removes special charecters\n",
    "        temp = re.sub(\"[^a-z0-9]\",\" \", temp)\n",
    "        temp = temp.split() # splitting the words\n",
    "#        temp = [s_stemmer.stem(w) for w in temp if not w in Stop_Words] # Removes the stop words and Stemming\n",
    "        \n",
    "#        temp = [(word, get_wordnet_pos(word)) for word in temp if not word in Stop_Words]\n",
    "        temp = [lemmatizer.lemmatize(w) for w in temp if not w in Extended_Stop_Words] # Removes the stop words and Lemming\n",
    "        temp = \" \".join(word for word in temp) # join all words together\n",
    "        return temp\n",
    "    results = [clean_tweet(tw) for tw in list(df.text)] # iterete over each tweet and clean it based on above function\n",
    "    df['Cleaned_Text'] = results\n",
    "    return df "
   ]
  },
  {
   "cell_type": "code",
   "execution_count": 18,
   "metadata": {
    "scrolled": false
   },
   "outputs": [
    {
     "data": {
      "text/html": [
       "<div>\n",
       "<style scoped>\n",
       "    .dataframe tbody tr th:only-of-type {\n",
       "        vertical-align: middle;\n",
       "    }\n",
       "\n",
       "    .dataframe tbody tr th {\n",
       "        vertical-align: top;\n",
       "    }\n",
       "\n",
       "    .dataframe thead th {\n",
       "        text-align: right;\n",
       "    }\n",
       "</style>\n",
       "<table border=\"1\" class=\"dataframe\">\n",
       "  <thead>\n",
       "    <tr style=\"text-align: right;\">\n",
       "      <th></th>\n",
       "      <th>text</th>\n",
       "      <th>Sentiment</th>\n",
       "      <th>Cleaned_Text</th>\n",
       "    </tr>\n",
       "  </thead>\n",
       "  <tbody>\n",
       "    <tr>\n",
       "      <th>0</th>\n",
       "      <td>Elon Musk took over Twitter. If anyone doesn't...</td>\n",
       "      <td>Neutral</td>\n",
       "      <td>took anyone doesnt want leave dont let door hi...</td>\n",
       "    </tr>\n",
       "    <tr>\n",
       "      <th>1</th>\n",
       "      <td>Why is this Twitter buyout a good thing again?...</td>\n",
       "      <td>Positive</td>\n",
       "      <td>buyout good thing also always resting smug fac...</td>\n",
       "    </tr>\n",
       "    <tr>\n",
       "      <th>2</th>\n",
       "      <td>Elon Musk’s Twitter layoffs are starting https...</td>\n",
       "      <td>Neutral</td>\n",
       "      <td>layoff starting</td>\n",
       "    </tr>\n",
       "    <tr>\n",
       "      <th>3</th>\n",
       "      <td>Elon Musk is shocked\\n\\n@AntonioIvanchev,@tsek...</td>\n",
       "      <td>Negative</td>\n",
       "      <td>shocked</td>\n",
       "    </tr>\n",
       "    <tr>\n",
       "      <th>4</th>\n",
       "      <td>«An email went out to the company’s employees ...</td>\n",
       "      <td>Negative</td>\n",
       "      <td>email went company employee late thursday noti...</td>\n",
       "    </tr>\n",
       "    <tr>\n",
       "      <th>...</th>\n",
       "      <td>...</td>\n",
       "      <td>...</td>\n",
       "      <td>...</td>\n",
       "    </tr>\n",
       "    <tr>\n",
       "      <th>30330</th>\n",
       "      <td>'No choice': Elon Musk justifies mass layoffs ...</td>\n",
       "      <td>Negative</td>\n",
       "      <td>choice justifies mass layoff</td>\n",
       "    </tr>\n",
       "    <tr>\n",
       "      <th>30331</th>\n",
       "      <td>Here's why Binance's CZ invested in Twitter fo...</td>\n",
       "      <td>Neutral</td>\n",
       "      <td>here binances cz invested following acquisitio...</td>\n",
       "    </tr>\n",
       "    <tr>\n",
       "      <th>30332</th>\n",
       "      <td>Elon Musk says Twitter had ‘no choice’ over th...</td>\n",
       "      <td>Neutral</td>\n",
       "      <td>say choice thousand layoff company losing per day</td>\n",
       "    </tr>\n",
       "    <tr>\n",
       "      <th>30333</th>\n",
       "      <td>Thousands of staff at social media company Twi...</td>\n",
       "      <td>Neutral</td>\n",
       "      <td>thousand staff social medium company job new o...</td>\n",
       "    </tr>\n",
       "    <tr>\n",
       "      <th>30334</th>\n",
       "      <td>Thousands of staff at social media company Twi...</td>\n",
       "      <td>Neutral</td>\n",
       "      <td>thousand staff social medium company job new o...</td>\n",
       "    </tr>\n",
       "  </tbody>\n",
       "</table>\n",
       "<p>30335 rows × 3 columns</p>\n",
       "</div>"
      ],
      "text/plain": [
       "                                                    text Sentiment  \\\n",
       "0      Elon Musk took over Twitter. If anyone doesn't...   Neutral   \n",
       "1      Why is this Twitter buyout a good thing again?...  Positive   \n",
       "2      Elon Musk’s Twitter layoffs are starting https...   Neutral   \n",
       "3      Elon Musk is shocked\\n\\n@AntonioIvanchev,@tsek...  Negative   \n",
       "4      «An email went out to the company’s employees ...  Negative   \n",
       "...                                                  ...       ...   \n",
       "30330  'No choice': Elon Musk justifies mass layoffs ...  Negative   \n",
       "30331  Here's why Binance's CZ invested in Twitter fo...   Neutral   \n",
       "30332  Elon Musk says Twitter had ‘no choice’ over th...   Neutral   \n",
       "30333  Thousands of staff at social media company Twi...   Neutral   \n",
       "30334  Thousands of staff at social media company Twi...   Neutral   \n",
       "\n",
       "                                            Cleaned_Text  \n",
       "0      took anyone doesnt want leave dont let door hi...  \n",
       "1      buyout good thing also always resting smug fac...  \n",
       "2                                        layoff starting  \n",
       "3                                                shocked  \n",
       "4      email went company employee late thursday noti...  \n",
       "...                                                  ...  \n",
       "30330                       choice justifies mass layoff  \n",
       "30331  here binances cz invested following acquisitio...  \n",
       "30332  say choice thousand layoff company losing per day  \n",
       "30333  thousand staff social medium company job new o...  \n",
       "30334  thousand staff social medium company job new o...  \n",
       "\n",
       "[30335 rows x 3 columns]"
      ]
     },
     "execution_count": 18,
     "metadata": {},
     "output_type": "execute_result"
    }
   ],
   "source": [
    "Cleaning_tweets(tweets_raw)"
   ]
  },
  {
   "cell_type": "code",
   "execution_count": 19,
   "metadata": {},
   "outputs": [
    {
     "data": {
      "text/plain": [
       "'email went company employee late thursday notifying employee plan cut job informing pacific time friday worker would receive email subject line role'"
      ]
     },
     "execution_count": 19,
     "metadata": {},
     "output_type": "execute_result"
    }
   ],
   "source": [
    "tweets_raw.Cleaned_Text.iloc[4]"
   ]
  },
  {
   "cell_type": "code",
   "execution_count": 20,
   "metadata": {
    "scrolled": false
   },
   "outputs": [
    {
     "data": {
      "text/plain": [
       "'«An email went out to the company’s employees late Thursday notifying employees of plans to cut jobs, informing them that by 9 a.m. Pacific time Friday, workers would receive an email with the subject line: “Your Role at Twitter.”» #Twitter #ChiefTwit  https://t.co/ypfkN5mHjS'"
      ]
     },
     "execution_count": 20,
     "metadata": {},
     "output_type": "execute_result"
    }
   ],
   "source": [
    "tweets_raw.text.iloc[4]"
   ]
  },
  {
   "cell_type": "code",
   "execution_count": 21,
   "metadata": {},
   "outputs": [],
   "source": [
    "def Tokenizing_tweets(df):\n",
    "    '''\n",
    "    This function will Clean the given dataframe from any URL's, Mentions, Hashtags, Punctuations, Numbers,etc.\n",
    "    and also lemmitize the words and returns a dataframe with cleaned tweet as a new column.\n",
    "    \n",
    "    '''  \n",
    "\n",
    "    Extended_Stop_Words = stopwords.words('english')\n",
    "    Extended_Stop_Words.extend(['elon','musk','twitter'])\n",
    "    def clean_tweet(tweet):\n",
    "        if type(tweet) == np.float:\n",
    "            return \"\"\n",
    "        temp = tweet.lower() # lower case the text\n",
    "        temp = re.sub(\"'\", \"\", temp) # to avoid removing contractions in english\n",
    "        temp = re.sub(\"@[A-Za-z0-9_]+\",\"\", temp) # removes mentions\n",
    "        temp = re.sub(\"#[A-Za-z0-9_]+\",\"\", temp) # removes hashtags\n",
    "        temp = re.sub(r'http\\S+', '', temp) # removes URL's\n",
    "        temp = re.sub('[()!?]', ' ', temp) # removes special charecters\n",
    "        temp = re.sub('\\[.*?\\]',' ', temp) # further removes special charecters\n",
    "        temp = re.sub(\"[^a-z0-9]\",\" \", temp)\n",
    "        temp = temp.split() # splitting the words\n",
    "        temp = [w for w in temp if not w in Extended_Stop_Words] # Removes the stop words and Lemming\n",
    "        return temp\n",
    "    results = [clean_tweet(tw) for tw in list(df.text)] # iterete over each tweet and clean it based on above function\n",
    "    df['Tokenized_Text'] = results\n",
    "    return df "
   ]
  },
  {
   "cell_type": "code",
   "execution_count": 22,
   "metadata": {},
   "outputs": [
    {
     "data": {
      "text/html": [
       "<div>\n",
       "<style scoped>\n",
       "    .dataframe tbody tr th:only-of-type {\n",
       "        vertical-align: middle;\n",
       "    }\n",
       "\n",
       "    .dataframe tbody tr th {\n",
       "        vertical-align: top;\n",
       "    }\n",
       "\n",
       "    .dataframe thead th {\n",
       "        text-align: right;\n",
       "    }\n",
       "</style>\n",
       "<table border=\"1\" class=\"dataframe\">\n",
       "  <thead>\n",
       "    <tr style=\"text-align: right;\">\n",
       "      <th></th>\n",
       "      <th>text</th>\n",
       "      <th>Sentiment</th>\n",
       "      <th>Cleaned_Text</th>\n",
       "      <th>Tokenized_Text</th>\n",
       "    </tr>\n",
       "  </thead>\n",
       "  <tbody>\n",
       "    <tr>\n",
       "      <th>0</th>\n",
       "      <td>Elon Musk took over Twitter. If anyone doesn't...</td>\n",
       "      <td>Neutral</td>\n",
       "      <td>took anyone doesnt want leave dont let door hi...</td>\n",
       "      <td>[took, anyone, doesnt, wants, leave, dont, let...</td>\n",
       "    </tr>\n",
       "    <tr>\n",
       "      <th>1</th>\n",
       "      <td>Why is this Twitter buyout a good thing again?...</td>\n",
       "      <td>Positive</td>\n",
       "      <td>buyout good thing also always resting smug fac...</td>\n",
       "      <td>[buyout, good, thing, also, always, resting, s...</td>\n",
       "    </tr>\n",
       "    <tr>\n",
       "      <th>2</th>\n",
       "      <td>Elon Musk’s Twitter layoffs are starting https...</td>\n",
       "      <td>Neutral</td>\n",
       "      <td>layoff starting</td>\n",
       "      <td>[layoffs, starting]</td>\n",
       "    </tr>\n",
       "    <tr>\n",
       "      <th>3</th>\n",
       "      <td>Elon Musk is shocked\\n\\n@AntonioIvanchev,@tsek...</td>\n",
       "      <td>Negative</td>\n",
       "      <td>shocked</td>\n",
       "      <td>[shocked]</td>\n",
       "    </tr>\n",
       "    <tr>\n",
       "      <th>4</th>\n",
       "      <td>«An email went out to the company’s employees ...</td>\n",
       "      <td>Negative</td>\n",
       "      <td>email went company employee late thursday noti...</td>\n",
       "      <td>[email, went, company, employees, late, thursd...</td>\n",
       "    </tr>\n",
       "    <tr>\n",
       "      <th>...</th>\n",
       "      <td>...</td>\n",
       "      <td>...</td>\n",
       "      <td>...</td>\n",
       "      <td>...</td>\n",
       "    </tr>\n",
       "    <tr>\n",
       "      <th>30330</th>\n",
       "      <td>'No choice': Elon Musk justifies mass layoffs ...</td>\n",
       "      <td>Negative</td>\n",
       "      <td>choice justifies mass layoff</td>\n",
       "      <td>[choice, justifies, mass, layoffs]</td>\n",
       "    </tr>\n",
       "    <tr>\n",
       "      <th>30331</th>\n",
       "      <td>Here's why Binance's CZ invested in Twitter fo...</td>\n",
       "      <td>Neutral</td>\n",
       "      <td>here binances cz invested following acquisitio...</td>\n",
       "      <td>[heres, binances, cz, invested, following, acq...</td>\n",
       "    </tr>\n",
       "    <tr>\n",
       "      <th>30332</th>\n",
       "      <td>Elon Musk says Twitter had ‘no choice’ over th...</td>\n",
       "      <td>Neutral</td>\n",
       "      <td>say choice thousand layoff company losing per day</td>\n",
       "      <td>[says, choice, thousands, layoffs, company, lo...</td>\n",
       "    </tr>\n",
       "    <tr>\n",
       "      <th>30333</th>\n",
       "      <td>Thousands of staff at social media company Twi...</td>\n",
       "      <td>Neutral</td>\n",
       "      <td>thousand staff social medium company job new o...</td>\n",
       "      <td>[thousands, staff, social, media, company, job...</td>\n",
       "    </tr>\n",
       "    <tr>\n",
       "      <th>30334</th>\n",
       "      <td>Thousands of staff at social media company Twi...</td>\n",
       "      <td>Neutral</td>\n",
       "      <td>thousand staff social medium company job new o...</td>\n",
       "      <td>[thousands, staff, social, media, company, job...</td>\n",
       "    </tr>\n",
       "  </tbody>\n",
       "</table>\n",
       "<p>30335 rows × 4 columns</p>\n",
       "</div>"
      ],
      "text/plain": [
       "                                                    text Sentiment  \\\n",
       "0      Elon Musk took over Twitter. If anyone doesn't...   Neutral   \n",
       "1      Why is this Twitter buyout a good thing again?...  Positive   \n",
       "2      Elon Musk’s Twitter layoffs are starting https...   Neutral   \n",
       "3      Elon Musk is shocked\\n\\n@AntonioIvanchev,@tsek...  Negative   \n",
       "4      «An email went out to the company’s employees ...  Negative   \n",
       "...                                                  ...       ...   \n",
       "30330  'No choice': Elon Musk justifies mass layoffs ...  Negative   \n",
       "30331  Here's why Binance's CZ invested in Twitter fo...   Neutral   \n",
       "30332  Elon Musk says Twitter had ‘no choice’ over th...   Neutral   \n",
       "30333  Thousands of staff at social media company Twi...   Neutral   \n",
       "30334  Thousands of staff at social media company Twi...   Neutral   \n",
       "\n",
       "                                            Cleaned_Text  \\\n",
       "0      took anyone doesnt want leave dont let door hi...   \n",
       "1      buyout good thing also always resting smug fac...   \n",
       "2                                        layoff starting   \n",
       "3                                                shocked   \n",
       "4      email went company employee late thursday noti...   \n",
       "...                                                  ...   \n",
       "30330                       choice justifies mass layoff   \n",
       "30331  here binances cz invested following acquisitio...   \n",
       "30332  say choice thousand layoff company losing per day   \n",
       "30333  thousand staff social medium company job new o...   \n",
       "30334  thousand staff social medium company job new o...   \n",
       "\n",
       "                                          Tokenized_Text  \n",
       "0      [took, anyone, doesnt, wants, leave, dont, let...  \n",
       "1      [buyout, good, thing, also, always, resting, s...  \n",
       "2                                    [layoffs, starting]  \n",
       "3                                              [shocked]  \n",
       "4      [email, went, company, employees, late, thursd...  \n",
       "...                                                  ...  \n",
       "30330                 [choice, justifies, mass, layoffs]  \n",
       "30331  [heres, binances, cz, invested, following, acq...  \n",
       "30332  [says, choice, thousands, layoffs, company, lo...  \n",
       "30333  [thousands, staff, social, media, company, job...  \n",
       "30334  [thousands, staff, social, media, company, job...  \n",
       "\n",
       "[30335 rows x 4 columns]"
      ]
     },
     "execution_count": 22,
     "metadata": {},
     "output_type": "execute_result"
    }
   ],
   "source": [
    "Tokenizing_tweets(tweets_raw)"
   ]
  },
  {
   "cell_type": "code",
   "execution_count": 23,
   "metadata": {},
   "outputs": [],
   "source": [
    "Positive_sent = tweets_raw[tweets_raw['Sentiment']=='Positive']\n",
    "Negative_sent = tweets_raw[tweets_raw['Sentiment']=='Negative']\n",
    "Neutral_sent = tweets_raw[tweets_raw['Sentiment']=='Neutral']"
   ]
  },
  {
   "cell_type": "code",
   "execution_count": 24,
   "metadata": {},
   "outputs": [
    {
     "data": {
      "text/html": [
       "<style type=\"text/css\">\n",
       "#T_50e2b_row0_col1 {\n",
       "  background-color: #00441b;\n",
       "  color: #f1f1f1;\n",
       "}\n",
       "#T_50e2b_row1_col1 {\n",
       "  background-color: #70c274;\n",
       "  color: #000000;\n",
       "}\n",
       "#T_50e2b_row2_col1 {\n",
       "  background-color: #91d28e;\n",
       "  color: #000000;\n",
       "}\n",
       "#T_50e2b_row3_col1 {\n",
       "  background-color: #9ed798;\n",
       "  color: #000000;\n",
       "}\n",
       "#T_50e2b_row4_col1, #T_50e2b_row5_col1 {\n",
       "  background-color: #a7dba0;\n",
       "  color: #000000;\n",
       "}\n",
       "#T_50e2b_row6_col1 {\n",
       "  background-color: #bae3b3;\n",
       "  color: #000000;\n",
       "}\n",
       "#T_50e2b_row7_col1 {\n",
       "  background-color: #c9eac2;\n",
       "  color: #000000;\n",
       "}\n",
       "#T_50e2b_row8_col1 {\n",
       "  background-color: #dbf1d5;\n",
       "  color: #000000;\n",
       "}\n",
       "#T_50e2b_row9_col1 {\n",
       "  background-color: #e5f5e1;\n",
       "  color: #000000;\n",
       "}\n",
       "#T_50e2b_row10_col1 {\n",
       "  background-color: #e7f6e2;\n",
       "  color: #000000;\n",
       "}\n",
       "#T_50e2b_row11_col1 {\n",
       "  background-color: #edf8ea;\n",
       "  color: #000000;\n",
       "}\n",
       "#T_50e2b_row12_col1 {\n",
       "  background-color: #f0f9ec;\n",
       "  color: #000000;\n",
       "}\n",
       "#T_50e2b_row13_col1 {\n",
       "  background-color: #f1faee;\n",
       "  color: #000000;\n",
       "}\n",
       "#T_50e2b_row14_col1, #T_50e2b_row15_col1 {\n",
       "  background-color: #f4fbf2;\n",
       "  color: #000000;\n",
       "}\n",
       "#T_50e2b_row16_col1 {\n",
       "  background-color: #f5fbf2;\n",
       "  color: #000000;\n",
       "}\n",
       "#T_50e2b_row17_col1, #T_50e2b_row18_col1, #T_50e2b_row19_col1 {\n",
       "  background-color: #f7fcf5;\n",
       "  color: #000000;\n",
       "}\n",
       "</style>\n",
       "<table id=\"T_50e2b_\">\n",
       "  <thead>\n",
       "    <tr>\n",
       "      <th class=\"blank level0\" >&nbsp;</th>\n",
       "      <th class=\"col_heading level0 col0\" >Common_words</th>\n",
       "      <th class=\"col_heading level0 col1\" >count</th>\n",
       "    </tr>\n",
       "  </thead>\n",
       "  <tbody>\n",
       "    <tr>\n",
       "      <th id=\"T_50e2b_level0_row0\" class=\"row_heading level0 row0\" >0</th>\n",
       "      <td id=\"T_50e2b_row0_col0\" class=\"data row0 col0\" >like</td>\n",
       "      <td id=\"T_50e2b_row0_col1\" class=\"data row0 col1\" >1349</td>\n",
       "    </tr>\n",
       "    <tr>\n",
       "      <th id=\"T_50e2b_level0_row1\" class=\"row_heading level0 row1\" >1</th>\n",
       "      <td id=\"T_50e2b_row1_col0\" class=\"data row1 col0\" >free</td>\n",
       "      <td id=\"T_50e2b_row1_col1\" class=\"data row1 col1\" >879</td>\n",
       "    </tr>\n",
       "    <tr>\n",
       "      <th id=\"T_50e2b_level0_row2\" class=\"row_heading level0 row2\" >2</th>\n",
       "      <td id=\"T_50e2b_row2_col0\" class=\"data row2 col0\" >people</td>\n",
       "      <td id=\"T_50e2b_row2_col1\" class=\"data row2 col1\" >794</td>\n",
       "    </tr>\n",
       "    <tr>\n",
       "      <th id=\"T_50e2b_level0_row3\" class=\"row_heading level0 row3\" >3</th>\n",
       "      <td id=\"T_50e2b_row3_col0\" class=\"data row3 col0\" >help</td>\n",
       "      <td id=\"T_50e2b_row3_col1\" class=\"data row3 col1\" >762</td>\n",
       "    </tr>\n",
       "    <tr>\n",
       "      <th id=\"T_50e2b_level0_row4\" class=\"row_heading level0 row4\" >4</th>\n",
       "      <td id=\"T_50e2b_row4_col0\" class=\"data row4 col0\" >please</td>\n",
       "      <td id=\"T_50e2b_row4_col1\" class=\"data row4 col1\" >736</td>\n",
       "    </tr>\n",
       "    <tr>\n",
       "      <th id=\"T_50e2b_level0_row5\" class=\"row_heading level0 row5\" >5</th>\n",
       "      <td id=\"T_50e2b_row5_col0\" class=\"data row5 col0\" >speech</td>\n",
       "      <td id=\"T_50e2b_row5_col1\" class=\"data row5 col1\" >733</td>\n",
       "    </tr>\n",
       "    <tr>\n",
       "      <th id=\"T_50e2b_level0_row6\" class=\"row_heading level0 row6\" >6</th>\n",
       "      <td id=\"T_50e2b_row6_col0\" class=\"data row6 col0\" >need</td>\n",
       "      <td id=\"T_50e2b_row6_col1\" class=\"data row6 col1\" >676</td>\n",
       "    </tr>\n",
       "    <tr>\n",
       "      <th id=\"T_50e2b_level0_row7\" class=\"row_heading level0 row7\" >7</th>\n",
       "      <td id=\"T_50e2b_row7_col0\" class=\"data row7 col0\" >get</td>\n",
       "      <td id=\"T_50e2b_row7_col1\" class=\"data row7 col1\" >628</td>\n",
       "    </tr>\n",
       "    <tr>\n",
       "      <th id=\"T_50e2b_level0_row8\" class=\"row_heading level0 row8\" >8</th>\n",
       "      <td id=\"T_50e2b_row8_col0\" class=\"data row8 col0\" >employees</td>\n",
       "      <td id=\"T_50e2b_row8_col1\" class=\"data row8 col1\" >556</td>\n",
       "    </tr>\n",
       "    <tr>\n",
       "      <th id=\"T_50e2b_level0_row9\" class=\"row_heading level0 row9\" >9</th>\n",
       "      <td id=\"T_50e2b_row9_col0\" class=\"data row9 col0\" >musks</td>\n",
       "      <td id=\"T_50e2b_row9_col1\" class=\"data row9 col1\" >512</td>\n",
       "    </tr>\n",
       "    <tr>\n",
       "      <th id=\"T_50e2b_level0_row10\" class=\"row_heading level0 row10\" >10</th>\n",
       "      <td id=\"T_50e2b_row10_col0\" class=\"data row10 col0\" >good</td>\n",
       "      <td id=\"T_50e2b_row10_col1\" class=\"data row10 col1\" >502</td>\n",
       "    </tr>\n",
       "    <tr>\n",
       "      <th id=\"T_50e2b_level0_row11\" class=\"row_heading level0 row11\" >11</th>\n",
       "      <td id=\"T_50e2b_row11_col0\" class=\"data row11 col0\" >new</td>\n",
       "      <td id=\"T_50e2b_row11_col1\" class=\"data row11 col1\" >460</td>\n",
       "    </tr>\n",
       "    <tr>\n",
       "      <th id=\"T_50e2b_level0_row12\" class=\"row_heading level0 row12\" >12</th>\n",
       "      <td id=\"T_50e2b_row12_col0\" class=\"data row12 col0\" >would</td>\n",
       "      <td id=\"T_50e2b_row12_col1\" class=\"data row12 col1\" >444</td>\n",
       "    </tr>\n",
       "    <tr>\n",
       "      <th id=\"T_50e2b_level0_row13\" class=\"row_heading level0 row13\" >13</th>\n",
       "      <td id=\"T_50e2b_row13_col0\" class=\"data row13 col0\" >layoffs</td>\n",
       "      <td id=\"T_50e2b_row13_col1\" class=\"data row13 col1\" >435</td>\n",
       "    </tr>\n",
       "    <tr>\n",
       "      <th id=\"T_50e2b_level0_row14\" class=\"row_heading level0 row14\" >14</th>\n",
       "      <td id=\"T_50e2b_row14_col0\" class=\"data row14 col0\" >amp</td>\n",
       "      <td id=\"T_50e2b_row14_col1\" class=\"data row14 col1\" >413</td>\n",
       "    </tr>\n",
       "    <tr>\n",
       "      <th id=\"T_50e2b_level0_row15\" class=\"row_heading level0 row15\" >15</th>\n",
       "      <td id=\"T_50e2b_row15_col0\" class=\"data row15 col0\" >make</td>\n",
       "      <td id=\"T_50e2b_row15_col1\" class=\"data row15 col1\" >412</td>\n",
       "    </tr>\n",
       "    <tr>\n",
       "      <th id=\"T_50e2b_level0_row16\" class=\"row_heading level0 row16\" >16</th>\n",
       "      <td id=\"T_50e2b_row16_col0\" class=\"data row16 col0\" >think</td>\n",
       "      <td id=\"T_50e2b_row16_col1\" class=\"data row16 col1\" >411</td>\n",
       "    </tr>\n",
       "    <tr>\n",
       "      <th id=\"T_50e2b_level0_row17\" class=\"row_heading level0 row17\" >17</th>\n",
       "      <td id=\"T_50e2b_row17_col0\" class=\"data row17 col0\" >platform</td>\n",
       "      <td id=\"T_50e2b_row17_col1\" class=\"data row17 col1\" >396</td>\n",
       "    </tr>\n",
       "    <tr>\n",
       "      <th id=\"T_50e2b_level0_row18\" class=\"row_heading level0 row18\" >18</th>\n",
       "      <td id=\"T_50e2b_row18_col0\" class=\"data row18 col0\" >8</td>\n",
       "      <td id=\"T_50e2b_row18_col1\" class=\"data row18 col1\" >394</td>\n",
       "    </tr>\n",
       "    <tr>\n",
       "      <th id=\"T_50e2b_level0_row19\" class=\"row_heading level0 row19\" >19</th>\n",
       "      <td id=\"T_50e2b_row19_col0\" class=\"data row19 col0\" >company</td>\n",
       "      <td id=\"T_50e2b_row19_col1\" class=\"data row19 col1\" >393</td>\n",
       "    </tr>\n",
       "  </tbody>\n",
       "</table>\n"
      ],
      "text/plain": [
       "<pandas.io.formats.style.Styler at 0x2202e7fa040>"
      ]
     },
     "execution_count": 24,
     "metadata": {},
     "output_type": "execute_result"
    }
   ],
   "source": [
    "#MosT common positive words\n",
    "from collections import Counter\n",
    "\n",
    "top = Counter([item for sublist in Positive_sent['Tokenized_Text'] for item in sublist])\n",
    "temp_positive = pd.DataFrame(top.most_common(20))\n",
    "temp_positive.columns = ['Common_words','count']\n",
    "temp_positive.style.background_gradient(cmap='Greens')"
   ]
  },
  {
   "cell_type": "code",
   "execution_count": 25,
   "metadata": {
    "scrolled": false
   },
   "outputs": [
    {
     "data": {
      "text/html": [
       "<style type=\"text/css\">\n",
       "#T_6663c_row0_col1 {\n",
       "  background-color: #67000d;\n",
       "  color: #f1f1f1;\n",
       "}\n",
       "#T_6663c_row1_col1 {\n",
       "  background-color: #dc2924;\n",
       "  color: #f1f1f1;\n",
       "}\n",
       "#T_6663c_row2_col1 {\n",
       "  background-color: #fb7252;\n",
       "  color: #f1f1f1;\n",
       "}\n",
       "#T_6663c_row3_col1 {\n",
       "  background-color: #fc9879;\n",
       "  color: #000000;\n",
       "}\n",
       "#T_6663c_row4_col1, #T_6663c_row5_col1 {\n",
       "  background-color: #fc997a;\n",
       "  color: #000000;\n",
       "}\n",
       "#T_6663c_row6_col1 {\n",
       "  background-color: #fdc9b3;\n",
       "  color: #000000;\n",
       "}\n",
       "#T_6663c_row7_col1 {\n",
       "  background-color: #fdcbb6;\n",
       "  color: #000000;\n",
       "}\n",
       "#T_6663c_row8_col1 {\n",
       "  background-color: #fdcdb9;\n",
       "  color: #000000;\n",
       "}\n",
       "#T_6663c_row9_col1 {\n",
       "  background-color: #fdd5c4;\n",
       "  color: #000000;\n",
       "}\n",
       "#T_6663c_row10_col1 {\n",
       "  background-color: #fedfd0;\n",
       "  color: #000000;\n",
       "}\n",
       "#T_6663c_row11_col1 {\n",
       "  background-color: #fee5d8;\n",
       "  color: #000000;\n",
       "}\n",
       "#T_6663c_row12_col1 {\n",
       "  background-color: #fee7db;\n",
       "  color: #000000;\n",
       "}\n",
       "#T_6663c_row13_col1, #T_6663c_row14_col1 {\n",
       "  background-color: #fee9df;\n",
       "  color: #000000;\n",
       "}\n",
       "#T_6663c_row15_col1 {\n",
       "  background-color: #ffece4;\n",
       "  color: #000000;\n",
       "}\n",
       "#T_6663c_row16_col1 {\n",
       "  background-color: #ffefe8;\n",
       "  color: #000000;\n",
       "}\n",
       "#T_6663c_row17_col1 {\n",
       "  background-color: #fff2eb;\n",
       "  color: #000000;\n",
       "}\n",
       "#T_6663c_row18_col1 {\n",
       "  background-color: #fff4ee;\n",
       "  color: #000000;\n",
       "}\n",
       "#T_6663c_row19_col1 {\n",
       "  background-color: #fff5f0;\n",
       "  color: #000000;\n",
       "}\n",
       "</style>\n",
       "<table id=\"T_6663c_\">\n",
       "  <thead>\n",
       "    <tr>\n",
       "      <th class=\"blank level0\" >&nbsp;</th>\n",
       "      <th class=\"col_heading level0 col0\" >Common_words</th>\n",
       "      <th class=\"col_heading level0 col1\" >count</th>\n",
       "    </tr>\n",
       "  </thead>\n",
       "  <tbody>\n",
       "    <tr>\n",
       "      <th id=\"T_6663c_level0_row0\" class=\"row_heading level0 row0\" >0</th>\n",
       "      <td id=\"T_6663c_row0_col0\" class=\"data row0 col0\" >employees</td>\n",
       "      <td id=\"T_6663c_row0_col1\" class=\"data row0 col1\" >1571</td>\n",
       "    </tr>\n",
       "    <tr>\n",
       "      <th id=\"T_6663c_level0_row1\" class=\"row_heading level0 row1\" >1</th>\n",
       "      <td id=\"T_6663c_row1_col0\" class=\"data row1 col0\" >layoffs</td>\n",
       "      <td id=\"T_6663c_row1_col1\" class=\"data row1 col1\" >1252</td>\n",
       "    </tr>\n",
       "    <tr>\n",
       "      <th id=\"T_6663c_level0_row2\" class=\"row_heading level0 row2\" >2</th>\n",
       "      <td id=\"T_6663c_row2_col0\" class=\"data row2 col0\" >staff</td>\n",
       "      <td id=\"T_6663c_row2_col1\" class=\"data row2 col1\" >1029</td>\n",
       "    </tr>\n",
       "    <tr>\n",
       "      <th id=\"T_6663c_level0_row3\" class=\"row_heading level0 row3\" >3</th>\n",
       "      <td id=\"T_6663c_row3_col0\" class=\"data row3 col0\" >via</td>\n",
       "      <td id=\"T_6663c_row3_col1\" class=\"data row3 col1\" >908</td>\n",
       "    </tr>\n",
       "    <tr>\n",
       "      <th id=\"T_6663c_level0_row4\" class=\"row_heading level0 row4\" >4</th>\n",
       "      <td id=\"T_6663c_row4_col0\" class=\"data row4 col0\" >fired</td>\n",
       "      <td id=\"T_6663c_row4_col1\" class=\"data row4 col1\" >905</td>\n",
       "    </tr>\n",
       "    <tr>\n",
       "      <th id=\"T_6663c_level0_row5\" class=\"row_heading level0 row5\" >5</th>\n",
       "      <td id=\"T_6663c_row5_col0\" class=\"data row5 col0\" >people</td>\n",
       "      <td id=\"T_6663c_row5_col1\" class=\"data row5 col1\" >904</td>\n",
       "    </tr>\n",
       "    <tr>\n",
       "      <th id=\"T_6663c_level0_row6\" class=\"row_heading level0 row6\" >6</th>\n",
       "      <td id=\"T_6663c_row6_col0\" class=\"data row6 col0\" >advertisers</td>\n",
       "      <td id=\"T_6663c_row6_col1\" class=\"data row6 col1\" >748</td>\n",
       "    </tr>\n",
       "    <tr>\n",
       "      <th id=\"T_6663c_level0_row7\" class=\"row_heading level0 row7\" >7</th>\n",
       "      <td id=\"T_6663c_row7_col0\" class=\"data row7 col0\" >company</td>\n",
       "      <td id=\"T_6663c_row7_col1\" class=\"data row7 col1\" >743</td>\n",
       "    </tr>\n",
       "    <tr>\n",
       "      <th id=\"T_6663c_level0_row8\" class=\"row_heading level0 row8\" >8</th>\n",
       "      <td id=\"T_6663c_row8_col0\" class=\"data row8 col0\" >new</td>\n",
       "      <td id=\"T_6663c_row8_col1\" class=\"data row8 col1\" >733</td>\n",
       "    </tr>\n",
       "    <tr>\n",
       "      <th id=\"T_6663c_level0_row9\" class=\"row_heading level0 row9\" >9</th>\n",
       "      <td id=\"T_6663c_row9_col0\" class=\"data row9 col0\" >half</td>\n",
       "      <td id=\"T_6663c_row9_col1\" class=\"data row9 col1\" >707</td>\n",
       "    </tr>\n",
       "    <tr>\n",
       "      <th id=\"T_6663c_level0_row10\" class=\"row_heading level0 row10\" >10</th>\n",
       "      <td id=\"T_6663c_row10_col0\" class=\"data row10 col0\" >platform</td>\n",
       "      <td id=\"T_6663c_row10_col1\" class=\"data row10 col1\" >673</td>\n",
       "    </tr>\n",
       "    <tr>\n",
       "      <th id=\"T_6663c_level0_row11\" class=\"row_heading level0 row11\" >11</th>\n",
       "      <td id=\"T_6663c_row11_col0\" class=\"data row11 col0\" >make</td>\n",
       "      <td id=\"T_6663c_row11_col1\" class=\"data row11 col1\" >639</td>\n",
       "    </tr>\n",
       "    <tr>\n",
       "      <th id=\"T_6663c_level0_row12\" class=\"row_heading level0 row12\" >12</th>\n",
       "      <td id=\"T_6663c_row12_col0\" class=\"data row12 col0\" >musks</td>\n",
       "      <td id=\"T_6663c_row12_col1\" class=\"data row12 col1\" >628</td>\n",
       "    </tr>\n",
       "    <tr>\n",
       "      <th id=\"T_6663c_level0_row13\" class=\"row_heading level0 row13\" >13</th>\n",
       "      <td id=\"T_6663c_row13_col0\" class=\"data row13 col0\" >drop</td>\n",
       "      <td id=\"T_6663c_row13_col1\" class=\"data row13 col1\" >614</td>\n",
       "    </tr>\n",
       "    <tr>\n",
       "      <th id=\"T_6663c_level0_row14\" class=\"row_heading level0 row14\" >14</th>\n",
       "      <td id=\"T_6663c_row14_col0\" class=\"data row14 col0\" >cuts</td>\n",
       "      <td id=\"T_6663c_row14_col1\" class=\"data row14 col1\" >611</td>\n",
       "    </tr>\n",
       "    <tr>\n",
       "      <th id=\"T_6663c_level0_row15\" class=\"row_heading level0 row15\" >15</th>\n",
       "      <td id=\"T_6663c_row15_col0\" class=\"data row15 col0\" >says</td>\n",
       "      <td id=\"T_6663c_row15_col1\" class=\"data row15 col1\" >593</td>\n",
       "    </tr>\n",
       "    <tr>\n",
       "      <th id=\"T_6663c_level0_row16\" class=\"row_heading level0 row16\" >16</th>\n",
       "      <td id=\"T_6663c_row16_col0\" class=\"data row16 col0\" >mass</td>\n",
       "      <td id=\"T_6663c_row16_col1\" class=\"data row16 col1\" >577</td>\n",
       "    </tr>\n",
       "    <tr>\n",
       "      <th id=\"T_6663c_level0_row17\" class=\"row_heading level0 row17\" >17</th>\n",
       "      <td id=\"T_6663c_row17_col0\" class=\"data row17 col0\" >like</td>\n",
       "      <td id=\"T_6663c_row17_col1\" class=\"data row17 col1\" >561</td>\n",
       "    </tr>\n",
       "    <tr>\n",
       "      <th id=\"T_6663c_level0_row18\" class=\"row_heading level0 row18\" >18</th>\n",
       "      <td id=\"T_6663c_row18_col0\" class=\"data row18 col0\" >revenue</td>\n",
       "      <td id=\"T_6663c_row18_col1\" class=\"data row18 col1\" >549</td>\n",
       "    </tr>\n",
       "    <tr>\n",
       "      <th id=\"T_6663c_level0_row19\" class=\"row_heading level0 row19\" >19</th>\n",
       "      <td id=\"T_6663c_row19_col0\" class=\"data row19 col0\" >amp</td>\n",
       "      <td id=\"T_6663c_row19_col1\" class=\"data row19 col1\" >538</td>\n",
       "    </tr>\n",
       "  </tbody>\n",
       "</table>\n"
      ],
      "text/plain": [
       "<pandas.io.formats.style.Styler at 0x22030237d00>"
      ]
     },
     "execution_count": 25,
     "metadata": {},
     "output_type": "execute_result"
    }
   ],
   "source": [
    "#MosT common positive words\n",
    "from collections import Counter\n",
    "\n",
    "top = Counter([item for sublist in Negative_sent['Tokenized_Text'] for item in sublist])\n",
    "temp_positive = pd.DataFrame(top.most_common(20))\n",
    "temp_positive.columns = ['Common_words','count']\n",
    "temp_positive.style.background_gradient(cmap='Reds')"
   ]
  },
  {
   "cell_type": "code",
   "execution_count": 26,
   "metadata": {},
   "outputs": [
    {
     "data": {
      "text/html": [
       "<style type=\"text/css\">\n",
       "#T_c34c5_row0_col1 {\n",
       "  background-color: #08306b;\n",
       "  color: #f1f1f1;\n",
       "}\n",
       "#T_c34c5_row1_col1 {\n",
       "  background-color: #6dafd7;\n",
       "  color: #f1f1f1;\n",
       "}\n",
       "#T_c34c5_row2_col1 {\n",
       "  background-color: #a1cbe2;\n",
       "  color: #000000;\n",
       "}\n",
       "#T_c34c5_row3_col1 {\n",
       "  background-color: #a5cde3;\n",
       "  color: #000000;\n",
       "}\n",
       "#T_c34c5_row4_col1 {\n",
       "  background-color: #bfd8ed;\n",
       "  color: #000000;\n",
       "}\n",
       "#T_c34c5_row5_col1 {\n",
       "  background-color: #c2d9ee;\n",
       "  color: #000000;\n",
       "}\n",
       "#T_c34c5_row6_col1 {\n",
       "  background-color: #cadef0;\n",
       "  color: #000000;\n",
       "}\n",
       "#T_c34c5_row7_col1 {\n",
       "  background-color: #cddff1;\n",
       "  color: #000000;\n",
       "}\n",
       "#T_c34c5_row8_col1 {\n",
       "  background-color: #dfecf7;\n",
       "  color: #000000;\n",
       "}\n",
       "#T_c34c5_row9_col1 {\n",
       "  background-color: #e0ecf8;\n",
       "  color: #000000;\n",
       "}\n",
       "#T_c34c5_row10_col1 {\n",
       "  background-color: #e8f1fa;\n",
       "  color: #000000;\n",
       "}\n",
       "#T_c34c5_row11_col1 {\n",
       "  background-color: #ebf3fb;\n",
       "  color: #000000;\n",
       "}\n",
       "#T_c34c5_row12_col1 {\n",
       "  background-color: #eef5fc;\n",
       "  color: #000000;\n",
       "}\n",
       "#T_c34c5_row13_col1, #T_c34c5_row14_col1, #T_c34c5_row15_col1 {\n",
       "  background-color: #f5f9fe;\n",
       "  color: #000000;\n",
       "}\n",
       "#T_c34c5_row16_col1, #T_c34c5_row17_col1 {\n",
       "  background-color: #f6faff;\n",
       "  color: #000000;\n",
       "}\n",
       "#T_c34c5_row18_col1, #T_c34c5_row19_col1 {\n",
       "  background-color: #f7fbff;\n",
       "  color: #000000;\n",
       "}\n",
       "</style>\n",
       "<table id=\"T_c34c5_\">\n",
       "  <thead>\n",
       "    <tr>\n",
       "      <th class=\"blank level0\" >&nbsp;</th>\n",
       "      <th class=\"col_heading level0 col0\" >Common_words</th>\n",
       "      <th class=\"col_heading level0 col1\" >count</th>\n",
       "    </tr>\n",
       "  </thead>\n",
       "  <tbody>\n",
       "    <tr>\n",
       "      <th id=\"T_c34c5_level0_row0\" class=\"row_heading level0 row0\" >0</th>\n",
       "      <td id=\"T_c34c5_row0_col0\" class=\"data row0 col0\" >layoffs</td>\n",
       "      <td id=\"T_c34c5_row0_col1\" class=\"data row0 col1\" >2018</td>\n",
       "    </tr>\n",
       "    <tr>\n",
       "      <th id=\"T_c34c5_level0_row1\" class=\"row_heading level0 row1\" >1</th>\n",
       "      <td id=\"T_c34c5_row1_col0\" class=\"data row1 col0\" >mass</td>\n",
       "      <td id=\"T_c34c5_row1_col1\" class=\"data row1 col1\" >1140</td>\n",
       "    </tr>\n",
       "    <tr>\n",
       "      <th id=\"T_c34c5_level0_row2\" class=\"row_heading level0 row2\" >2</th>\n",
       "      <td id=\"T_c34c5_row2_col0\" class=\"data row2 col0\" >employees</td>\n",
       "      <td id=\"T_c34c5_row2_col1\" class=\"data row2 col1\" >916</td>\n",
       "    </tr>\n",
       "    <tr>\n",
       "      <th id=\"T_c34c5_level0_row3\" class=\"row_heading level0 row3\" >3</th>\n",
       "      <td id=\"T_c34c5_row3_col0\" class=\"data row3 col0\" >musks</td>\n",
       "      <td id=\"T_c34c5_row3_col1\" class=\"data row3 col1\" >893</td>\n",
       "    </tr>\n",
       "    <tr>\n",
       "      <th id=\"T_c34c5_level0_row4\" class=\"row_heading level0 row4\" >4</th>\n",
       "      <td id=\"T_c34c5_row4_col0\" class=\"data row4 col0\" >begin</td>\n",
       "      <td id=\"T_c34c5_row4_col1\" class=\"data row4 col1\" >752</td>\n",
       "    </tr>\n",
       "    <tr>\n",
       "      <th id=\"T_c34c5_level0_row5\" class=\"row_heading level0 row5\" >5</th>\n",
       "      <td id=\"T_c34c5_row5_col0\" class=\"data row5 col0\" >staff</td>\n",
       "      <td id=\"T_c34c5_row5_col1\" class=\"data row5 col1\" >741</td>\n",
       "    </tr>\n",
       "    <tr>\n",
       "      <th id=\"T_c34c5_level0_row6\" class=\"row_heading level0 row6\" >6</th>\n",
       "      <td id=\"T_c34c5_row6_col0\" class=\"data row6 col0\" >takeover</td>\n",
       "      <td id=\"T_c34c5_row6_col1\" class=\"data row6 col1\" >676</td>\n",
       "    </tr>\n",
       "    <tr>\n",
       "      <th id=\"T_c34c5_level0_row7\" class=\"row_heading level0 row7\" >7</th>\n",
       "      <td id=\"T_c34c5_row7_col0\" class=\"data row7 col0\" >via</td>\n",
       "      <td id=\"T_c34c5_row7_col1\" class=\"data row7 col1\" >657</td>\n",
       "    </tr>\n",
       "    <tr>\n",
       "      <th id=\"T_c34c5_level0_row8\" class=\"row_heading level0 row8\" >8</th>\n",
       "      <td id=\"T_c34c5_row8_col0\" class=\"data row8 col0\" >friday</td>\n",
       "      <td id=\"T_c34c5_row8_col1\" class=\"data row8 col1\" >486</td>\n",
       "    </tr>\n",
       "    <tr>\n",
       "      <th id=\"T_c34c5_level0_row9\" class=\"row_heading level0 row9\" >9</th>\n",
       "      <td id=\"T_c34c5_row9_col0\" class=\"data row9 col0\" >begins</td>\n",
       "      <td id=\"T_c34c5_row9_col1\" class=\"data row9 col1\" >480</td>\n",
       "    </tr>\n",
       "    <tr>\n",
       "      <th id=\"T_c34c5_level0_row10\" class=\"row_heading level0 row10\" >10</th>\n",
       "      <td id=\"T_c34c5_row10_col0\" class=\"data row10 col0\" >sued</td>\n",
       "      <td id=\"T_c34c5_row10_col1\" class=\"data row10 col1\" >414</td>\n",
       "    </tr>\n",
       "    <tr>\n",
       "      <th id=\"T_c34c5_level0_row11\" class=\"row_heading level0 row11\" >11</th>\n",
       "      <td id=\"T_c34c5_row11_col0\" class=\"data row11 col0\" >new</td>\n",
       "      <td id=\"T_c34c5_row11_col1\" class=\"data row11 col1\" >383</td>\n",
       "    </tr>\n",
       "    <tr>\n",
       "      <th id=\"T_c34c5_level0_row12\" class=\"row_heading level0 row12\" >12</th>\n",
       "      <td id=\"T_c34c5_row12_col0\" class=\"data row12 col0\" >company</td>\n",
       "      <td id=\"T_c34c5_row12_col1\" class=\"data row12 col1\" >368</td>\n",
       "    </tr>\n",
       "    <tr>\n",
       "      <th id=\"T_c34c5_level0_row13\" class=\"row_heading level0 row13\" >13</th>\n",
       "      <td id=\"T_c34c5_row13_col0\" class=\"data row13 col0\" >8</td>\n",
       "      <td id=\"T_c34c5_row13_col1\" class=\"data row13 col1\" >304</td>\n",
       "    </tr>\n",
       "    <tr>\n",
       "      <th id=\"T_c34c5_level0_row14\" class=\"row_heading level0 row14\" >14</th>\n",
       "      <td id=\"T_c34c5_row14_col0\" class=\"data row14 col0\" >week</td>\n",
       "      <td id=\"T_c34c5_row14_col1\" class=\"data row14 col1\" >304</td>\n",
       "    </tr>\n",
       "    <tr>\n",
       "      <th id=\"T_c34c5_level0_row15\" class=\"row_heading level0 row15\" >15</th>\n",
       "      <td id=\"T_c34c5_row15_col0\" class=\"data row15 col0\" >days</td>\n",
       "      <td id=\"T_c34c5_row15_col1\" class=\"data row15 col1\" >302</td>\n",
       "    </tr>\n",
       "    <tr>\n",
       "      <th id=\"T_c34c5_level0_row16\" class=\"row_heading level0 row16\" >16</th>\n",
       "      <td id=\"T_c34c5_row16_col0\" class=\"data row16 col0\" >email</td>\n",
       "      <td id=\"T_c34c5_row16_col1\" class=\"data row16 col1\" >292</td>\n",
       "    </tr>\n",
       "    <tr>\n",
       "      <th id=\"T_c34c5_level0_row17\" class=\"row_heading level0 row17\" >17</th>\n",
       "      <td id=\"T_c34c5_row17_col0\" class=\"data row17 col0\" >blue</td>\n",
       "      <td id=\"T_c34c5_row17_col1\" class=\"data row17 col1\" >289</td>\n",
       "    </tr>\n",
       "    <tr>\n",
       "      <th id=\"T_c34c5_level0_row18\" class=\"row_heading level0 row18\" >18</th>\n",
       "      <td id=\"T_c34c5_row18_col0\" class=\"data row18 col0\" >news</td>\n",
       "      <td id=\"T_c34c5_row18_col1\" class=\"data row18 col1\" >281</td>\n",
       "    </tr>\n",
       "    <tr>\n",
       "      <th id=\"T_c34c5_level0_row19\" class=\"row_heading level0 row19\" >19</th>\n",
       "      <td id=\"T_c34c5_row19_col0\" class=\"data row19 col0\" >social</td>\n",
       "      <td id=\"T_c34c5_row19_col1\" class=\"data row19 col1\" >280</td>\n",
       "    </tr>\n",
       "  </tbody>\n",
       "</table>\n"
      ],
      "text/plain": [
       "<pandas.io.formats.style.Styler at 0x22030258070>"
      ]
     },
     "execution_count": 26,
     "metadata": {},
     "output_type": "execute_result"
    }
   ],
   "source": [
    "#MosT common positive words\n",
    "from collections import Counter\n",
    "\n",
    "top = Counter([item for sublist in Neutral_sent['Tokenized_Text'] for item in sublist])\n",
    "temp_positive = pd.DataFrame(top.most_common(20))\n",
    "temp_positive.columns = ['Common_words','count']\n",
    "temp_positive.style.background_gradient(cmap='Blues')"
   ]
  },
  {
   "cell_type": "code",
   "execution_count": 27,
   "metadata": {},
   "outputs": [],
   "source": [
    "X=tweets_raw.Cleaned_Text\n",
    "y=tweets_raw.Sentiment\n",
    "y_NN=pd.get_dummies(tweets_raw.Sentiment)\n",
    "\n",
    "X_train, X_test, y_train, y_test = train_test_split(X, y, test_size=0.2, random_state=42)\n",
    "X_train_NN, X_test_NN, y_train_NN, y_test_NN = train_test_split(X, y_NN, test_size=0.2, random_state=42)"
   ]
  },
  {
   "cell_type": "code",
   "execution_count": 28,
   "metadata": {},
   "outputs": [],
   "source": [
    "def display_cross_validation_results(cross_val,model_name):\n",
    "    '''\n",
    "    Incoporate cross validation results into a pandas dataframe and display validation scores\n",
    "    '''\n",
    "    \n",
    "    cross_val_results = pd.DataFrame(cross_val)\n",
    "    \n",
    "    accuracy = cross_val_results['mean_test_accuracy'][0]\n",
    "    recall = cross_val_results['mean_test_recall'][0]\n",
    "    precision = cross_val_results['mean_test_precision'][0]\n",
    "    \n",
    "    print('Validation','='*60)\n",
    "    print(f'Validation results for {model_name}:')\n",
    "    print(f'Accuracy: {accuracy}')\n",
    "    print(f'Recall: {recall}')\n",
    "    print(f'Precision: {precision}\\n')"
   ]
  },
  {
   "cell_type": "code",
   "execution_count": 29,
   "metadata": {},
   "outputs": [],
   "source": [
    "def display_prediction_results(prediction, actuall, model_name):\n",
    "    '''\n",
    "    Get predictions for X_test samples and display scores\n",
    "    '''\n",
    "    \n",
    "    accuracy = accuracy_score(actuall,prediction)\n",
    "    recall = recall_score(actuall, prediction, average = 'micro')\n",
    "    precision = precision_score(actuall, prediction, average = 'micro')\n",
    "#    roc_auc_score = roc_auc_score(actuall, prediction,  average = 'micro')\n",
    "\n",
    "    print('='*60)\n",
    "    print(f'Predictions for: {model_name}')\n",
    "    print(f'Accuracy: {accuracy}')\n",
    "    print(f'Recall: {recall}')\n",
    "    print(f'Precision: {precision}')\n",
    "#    print(f'Roc_AUC Score: {roc_auc_score}\\n')"
   ]
  },
  {
   "cell_type": "code",
   "execution_count": 30,
   "metadata": {},
   "outputs": [],
   "source": [
    "def display_confusion_matrix_v2(actuall_y,predicted_y,model_name):\n",
    "    conf_matrix = confusion_matrix(y_true=actuall_y, y_pred=predicted_y)\n",
    "\n",
    "    fig, ax = plt.subplots(figsize=(6, 6))\n",
    "    ax.matshow(conf_matrix, cmap=plt.cm.Blues, alpha=0.3)\n",
    "    \n",
    "    for i in range(conf_matrix.shape[0]):\n",
    "        for j in range(conf_matrix.shape[1]):\n",
    "            ax.text(x=j, y=i,s=conf_matrix[i, j], va='center', ha='center', size='xx-large')\n",
    " \n",
    "    plt.xlabel('Predictions', fontsize=14)\n",
    "    plt.ylabel('Actuals', fontsize=14)\n",
    "    plt.title(f'Confusion Matrix for {model_name}');\n",
    "    save_image_as = 'confusion_matrix_' + '_'.join(model_name.split()) + ': ' \n",
    "    fig.savefig(save_image_as)\n",
    "    "
   ]
  },
  {
   "cell_type": "code",
   "execution_count": 31,
   "metadata": {},
   "outputs": [],
   "source": [
    "def display_confusion_matrix(model, X, y, model_name):\n",
    "    print(f'Confusion Matrix for Model: {model_name}')\n",
    "    plot_confusion_matrix(model,X,y)\n",
    "    print('='*80)\n",
    "    "
   ]
  },
  {
   "cell_type": "markdown",
   "metadata": {},
   "source": [
    "# TF_IDF Vectorizer"
   ]
  },
  {
   "cell_type": "code",
   "execution_count": 234,
   "metadata": {
    "scrolled": true
   },
   "outputs": [
    {
     "data": {
      "text/plain": [
       "0.7138206917490411"
      ]
     },
     "metadata": {},
     "output_type": "display_data"
    },
    {
     "data": {
      "text/plain": [
       "{'mnb__alpha': 1.0,\n",
       " 'tfidfvect__input': 'content',\n",
       " 'tfidfvect__ngram_range': (1, 1)}"
      ]
     },
     "metadata": {},
     "output_type": "display_data"
    }
   ],
   "source": [
    "# MultinomialNB\n",
    "# Use pipes to TF_IDF Vectorize X_train and then train MultinomialNB\n",
    "\n",
    "start = time.time()\n",
    "\n",
    "TF_mnb_pipe = Pipeline([('tfidfvect',TfidfVectorizer()), \n",
    "                 ('mnb', MultinomialNB())])\n",
    "\n",
    "grid_accuracy = make_scorer(accuracy_score)\n",
    "grid_recall_micro = make_scorer(recall_score, average = 'micro')\n",
    "grid_precision_micro = make_scorer(precision_score, average = 'micro')\n",
    "\n",
    "TF_mnb_params = {'tfidfvect__input' : ['content'],\n",
    "                 'tfidfvect__ngram_range': [(1, 1), (1, 2), (1, 3)],\n",
    "                 'mnb__alpha' : [1.0]}\n",
    "\n",
    "TF_mnb_model_grid = GridSearchCV(estimator = TF_mnb_pipe, param_grid = TF_mnb_params,\n",
    "                                scoring = {'accuracy' : grid_accuracy, \n",
    "                                           'recall' : grid_recall_micro,\n",
    "                                          'precision' : grid_precision_micro},\n",
    "                                refit = 'accuracy')\n",
    "\n",
    "TF_mnb_model_grid.fit(X_train,y_train)\n",
    "display(TF_mnb_model_grid.best_score_)\n",
    "display(TF_mnb_model_grid.best_params_)\n",
    "#end = time.time()\n",
    "#print(f'Training time: {end-start}')"
   ]
  },
  {
   "cell_type": "code",
   "execution_count": 237,
   "metadata": {},
   "outputs": [
    {
     "name": "stdout",
     "output_type": "stream",
     "text": [
      "Validation ============================================================\n",
      "Validation results for MultinomialNB with TF-IDF Vectorize:\n",
      "Accuracy: 0.7138206917490411\n",
      "Recall: 0.7138206917490411\n",
      "Precision: 0.7138206917490411\n",
      "\n",
      "============================================================\n",
      "Predictions for: MultinomialNB with TF-IDF Vectorize\n",
      "Accuracy: 0.7301796604582166\n",
      "Recall: 0.7301796604582166\n",
      "Precision: 0.7301796604582166\n"
     ]
    }
   ],
   "source": [
    "# Display cross validation results, make prediction for X_test \n",
    "# diplay results.  Use respective functions.\n",
    "\n",
    "model_name = 'MultinomialNB with TF-IDF Vectorize'\n",
    "\n",
    "display_cross_validation_results(TF_mnb_model_grid.cv_results_,model_name)\n",
    "\n",
    "y_hat_TF_MNB = TF_mnb_model_grid.predict(X_test)\n",
    "\n",
    "display_prediction_results(y_hat_TF_MNB, y_test,model_name)\n"
   ]
  },
  {
   "cell_type": "code",
   "execution_count": 238,
   "metadata": {
    "scrolled": true
   },
   "outputs": [
    {
     "name": "stdout",
     "output_type": "stream",
     "text": [
      "Confusion Matrix for Model: MultinomialNB with TF-IDF Vectorize\n",
      "================================================================================\n"
     ]
    },
    {
     "data": {
      "image/png": "[encoded data removed]",
      "text/plain": [
       "<Figure size 432x288 with 2 Axes>"
      ]
     },
     "metadata": {
      "needs_background": "light"
     },
     "output_type": "display_data"
    }
   ],
   "source": [
    "display_confusion_matrix(TF_mnb_model_grid, X_test,\n",
    "                         y_test,model_name)"
   ]
  },
  {
   "cell_type": "code",
   "execution_count": null,
   "metadata": {},
   "outputs": [],
   "source": [
    "results_df = pd.DataFrame(y_test)\n",
    "results_df['tweet_text'] = X_test\n",
    "y_pred_proba = TF_mnb_model_grid.predict_proba(X_test)\n",
    "y_pred_proba = pd.DataFrame(data = y_pred_proba, columns = ['pred_NG','pred_NU','pred_PS'])\n",
    "results_df.insert(loc = 2, column = 'pred_NG' , value = y_pred_proba['pred_NG'].values)\n",
    "results_df.insert(loc = 3, column = 'pred_NU' , value = y_pred_proba['pred_NU'].values)\n",
    "results_df.insert(loc = 4, column = 'pred_PS' , value = y_pred_proba['pred_PS'].values)\n",
    "results_df.insert(loc = 5, column = 'pred' , value = y_hat_TF_MNB)"
   ]
  },
  {
   "cell_type": "code",
   "execution_count": null,
   "metadata": {
    "scrolled": true
   },
   "outputs": [],
   "source": [
    "results_df"
   ]
  },
  {
   "cell_type": "code",
   "execution_count": null,
   "metadata": {
    "scrolled": true
   },
   "outputs": [],
   "source": [
    "errors_df = results_df[results_df['Sentiment'] != results_df['pred']]\n",
    "errors_df"
   ]
  },
  {
   "cell_type": "code",
   "execution_count": null,
   "metadata": {
    "scrolled": true
   },
   "outputs": [],
   "source": [
    "false_neg_df = errors_df[errors_df['Sentiment'] == 'Positive']\n",
    "false_neg_df_sort = false_neg_df.sort_values(by = 'pred_PS')\n",
    "\n",
    "false_neg_df_sort"
   ]
  },
  {
   "cell_type": "code",
   "execution_count": null,
   "metadata": {},
   "outputs": [],
   "source": [
    "most_confident_false_neg = false_neg_df_sort.iloc[0:6].tweet_text.values\n",
    "\n",
    "most_confident_false_neg"
   ]
  },
  {
   "cell_type": "code",
   "execution_count": 239,
   "metadata": {},
   "outputs": [
    {
     "data": {
      "text/plain": [
       "0.8494730150902967"
      ]
     },
     "metadata": {},
     "output_type": "display_data"
    },
    {
     "data": {
      "text/plain": [
       "{'lr__C': 100,\n",
       " 'lr__class_weight': None,\n",
       " 'lr__max_iter': 1000,\n",
       " 'lr__penalty': 'l1',\n",
       " 'lr__solver': 'liblinear',\n",
       " 'tfidfvect__input': 'content',\n",
       " 'tfidfvect__ngram_range': (1, 2)}"
      ]
     },
     "metadata": {},
     "output_type": "display_data"
    }
   ],
   "source": [
    "# LogisticRegression\n",
    "# Use pipes to TF_IDF Vectorize X_train and then train LogisticRegression\n",
    "\n",
    "TF_LR_pipe = Pipeline([('tfidfvect',TfidfVectorizer()), \n",
    "                 ('lr', LogisticRegression())])\n",
    "\n",
    "grid_accuracy = make_scorer(accuracy_score)\n",
    "grid_recall_micro = make_scorer(recall_score, average = 'micro')\n",
    "grid_precision_micro = make_scorer(precision_score, average = 'micro')\n",
    "\n",
    "TF_LR_params = {'tfidfvect__input' : ['content'],\n",
    "                 'tfidfvect__ngram_range': [(1, 2)],\n",
    "                 'lr__penalty' : ['l1'],\n",
    "                'lr__C' : [100],  # tried 1 and 100\n",
    "                'lr__class_weight' : [None],  # tried None and 'balanced'\n",
    "                'lr__solver' : ['liblinear'], # tried 'newton-cg', 'lbfgs', 'liblinear', 'sag', 'saga'\n",
    "                'lr__max_iter' : [1000]} # treid 100,1000\n",
    "\n",
    "TF_LR_model_grid = GridSearchCV(estimator = TF_LR_pipe, param_grid = TF_LR_params,\n",
    "                                scoring = {'accuracy' : grid_accuracy, \n",
    "                                           'recall' : grid_recall_micro,\n",
    "                                          'precision' : grid_precision_micro},\n",
    "                                refit = 'accuracy')\n",
    "\n",
    "TF_LR_model_grid.fit(X_train,y_train)\n",
    "display(TF_LR_model_grid.best_score_)\n",
    "display(TF_LR_model_grid.best_params_)\n",
    "#end = time.time()\n",
    "#print(f'Training time: {end-start}')"
   ]
  },
  {
   "cell_type": "code",
   "execution_count": 240,
   "metadata": {},
   "outputs": [
    {
     "name": "stdout",
     "output_type": "stream",
     "text": [
      "Validation ============================================================\n",
      "Validation results for Logistic Regression with TF-IDF Vectorize:\n",
      "Accuracy: 0.8494730150902967\n",
      "Recall: 0.8494730150902967\n",
      "Precision: 0.8494730150902967\n",
      "\n",
      "============================================================\n",
      "Predictions for: Logistic Regression with TF-IDF Vectorize\n",
      "Accuracy: 0.8633591560903247\n",
      "Recall: 0.8633591560903247\n",
      "Precision: 0.8633591560903247\n"
     ]
    }
   ],
   "source": [
    "# Display cross validation results, make prediction for X_test \n",
    "# diplay results.  Use respective functions.\n",
    "\n",
    "model_name = 'Logistic Regression with TF-IDF Vectorize'\n",
    "\n",
    "display_cross_validation_results(TF_LR_model_grid.cv_results_,model_name)\n",
    "\n",
    "y_hat_TF_LR = TF_LR_model_grid.predict(X_test)\n",
    "\n",
    "display_prediction_results(y_hat_TF_LR, y_test,model_name)\n"
   ]
  },
  {
   "cell_type": "code",
   "execution_count": 241,
   "metadata": {},
   "outputs": [
    {
     "name": "stdout",
     "output_type": "stream",
     "text": [
      "Confusion Matrix for Model: Logistic Regression with TF-IDF Vectorize\n",
      "================================================================================\n"
     ]
    },
    {
     "data": {
      "image/png": "[encoded data removed]",
      "text/plain": [
       "<Figure size 432x288 with 2 Axes>"
      ]
     },
     "metadata": {
      "needs_background": "light"
     },
     "output_type": "display_data"
    }
   ],
   "source": [
    "display_confusion_matrix(TF_LR_model_grid, X_test,\n",
    "                         y_test,model_name)"
   ]
  },
  {
   "cell_type": "markdown",
   "metadata": {},
   "source": [
    "# Count Vectorizer"
   ]
  },
  {
   "cell_type": "code",
   "execution_count": 242,
   "metadata": {
    "scrolled": true
   },
   "outputs": [
    {
     "data": {
      "text/plain": [
       "0.7265948426380838"
      ]
     },
     "metadata": {},
     "output_type": "display_data"
    },
    {
     "data": {
      "text/plain": [
       "{'countvect__input': 'content',\n",
       " 'countvect__ngram_range': (1, 3),\n",
       " 'mnb__alpha': 1.0}"
      ]
     },
     "metadata": {},
     "output_type": "display_data"
    }
   ],
   "source": [
    "# MultinomialNB\n",
    "# Use pipes to Count Vectorize X_train and then train MultinomialNB\n",
    "\n",
    "start = time.time()\n",
    "\n",
    "CT_mnb_pipe = Pipeline([('countvect',CountVectorizer()), \n",
    "                 ('mnb', MultinomialNB())])\n",
    "\n",
    "grid_accuracy = make_scorer(accuracy_score)\n",
    "grid_recall_micro = make_scorer(recall_score, average = 'micro')\n",
    "grid_precision_micro = make_scorer(precision_score, average = 'micro')\n",
    "\n",
    "CT_mnb_params = {'countvect__input' : ['content'],\n",
    "                 'countvect__ngram_range': [(1, 1), (1, 2), (1, 3)],\n",
    "                 'mnb__alpha' : [1.0]}\n",
    "\n",
    "CT_mnb_model_grid = GridSearchCV(estimator = CT_mnb_pipe, param_grid = CT_mnb_params,\n",
    "                                scoring = {'accuracy' : grid_accuracy, \n",
    "                                           'recall' : grid_recall_micro,\n",
    "                                          'precision' : grid_precision_micro},\n",
    "                                refit = 'accuracy')\n",
    "\n",
    "CT_mnb_model_grid.fit(X_train,y_train)\n",
    "display(CT_mnb_model_grid.best_score_)\n",
    "display(CT_mnb_model_grid.best_params_)\n",
    "#end = time.time()\n",
    "#print(f'Training time: {end-start}')"
   ]
  },
  {
   "cell_type": "code",
   "execution_count": 243,
   "metadata": {},
   "outputs": [
    {
     "name": "stdout",
     "output_type": "stream",
     "text": [
      "Validation ============================================================\n",
      "Validation results for MultinomialNB with Count Vectorize:\n",
      "Accuracy: 0.7108949807488069\n",
      "Recall: 0.7108949807488069\n",
      "Precision: 0.7108949807488069\n",
      "\n",
      "============================================================\n",
      "Predictions for: MultinomialNB with Count Vectorize\n",
      "Accuracy: 0.7389154442063622\n",
      "Recall: 0.7389154442063622\n",
      "Precision: 0.7389154442063622\n"
     ]
    }
   ],
   "source": [
    "# Display cross validation results, make prediction for X_test \n",
    "# diplay results.  Use respective functions.\n",
    "\n",
    "model_name = 'MultinomialNB with Count Vectorize'\n",
    "\n",
    "display_cross_validation_results(CT_mnb_model_grid.cv_results_,model_name)\n",
    "\n",
    "y_hat_CT_MNB = CT_mnb_model_grid.predict(X_test)\n",
    "\n",
    "display_prediction_results(y_hat_CT_MNB, y_test,model_name)"
   ]
  },
  {
   "cell_type": "code",
   "execution_count": 244,
   "metadata": {},
   "outputs": [
    {
     "name": "stdout",
     "output_type": "stream",
     "text": [
      "Confusion Matrix for Model: MultinomialNB with Count Vectorize\n",
      "================================================================================\n"
     ]
    },
    {
     "data": {
      "image/png": "[encoded data removed]",
      "text/plain": [
       "<Figure size 432x288 with 2 Axes>"
      ]
     },
     "metadata": {
      "needs_background": "light"
     },
     "output_type": "display_data"
    }
   ],
   "source": [
    "display_confusion_matrix(CT_mnb_model_grid, X_test,\n",
    "                         y_test,model_name)"
   ]
  },
  {
   "cell_type": "code",
   "execution_count": 245,
   "metadata": {},
   "outputs": [
    {
     "data": {
      "text/plain": [
       "0.8615875253253226"
      ]
     },
     "metadata": {},
     "output_type": "display_data"
    },
    {
     "data": {
      "text/plain": [
       "{'countvect__input': 'content',\n",
       " 'countvect__ngram_range': (1, 2),\n",
       " 'lr__C': 100,\n",
       " 'lr__class_weight': 'balanced',\n",
       " 'lr__max_iter': 1000,\n",
       " 'lr__penalty': 'l1',\n",
       " 'lr__solver': 'liblinear'}"
      ]
     },
     "metadata": {},
     "output_type": "display_data"
    }
   ],
   "source": [
    "# LogisticRegression\n",
    "# Use pipes to Count_Vectorizer Vectorize X_train and then train LogisticRegression\n",
    "\n",
    "CT_LR_pipe = Pipeline([('countvect',CountVectorizer()), \n",
    "                 ('lr', LogisticRegression())])\n",
    "\n",
    "grid_accuracy = make_scorer(accuracy_score)\n",
    "grid_recall_micro = make_scorer(recall_score, average = 'micro')\n",
    "grid_precision_micro = make_scorer(precision_score, average = 'micro')\n",
    "\n",
    "CT_LR_params = {'countvect__input' : ['content'],\n",
    "                 'countvect__ngram_range': [(1, 1), (1, 2)],\n",
    "                 'lr__penalty' : ['l1','l2'],\n",
    "                'lr__C' : [1.0, 100],  # tried 1 and 1000\n",
    "                'lr__class_weight' : ['balanced'],  # tried None and 'balanced'\n",
    "                'lr__solver' : ['liblinear','lbfgs'], # tried 'newton-cg', 'lbfgs', 'liblinear', 'sag', 'saga'\n",
    "                'lr__max_iter' : [100,1000]} # treid 100,1000 and 10000\n",
    "\n",
    "CT_LR_model_grid = GridSearchCV(estimator = CT_LR_pipe, param_grid = CT_LR_params,\n",
    "                                scoring = {'accuracy' : grid_accuracy, \n",
    "                                           'recall' : grid_recall_micro,\n",
    "                                          'precision' : grid_precision_micro},\n",
    "                                refit = 'accuracy')\n",
    "\n",
    "CT_LR_model_grid.fit(X_train,y_train)\n",
    "display(CT_LR_model_grid.best_score_)\n",
    "display(CT_LR_model_grid.best_params_)"
   ]
  },
  {
   "cell_type": "code",
   "execution_count": null,
   "metadata": {},
   "outputs": [],
   "source": [
    "# Display cross validation results, make prediction for X_test \n",
    "# diplay results.  Use respective functions.\n",
    "\n",
    "model_name = 'Logistic Regression with Count Vectorize'\n",
    "\n",
    "display_cross_validation_results(CT_mnb_model_grid.cv_results_,model_name)\n",
    "\n",
    "y_hat_CT_LR = CT_LR_model_grid.predict(X_test)\n",
    "\n",
    "display_prediction_results(y_hat_CT_LR, y_test,model_name)"
   ]
  },
  {
   "cell_type": "code",
   "execution_count": null,
   "metadata": {
    "scrolled": true
   },
   "outputs": [],
   "source": [
    "display_confusion_matrix(CT_LR_model_grid, X_test,\n",
    "                         y_test,model_name)"
   ]
  },
  {
   "cell_type": "code",
   "execution_count": null,
   "metadata": {},
   "outputs": [],
   "source": [
    "# KNearest Neighbor\n",
    "# Use pipes to CountVectorize X_train and then train KNearest Neighbor\n",
    "\n",
    "CT_KNN_pipe = Pipeline([('countvect',CountVectorizer()), \n",
    "                 ('knn', KNeighborsClassifier())])\n",
    "\n",
    "grid_accuracy = make_scorer(accuracy_score)\n",
    "grid_recall_micro = make_scorer(recall_score, average = 'micro')\n",
    "grid_precision_micro = make_scorer(precision_score, average = 'micro')\n",
    "\n",
    "CT_KNN_params = {'countvect__input' : ['content'],\n",
    "                 'countvect__ngram_range': [(1, 1), (1, 2)],\n",
    "                 'knn__n_neighbors' : [3,5,7],  # tried 3,7,21\n",
    "                'knn__weights' : ['distance', 'uniform'], # tried 'uniform\n",
    "                'knn__leaf_size' : [3,5,7]}  #tried 3,15,30,45  # tried None and 'balanced'\n",
    "\n",
    "CT_KNN_model_grid = GridSearchCV(estimator = CT_KNN_pipe, param_grid = CT_KNN_params,\n",
    "                                scoring = {'accuracy' : grid_accuracy, \n",
    "                                           'recall' : grid_recall_micro,\n",
    "                                          'precision' : grid_precision_micro},\n",
    "                                refit = 'accuracy')\n",
    "\n",
    "CT_KNN_model_grid.fit(X_train,y_train)\n",
    "display(CT_KNN_model_grid.best_score_)\n",
    "display(CT_KNN_model_grid.best_params_)\n"
   ]
  },
  {
   "cell_type": "code",
   "execution_count": null,
   "metadata": {},
   "outputs": [],
   "source": [
    "# Display cross validation results, make prediction for X_test \n",
    "# diplay results.  Use respective functions.\n",
    "\n",
    "model_name = 'K_Nearest Neighbor with Count Vectorize'\n",
    "\n",
    "display_cross_validation_results(CT_KNN_model_grid.cv_results_,model_name)\n",
    "\n",
    "y_hat_CT_KNN = CT_KNN_model_grid.predict(X_test)\n",
    "\n",
    "display_prediction_results(y_hat_CT_KNN, y_test,model_name)"
   ]
  },
  {
   "cell_type": "code",
   "execution_count": null,
   "metadata": {},
   "outputs": [],
   "source": [
    "display_confusion_matrix(CT_KNN_model_grid, X_test,\n",
    "                         y_test,model_name)"
   ]
  },
  {
   "cell_type": "code",
   "execution_count": null,
   "metadata": {},
   "outputs": [],
   "source": [
    "# Decision Tree \n",
    "# Use pipes to CountVectorize X_train and then train Decision Tree\n",
    "\n",
    "CT_DT_pipe = Pipeline([('countvect',CountVectorizer()), \n",
    "                 ('DT', DecisionTreeClassifier(random_state = 42, class_weight='balanced'))])\n",
    "\n",
    "grid_accuracy = make_scorer(accuracy_score)\n",
    "grid_recall_micro = make_scorer(recall_score, average = 'micro')\n",
    "grid_precision_micro = make_scorer(precision_score, average = 'micro')\n",
    "\n",
    "CT_DT_params = {'countvect__input' : ['content'],\n",
    "                 'countvect__ngram_range': [(1, 1), (1, 2)],\n",
    "                 'DT__max_depth': [15,20,30],\n",
    "                 'DT__min_samples_split': [6,10,15],\n",
    "                 'DT__criterion': ['gini']}\n",
    "\n",
    "CT_DT_model_grid = GridSearchCV(estimator = CT_DT_pipe, param_grid = CT_DT_params,\n",
    "                                scoring = {'accuracy' : grid_accuracy, \n",
    "                                           'recall' : grid_recall_micro,\n",
    "                                          'precision' : grid_precision_micro},\n",
    "                                refit = 'accuracy')\n",
    "\n",
    "CT_DT_model_grid.fit(X_train,y_train)\n",
    "display(CT_DT_model_grid.best_score_)\n",
    "display(CT_DT_model_grid.best_params_)"
   ]
  },
  {
   "cell_type": "code",
   "execution_count": null,
   "metadata": {},
   "outputs": [],
   "source": [
    "# Display cross validation results, make prediction for X_test \n",
    "# diplay results.  Use respective functions.\n",
    "\n",
    "model_name = 'Decision Tree with Count Vectorize'\n",
    "\n",
    "display_cross_validation_results(CT_DT_model_grid.cv_results_,model_name)\n",
    "\n",
    "y_hat_CT_DT = CT_DT_model_grid.predict(X_test)\n",
    "\n",
    "display_prediction_results(y_hat_CT_DT, y_test,model_name)"
   ]
  },
  {
   "cell_type": "code",
   "execution_count": null,
   "metadata": {},
   "outputs": [],
   "source": [
    "display_confusion_matrix(CT_DT_model_grid, X_test,\n",
    "                         y_test,model_name)"
   ]
  },
  {
   "cell_type": "code",
   "execution_count": null,
   "metadata": {},
   "outputs": [],
   "source": [
    "# RandomForest \n",
    "# Use pipes to CountVectorize X_train and then train RandomForest Classifier\n",
    "\n",
    "CT_RF_pipe = Pipeline([('countvect',CountVectorizer()), \n",
    "                 ('RF', RandomForestClassifier(random_state = 42, class_weight='balanced'))])\n",
    "\n",
    "grid_accuracy = make_scorer(accuracy_score)\n",
    "grid_recall_micro = make_scorer(recall_score, average = 'micro')\n",
    "grid_precision_micro = make_scorer(precision_score, average = 'micro')\n",
    "\n",
    "CT_RF_params = {'countvect__input' : ['content'],\n",
    "                 'countvect__ngram_range': [(1, 1), (1, 2)],\n",
    "                 'RF__n_estimators': [100],\n",
    "                 'RF__max_depth': [6, 8,10],\n",
    "                 'RF__min_samples_split': [10, 15],\n",
    "                 'RF__criterion': ['entropy','gini']\n",
    "}\n",
    "\n",
    "CT_RF_model_grid = GridSearchCV(estimator = CT_RF_pipe, param_grid = CT_RF_params,\n",
    "                                scoring = {'accuracy' : grid_accuracy, \n",
    "                                           'recall' : grid_recall_micro,\n",
    "                                          'precision' : grid_precision_micro},\n",
    "                                refit = 'accuracy')\n",
    "\n",
    "CT_RF_model_grid.fit(X_train,y_train)\n",
    "display(CT_RF_model_grid.best_score_)\n",
    "display(CT_RF_model_grid.best_params_)"
   ]
  },
  {
   "cell_type": "code",
   "execution_count": null,
   "metadata": {},
   "outputs": [],
   "source": [
    "# Display cross validation results, make prediction for X_test \n",
    "# diplay results.  Use respective functions.\n",
    "\n",
    "model_name = 'RandomForest with Count Vectorize'\n",
    "\n",
    "display_cross_validation_results(CT_RF_model_grid.cv_results_,model_name)\n",
    "\n",
    "y_hat_CT_RF = CT_RF_model_grid.predict(X_test)\n",
    "\n",
    "display_prediction_results(y_hat_CT_RF, y_test,model_name)"
   ]
  },
  {
   "cell_type": "code",
   "execution_count": null,
   "metadata": {},
   "outputs": [],
   "source": [
    "display_confusion_matrix(CT_RF_model_grid, X_test,\n",
    "                         y_test,model_name)"
   ]
  },
  {
   "cell_type": "code",
   "execution_count": null,
   "metadata": {},
   "outputs": [],
   "source": [
    "# SVC \n",
    "# Use pipes to CountVectorize X_train and then train SVC\n",
    "\n",
    "CT_SVC_pipe = Pipeline([('countvect',CountVectorizer()), \n",
    "                 ('svc', SVC(random_state = 42))])\n",
    "\n",
    "grid_accuracy = make_scorer(accuracy_score)\n",
    "grid_recall_micro = make_scorer(recall_score, average = 'micro')\n",
    "grid_precision_micro = make_scorer(precision_score, average = 'micro')\n",
    "\n",
    "CT_SVC_params = {'countvect__input' : ['content'],\n",
    "                 'countvect__ngram_range': [(1, 1), (1, 2)],\n",
    "                 'svc__kernel' : ['rbf'], # tried 'poly','rbf', 'sigmoid'\n",
    "                 'svc__degree' : [3], # tried 3,4,5\n",
    "                 'svc__C' : [1.0],  # tried 1 and 1000\n",
    "                 'svc__class_weight' : [None]} # tried None and 'balanced\n",
    "\n",
    "CT_SVC_model_grid = GridSearchCV(estimator = CT_SVC_pipe, param_grid = CT_SVC_params,\n",
    "                                scoring = {'accuracy' : grid_accuracy, \n",
    "                                           'recall' : grid_recall_micro,\n",
    "                                          'precision' : grid_precision_micro},\n",
    "                                refit = 'accuracy')\n",
    "\n",
    "CT_SVC_model_grid.fit(X_train,y_train)\n",
    "display(CT_SVC_model_grid.best_score_)\n",
    "display(CT_SVC_model_grid.best_params_)"
   ]
  },
  {
   "cell_type": "code",
   "execution_count": null,
   "metadata": {},
   "outputs": [],
   "source": [
    "# Display cross validation results, make prediction for X_test \n",
    "# diplay results.  Use respective functions.\n",
    "\n",
    "model_name = 'SVC with Count Vectorize'\n",
    "\n",
    "display_cross_validation_results(CT_SVC_model_grid.cv_results_,model_name)\n",
    "\n",
    "y_hat_CT_SVC = CT_SVC_model_grid.predict(X_test)\n",
    "\n",
    "display_prediction_results(y_hat_CT_SVC, y_test,model_name)"
   ]
  },
  {
   "cell_type": "code",
   "execution_count": null,
   "metadata": {
    "scrolled": true
   },
   "outputs": [],
   "source": [
    "display_confusion_matrix(CT_SVC_model_grid, X_test,\n",
    "                         y_test,model_name)"
   ]
  },
  {
   "cell_type": "code",
   "execution_count": null,
   "metadata": {},
   "outputs": [],
   "source": []
  },
  {
   "cell_type": "code",
   "execution_count": null,
   "metadata": {},
   "outputs": [],
   "source": []
  },
  {
   "cell_type": "code",
   "execution_count": 32,
   "metadata": {},
   "outputs": [],
   "source": [
    "#LSTM\n",
    "voc_size = 5000\n",
    "\n",
    "onehot_rep = [one_hot(words,voc_size)for words in list(X_train)]\n",
    "onehot_rep_test = [one_hot(words,voc_size)for words in list(X_test)]"
   ]
  },
  {
   "cell_type": "code",
   "execution_count": 33,
   "metadata": {},
   "outputs": [],
   "source": [
    "#Padding Sentences to make them of same size\n",
    "embedded_docs = pad_sequences(onehot_rep,padding='pre',maxlen=128)\n",
    "embedded_docs_test = pad_sequences(onehot_rep_test,padding='pre',maxlen=128)"
   ]
  },
  {
   "cell_type": "code",
   "execution_count": 34,
   "metadata": {
    "scrolled": true
   },
   "outputs": [
    {
     "data": {
      "text/plain": [
       "array([   0,    0,    0,    0,    0,    0,    0,    0,    0,    0,    0,\n",
       "          0,    0,    0,    0,    0,    0,    0,    0,    0,    0,    0,\n",
       "          0,    0,    0,    0,    0,    0,    0,    0,    0,    0,    0,\n",
       "          0,    0,    0,    0,    0,    0,    0,    0,    0,    0,    0,\n",
       "          0,    0,    0,    0,    0,    0,    0,    0,    0,    0,    0,\n",
       "          0,    0,    0,    0,    0,    0,    0,    0,    0,    0,    0,\n",
       "          0,    0,    0,    0,    0,    0,    0,    0,    0,    0,    0,\n",
       "          0,    0,    0,    0,    0,    0,    0,    0,    0,    0,    0,\n",
       "          0,    0,    0,    0,    0,    0,    0,    0,    0,    0,    0,\n",
       "          0,    0,    0,    0,    0,    0,    0,    0,    0,    0,    0,\n",
       "          0,    0,    0,    0,    0, 2323, 3189,   24, 3775, 1346, 2645,\n",
       "        154, 2074, 4749, 4225, 3315,  401, 3612])"
      ]
     },
     "execution_count": 34,
     "metadata": {},
     "output_type": "execute_result"
    }
   ],
   "source": [
    "embedded_docs[0]"
   ]
  },
  {
   "cell_type": "code",
   "execution_count": 35,
   "metadata": {},
   "outputs": [
    {
     "data": {
      "text/plain": [
       "((24268, 128), (24268, 3), (6067, 128))"
      ]
     },
     "execution_count": 35,
     "metadata": {},
     "output_type": "execute_result"
    }
   ],
   "source": [
    "#Converting into numpy array\n",
    "X_train_EMB = np.array(embedded_docs)\n",
    "y_train_EMB = np.array(y_train_NN)\n",
    "X_test_EMB = np.array(embedded_docs_test)\n",
    "X_train_EMB.shape,y_train_EMB.shape,X_test_EMB.shape"
   ]
  },
  {
   "cell_type": "code",
   "execution_count": 74,
   "metadata": {
    "collapsed": true
   },
   "outputs": [
    {
     "name": "stdout",
     "output_type": "stream",
     "text": [
      "Model: \"sequential_16\"\n",
      "_________________________________________________________________\n",
      "Layer (type)                 Output Shape              Param #   \n",
      "=================================================================\n",
      "embedding_16 (Embedding)     (None, 50, 64)            320000    \n",
      "_________________________________________________________________\n",
      "dropout_27 (Dropout)         (None, 50, 64)            0         \n",
      "_________________________________________________________________\n",
      "lstm_14 (LSTM)               (None, 100)               66000     \n",
      "_________________________________________________________________\n",
      "dropout_28 (Dropout)         (None, 100)               0         \n",
      "_________________________________________________________________\n",
      "dense_16 (Dense)             (None, 64)                6464      \n",
      "_________________________________________________________________\n",
      "dropout_29 (Dropout)         (None, 64)                0         \n",
      "_________________________________________________________________\n",
      "dense_17 (Dense)             (None, 3)                 195       \n",
      "=================================================================\n",
      "Total params: 392,659\n",
      "Trainable params: 392,659\n",
      "Non-trainable params: 0\n",
      "_________________________________________________________________\n",
      "None\n"
     ]
    }
   ],
   "source": [
    "model = Sequential()\n",
    "model.add(Embedding(voc_size,64,input_length=50))\n",
    "model.add(Dropout(0.3))\n",
    "model.add(LSTM(100,kernel_regularizer=regularizers.L1(0.001)))\n",
    "model.add(Dropout(0.3))\n",
    "model.add(Dense(64,activation='relu',kernel_regularizer=regularizers.L1(0.001)))\n",
    "model.add(Dropout(0.3))\n",
    "model.add(Dense(3,activation='sigmoid',kernel_regularizer=regularizers.L1(0.001)))\n",
    "model.compile(loss='categorical_crossentropy',optimizer='adam',metrics=['accuracy','Recall','Precision'])\n",
    "print(model.summary())"
   ]
  },
  {
   "cell_type": "code",
   "execution_count": 75,
   "metadata": {
    "collapsed": true
   },
   "outputs": [
    {
     "name": "stdout",
     "output_type": "stream",
     "text": [
      "Epoch 1/10\n",
      "285/285 [==============================] - 28s 98ms/step - loss: 1.4065 - accuracy: 0.4805 - recall_10: 0.7180 - precision_10: 0.4436 - val_loss: 0.9661 - val_accuracy: 0.5405 - val_recall_10: 0.7414 - val_precision_10: 0.5100\n",
      "Epoch 2/10\n",
      "285/285 [==============================] - 28s 97ms/step - loss: 0.8893 - accuracy: 0.6005 - recall_10: 0.8087 - precision_10: 0.5402 - val_loss: 0.8626 - val_accuracy: 0.5985 - val_recall_10: 0.8068 - val_precision_10: 0.5502\n",
      "Epoch 3/10\n",
      "285/285 [==============================] - 28s 97ms/step - loss: 0.8094 - accuracy: 0.6338 - recall_10: 0.8443 - precision_10: 0.5651 - val_loss: 0.8427 - val_accuracy: 0.6046 - val_recall_10: 0.8111 - val_precision_10: 0.5509\n",
      "Epoch 4/10\n",
      "285/285 [==============================] - 28s 97ms/step - loss: 0.7728 - accuracy: 0.6449 - recall_10: 0.8458 - precision_10: 0.5759 - val_loss: 0.8322 - val_accuracy: 0.6092 - val_recall_10: 0.8210 - val_precision_10: 0.5499\n",
      "Epoch 5/10\n",
      "285/285 [==============================] - 28s 97ms/step - loss: 0.7514 - accuracy: 0.6528 - recall_10: 0.8411 - precision_10: 0.5836 - val_loss: 0.8390 - val_accuracy: 0.6099 - val_recall_10: 0.8233 - val_precision_10: 0.5464\n",
      "Epoch 6/10\n",
      "285/285 [==============================] - 28s 97ms/step - loss: 0.7372 - accuracy: 0.6573 - recall_10: 0.8301 - precision_10: 0.5928 - val_loss: 0.8395 - val_accuracy: 0.6105 - val_recall_10: 0.7994 - val_precision_10: 0.5606\n",
      "Epoch 7/10\n",
      "285/285 [==============================] - 27s 96ms/step - loss: 0.7246 - accuracy: 0.6625 - recall_10: 0.8185 - precision_10: 0.5979 - val_loss: 0.8578 - val_accuracy: 0.6075 - val_recall_10: 0.8133 - val_precision_10: 0.5538\n",
      "Epoch 8/10\n",
      "285/285 [==============================] - 28s 97ms/step - loss: 0.7147 - accuracy: 0.6636 - recall_10: 0.7991 - precision_10: 0.6066 - val_loss: 0.8415 - val_accuracy: 0.6087 - val_recall_10: 0.7399 - val_precision_10: 0.5840\n",
      "Epoch 9/10\n",
      "285/285 [==============================] - 28s 97ms/step - loss: 0.7066 - accuracy: 0.6651 - recall_10: 0.7791 - precision_10: 0.6157 - val_loss: 0.8524 - val_accuracy: 0.6104 - val_recall_10: 0.7249 - val_precision_10: 0.5914\n",
      "Epoch 10/10\n",
      "285/285 [==============================] - 28s 97ms/step - loss: 0.6978 - accuracy: 0.6689 - recall_10: 0.7498 - precision_10: 0.6233 - val_loss: 0.8428 - val_accuracy: 0.6104 - val_recall_10: 0.7017 - val_precision_10: 0.5956\n"
     ]
    }
   ],
   "source": [
    "tf.config.run_functions_eagerly(True)\n",
    "\n",
    "history = model.fit(X_train_EMB,y_train_EMB,epochs=10,batch_size=64, validation_split = 0.25 , verbose=1)"
   ]
  },
  {
   "cell_type": "code",
   "execution_count": 68,
   "metadata": {
    "collapsed": true
   },
   "outputs": [
    {
     "name": "stdout",
     "output_type": "stream",
     "text": [
      "Model: \"sequential_13\"\n",
      "_________________________________________________________________\n",
      "Layer (type)                 Output Shape              Param #   \n",
      "=================================================================\n",
      "embedding_13 (Embedding)     (None, 50, 128)           640000    \n",
      "_________________________________________________________________\n",
      "dropout_19 (Dropout)         (None, 50, 128)           0         \n",
      "_________________________________________________________________\n",
      "conv1d_12 (Conv1D)           (None, 50, 64)            24640     \n",
      "_________________________________________________________________\n",
      "max_pooling1d_10 (MaxPooling (None, 25, 64)            0         \n",
      "_________________________________________________________________\n",
      "bidirectional_10 (Bidirectio (None, 64)                24832     \n",
      "_________________________________________________________________\n",
      "dropout_20 (Dropout)         (None, 64)                0         \n",
      "_________________________________________________________________\n",
      "dense_11 (Dense)             (None, 3)                 195       \n",
      "=================================================================\n",
      "Total params: 689,667\n",
      "Trainable params: 689,667\n",
      "Non-trainable params: 0\n",
      "_________________________________________________________________\n",
      "None\n"
     ]
    }
   ],
   "source": [
    "epochs=30\n",
    "learning_rate = 0.1\n",
    "decay_rate = learning_rate / epochs\n",
    "momentum = 0.8\n",
    "sgd = SGD(lr=learning_rate, momentum=momentum, decay=decay_rate, nesterov=False)\n",
    "# Build model\n",
    "model= Sequential()\n",
    "model.add(Embedding(voc_size, 128, input_length=50))\n",
    "model.add(Dropout(0.5))\n",
    "model.add(Conv1D(filters=64, kernel_size=3, padding='same', activation='relu',kernel_regularizer=regularizers.L1(0.001)))\n",
    "model.add(MaxPooling1D(pool_size=2))\n",
    "model.add(Bidirectional(LSTM(32,kernel_regularizer=regularizers.L1(0.001))))\n",
    "model.add(Dropout(0.5))\n",
    "model.add(Dense(3, activation='softmax',kernel_regularizer=regularizers.L1(0.001)))\n",
    "model.compile(loss='categorical_crossentropy',optimizer=sgd,metrics=['accuracy','Recall','Precision'])\n",
    "print(model.summary())"
   ]
  },
  {
   "cell_type": "code",
   "execution_count": 39,
   "metadata": {},
   "outputs": [
    {
     "name": "stdout",
     "output_type": "stream",
     "text": [
      "Model: \"sequential_1\"\n",
      "_________________________________________________________________\n",
      "Layer (type)                 Output Shape              Param #   \n",
      "=================================================================\n",
      "embedding_1 (Embedding)      (None, 128, 64)           320000    \n",
      "_________________________________________________________________\n",
      "lstm_2 (LSTM)                (None, 128, 64)           33024     \n",
      "_________________________________________________________________\n",
      "lstm_3 (LSTM)                (None, 32)                12416     \n",
      "_________________________________________________________________\n",
      "dense_2 (Dense)              (None, 32)                1056      \n",
      "_________________________________________________________________\n",
      "dense_3 (Dense)              (None, 3)                 99        \n",
      "=================================================================\n",
      "Total params: 366,595\n",
      "Trainable params: 46,595\n",
      "Non-trainable params: 320,000\n",
      "_________________________________________________________________\n",
      "None\n"
     ]
    }
   ],
   "source": [
    "from keras.callbacks import ReduceLROnPlateau\n",
    "import keras\n",
    "\n",
    "learning_rate_reduction = ReduceLROnPlateau(monitor='val_accuracy', patience = 2, verbose=1,factor=0.5, min_lr=0.001)\n",
    "#Defining Neural Network\n",
    "model = Sequential()\n",
    "#Non-trainable embeddidng layer\n",
    "model.add(Embedding(5000, output_dim=64, input_length=128, trainable=False))\n",
    "#LSTM \n",
    "model.add(LSTM(units=64 , return_sequences = True , recurrent_dropout = 0.25 , dropout = 0.25))\n",
    "model.add(LSTM(units=32 , recurrent_dropout = 0.1 , dropout = 0.1))\n",
    "model.add(Dense(units = 32 , activation = 'relu'))\n",
    "model.add(Dense(3, activation='sigmoid'))\n",
    "model.compile(optimizer=keras.optimizers.Adam(lr = 0.001), loss='categorical_crossentropy', metrics=['accuracy'])\n",
    "print(model.summary())"
   ]
  },
  {
   "cell_type": "code",
   "execution_count": 40,
   "metadata": {
    "scrolled": true
   },
   "outputs": [
    {
     "name": "stdout",
     "output_type": "stream",
     "text": [
      "Epoch 1/30\n",
      "152/152 [==============================] - 170s 1s/step - loss: 1.0279 - accuracy: 0.4553 - val_loss: 1.0069 - val_accuracy: 0.4656\n",
      "Epoch 2/30\n",
      "152/152 [==============================] - 178s 1s/step - loss: 1.0013 - accuracy: 0.4784 - val_loss: 0.9949 - val_accuracy: 0.4778\n",
      "Epoch 3/30\n",
      "152/152 [==============================] - 168s 1s/step - loss: 0.9873 - accuracy: 0.4974 - val_loss: 0.9813 - val_accuracy: 0.4942\n",
      "Epoch 4/30\n",
      "152/152 [==============================] - 170s 1s/step - loss: 0.9782 - accuracy: 0.5050 - val_loss: 0.9717 - val_accuracy: 0.5072\n",
      "Epoch 5/30\n",
      "152/152 [==============================] - 168s 1s/step - loss: 0.9650 - accuracy: 0.5205 - val_loss: 0.9557 - val_accuracy: 0.5185\n",
      "Epoch 6/30\n",
      "152/152 [==============================] - 172s 1s/step - loss: 0.9544 - accuracy: 0.5281 - val_loss: 0.9478 - val_accuracy: 0.5218\n",
      "Epoch 7/30\n",
      "152/152 [==============================] - 176s 1s/step - loss: 0.9437 - accuracy: 0.5350 - val_loss: 0.9412 - val_accuracy: 0.5171\n",
      "Epoch 8/30\n",
      "152/152 [==============================] - 177s 1s/step - loss: 0.9386 - accuracy: 0.5393 - val_loss: 0.9301 - val_accuracy: 0.5260\n",
      "Epoch 9/30\n",
      "152/152 [==============================] - 177s 1s/step - loss: 0.9318 - accuracy: 0.5455 - val_loss: 0.9247 - val_accuracy: 0.5276\n",
      "Epoch 10/30\n",
      "152/152 [==============================] - 178s 1s/step - loss: 0.9251 - accuracy: 0.5486 - val_loss: 0.9237 - val_accuracy: 0.5371\n",
      "Epoch 11/30\n",
      "152/152 [==============================] - 178s 1s/step - loss: 0.9228 - accuracy: 0.5511 - val_loss: 0.9178 - val_accuracy: 0.5340\n",
      "Epoch 12/30\n",
      "152/152 [==============================] - 176s 1s/step - loss: 0.9183 - accuracy: 0.5531 - val_loss: 0.9131 - val_accuracy: 0.5453\n",
      "Epoch 13/30\n",
      "152/152 [==============================] - 178s 1s/step - loss: 0.9147 - accuracy: 0.5571 - val_loss: 0.9111 - val_accuracy: 0.5348\n",
      "Epoch 14/30\n",
      "152/152 [==============================] - 172s 1s/step - loss: 0.9097 - accuracy: 0.5573 - val_loss: 0.9066 - val_accuracy: 0.5445\n",
      "Epoch 15/30\n",
      " 35/152 [=====>........................] - ETA: 1:58 - loss: 0.9186 - accuracy: 0.5496"
     ]
    },
    {
     "ename": "KeyboardInterrupt",
     "evalue": "",
     "output_type": "error",
     "traceback": [
      "\u001b[1;31m---------------------------------------------------------------------------\u001b[0m",
      "\u001b[1;31mKeyboardInterrupt\u001b[0m                         Traceback (most recent call last)",
      "\u001b[1;32m<ipython-input-40-0dbf6be50c2a>\u001b[0m in \u001b[0;36m<module>\u001b[1;34m\u001b[0m\n\u001b[0;32m      1\u001b[0m \u001b[0mtf\u001b[0m\u001b[1;33m.\u001b[0m\u001b[0mconfig\u001b[0m\u001b[1;33m.\u001b[0m\u001b[0mrun_functions_eagerly\u001b[0m\u001b[1;33m(\u001b[0m\u001b[1;32mTrue\u001b[0m\u001b[1;33m)\u001b[0m\u001b[1;33m\u001b[0m\u001b[1;33m\u001b[0m\u001b[0m\n\u001b[0;32m      2\u001b[0m \u001b[1;33m\u001b[0m\u001b[0m\n\u001b[1;32m----> 3\u001b[1;33m \u001b[0mhistory\u001b[0m \u001b[1;33m=\u001b[0m \u001b[0mmodel\u001b[0m\u001b[1;33m.\u001b[0m\u001b[0mfit\u001b[0m\u001b[1;33m(\u001b[0m\u001b[0mX_train_EMB\u001b[0m\u001b[1;33m,\u001b[0m\u001b[0my_train_EMB\u001b[0m\u001b[1;33m,\u001b[0m\u001b[0mepochs\u001b[0m\u001b[1;33m=\u001b[0m\u001b[1;36m30\u001b[0m\u001b[1;33m,\u001b[0m\u001b[0mbatch_size\u001b[0m\u001b[1;33m=\u001b[0m\u001b[1;36m128\u001b[0m\u001b[1;33m,\u001b[0m \u001b[0mvalidation_split\u001b[0m \u001b[1;33m=\u001b[0m \u001b[1;36m0.20\u001b[0m \u001b[1;33m,\u001b[0m \u001b[0mverbose\u001b[0m\u001b[1;33m=\u001b[0m\u001b[1;36m1\u001b[0m\u001b[1;33m)\u001b[0m\u001b[1;33m\u001b[0m\u001b[1;33m\u001b[0m\u001b[0m\n\u001b[0m",
      "\u001b[1;32m~\\Documents\\Flatiron\\Anaconda\\envs\\learn-env\\lib\\site-packages\\tensorflow\\python\\keras\\engine\\training.py\u001b[0m in \u001b[0;36m_method_wrapper\u001b[1;34m(self, *args, **kwargs)\u001b[0m\n\u001b[0;32m    106\u001b[0m   \u001b[1;32mdef\u001b[0m \u001b[0m_method_wrapper\u001b[0m\u001b[1;33m(\u001b[0m\u001b[0mself\u001b[0m\u001b[1;33m,\u001b[0m \u001b[1;33m*\u001b[0m\u001b[0margs\u001b[0m\u001b[1;33m,\u001b[0m \u001b[1;33m**\u001b[0m\u001b[0mkwargs\u001b[0m\u001b[1;33m)\u001b[0m\u001b[1;33m:\u001b[0m\u001b[1;33m\u001b[0m\u001b[1;33m\u001b[0m\u001b[0m\n\u001b[0;32m    107\u001b[0m     \u001b[1;32mif\u001b[0m \u001b[1;32mnot\u001b[0m \u001b[0mself\u001b[0m\u001b[1;33m.\u001b[0m\u001b[0m_in_multi_worker_mode\u001b[0m\u001b[1;33m(\u001b[0m\u001b[1;33m)\u001b[0m\u001b[1;33m:\u001b[0m  \u001b[1;31m# pylint: disable=protected-access\u001b[0m\u001b[1;33m\u001b[0m\u001b[1;33m\u001b[0m\u001b[0m\n\u001b[1;32m--> 108\u001b[1;33m       \u001b[1;32mreturn\u001b[0m \u001b[0mmethod\u001b[0m\u001b[1;33m(\u001b[0m\u001b[0mself\u001b[0m\u001b[1;33m,\u001b[0m \u001b[1;33m*\u001b[0m\u001b[0margs\u001b[0m\u001b[1;33m,\u001b[0m \u001b[1;33m**\u001b[0m\u001b[0mkwargs\u001b[0m\u001b[1;33m)\u001b[0m\u001b[1;33m\u001b[0m\u001b[1;33m\u001b[0m\u001b[0m\n\u001b[0m\u001b[0;32m    109\u001b[0m \u001b[1;33m\u001b[0m\u001b[0m\n\u001b[0;32m    110\u001b[0m     \u001b[1;31m# Running inside `run_distribute_coordinator` already.\u001b[0m\u001b[1;33m\u001b[0m\u001b[1;33m\u001b[0m\u001b[1;33m\u001b[0m\u001b[0m\n",
      "\u001b[1;32m~\\Documents\\Flatiron\\Anaconda\\envs\\learn-env\\lib\\site-packages\\tensorflow\\python\\keras\\engine\\training.py\u001b[0m in \u001b[0;36mfit\u001b[1;34m(self, x, y, batch_size, epochs, verbose, callbacks, validation_split, validation_data, shuffle, class_weight, sample_weight, initial_epoch, steps_per_epoch, validation_steps, validation_batch_size, validation_freq, max_queue_size, workers, use_multiprocessing)\u001b[0m\n\u001b[0;32m   1096\u001b[0m                 batch_size=batch_size):\n\u001b[0;32m   1097\u001b[0m               \u001b[0mcallbacks\u001b[0m\u001b[1;33m.\u001b[0m\u001b[0mon_train_batch_begin\u001b[0m\u001b[1;33m(\u001b[0m\u001b[0mstep\u001b[0m\u001b[1;33m)\u001b[0m\u001b[1;33m\u001b[0m\u001b[1;33m\u001b[0m\u001b[0m\n\u001b[1;32m-> 1098\u001b[1;33m               \u001b[0mtmp_logs\u001b[0m \u001b[1;33m=\u001b[0m \u001b[0mtrain_function\u001b[0m\u001b[1;33m(\u001b[0m\u001b[0miterator\u001b[0m\u001b[1;33m)\u001b[0m\u001b[1;33m\u001b[0m\u001b[1;33m\u001b[0m\u001b[0m\n\u001b[0m\u001b[0;32m   1099\u001b[0m               \u001b[1;32mif\u001b[0m \u001b[0mdata_handler\u001b[0m\u001b[1;33m.\u001b[0m\u001b[0mshould_sync\u001b[0m\u001b[1;33m:\u001b[0m\u001b[1;33m\u001b[0m\u001b[1;33m\u001b[0m\u001b[0m\n\u001b[0;32m   1100\u001b[0m                 \u001b[0mcontext\u001b[0m\u001b[1;33m.\u001b[0m\u001b[0masync_wait\u001b[0m\u001b[1;33m(\u001b[0m\u001b[1;33m)\u001b[0m\u001b[1;33m\u001b[0m\u001b[1;33m\u001b[0m\u001b[0m\n",
      "\u001b[1;32m~\\Documents\\Flatiron\\Anaconda\\envs\\learn-env\\lib\\site-packages\\tensorflow\\python\\keras\\engine\\training.py\u001b[0m in \u001b[0;36mtrain_function\u001b[1;34m(iterator)\u001b[0m\n\u001b[0;32m    804\u001b[0m       \u001b[1;32mdef\u001b[0m \u001b[0mtrain_function\u001b[0m\u001b[1;33m(\u001b[0m\u001b[0miterator\u001b[0m\u001b[1;33m)\u001b[0m\u001b[1;33m:\u001b[0m\u001b[1;33m\u001b[0m\u001b[1;33m\u001b[0m\u001b[0m\n\u001b[0;32m    805\u001b[0m         \u001b[1;34m\"\"\"Runs a training execution with one step.\"\"\"\u001b[0m\u001b[1;33m\u001b[0m\u001b[1;33m\u001b[0m\u001b[0m\n\u001b[1;32m--> 806\u001b[1;33m         \u001b[1;32mreturn\u001b[0m \u001b[0mstep_function\u001b[0m\u001b[1;33m(\u001b[0m\u001b[0mself\u001b[0m\u001b[1;33m,\u001b[0m \u001b[0miterator\u001b[0m\u001b[1;33m)\u001b[0m\u001b[1;33m\u001b[0m\u001b[1;33m\u001b[0m\u001b[0m\n\u001b[0m\u001b[0;32m    807\u001b[0m \u001b[1;33m\u001b[0m\u001b[0m\n\u001b[0;32m    808\u001b[0m     \u001b[1;32melse\u001b[0m\u001b[1;33m:\u001b[0m\u001b[1;33m\u001b[0m\u001b[1;33m\u001b[0m\u001b[0m\n",
      "\u001b[1;32m~\\Documents\\Flatiron\\Anaconda\\envs\\learn-env\\lib\\site-packages\\tensorflow\\python\\keras\\engine\\training.py\u001b[0m in \u001b[0;36mstep_function\u001b[1;34m(model, iterator)\u001b[0m\n\u001b[0;32m    794\u001b[0m \u001b[1;33m\u001b[0m\u001b[0m\n\u001b[0;32m    795\u001b[0m       \u001b[0mdata\u001b[0m \u001b[1;33m=\u001b[0m \u001b[0mnext\u001b[0m\u001b[1;33m(\u001b[0m\u001b[0miterator\u001b[0m\u001b[1;33m)\u001b[0m\u001b[1;33m\u001b[0m\u001b[1;33m\u001b[0m\u001b[0m\n\u001b[1;32m--> 796\u001b[1;33m       \u001b[0moutputs\u001b[0m \u001b[1;33m=\u001b[0m \u001b[0mmodel\u001b[0m\u001b[1;33m.\u001b[0m\u001b[0mdistribute_strategy\u001b[0m\u001b[1;33m.\u001b[0m\u001b[0mrun\u001b[0m\u001b[1;33m(\u001b[0m\u001b[0mrun_step\u001b[0m\u001b[1;33m,\u001b[0m \u001b[0margs\u001b[0m\u001b[1;33m=\u001b[0m\u001b[1;33m(\u001b[0m\u001b[0mdata\u001b[0m\u001b[1;33m,\u001b[0m\u001b[1;33m)\u001b[0m\u001b[1;33m)\u001b[0m\u001b[1;33m\u001b[0m\u001b[1;33m\u001b[0m\u001b[0m\n\u001b[0m\u001b[0;32m    797\u001b[0m       outputs = reduce_per_replica(\n\u001b[0;32m    798\u001b[0m           outputs, self.distribute_strategy, reduction='first')\n",
      "\u001b[1;32m~\\Documents\\Flatiron\\Anaconda\\envs\\learn-env\\lib\\site-packages\\tensorflow\\python\\distribute\\distribute_lib.py\u001b[0m in \u001b[0;36mrun\u001b[1;34m(***failed resolving arguments***)\u001b[0m\n\u001b[0;32m   1209\u001b[0m       fn = autograph.tf_convert(\n\u001b[0;32m   1210\u001b[0m           fn, autograph_ctx.control_status_ctx(), convert_by_default=False)\n\u001b[1;32m-> 1211\u001b[1;33m       \u001b[1;32mreturn\u001b[0m \u001b[0mself\u001b[0m\u001b[1;33m.\u001b[0m\u001b[0m_extended\u001b[0m\u001b[1;33m.\u001b[0m\u001b[0mcall_for_each_replica\u001b[0m\u001b[1;33m(\u001b[0m\u001b[0mfn\u001b[0m\u001b[1;33m,\u001b[0m \u001b[0margs\u001b[0m\u001b[1;33m=\u001b[0m\u001b[0margs\u001b[0m\u001b[1;33m,\u001b[0m \u001b[0mkwargs\u001b[0m\u001b[1;33m=\u001b[0m\u001b[0mkwargs\u001b[0m\u001b[1;33m)\u001b[0m\u001b[1;33m\u001b[0m\u001b[1;33m\u001b[0m\u001b[0m\n\u001b[0m\u001b[0;32m   1212\u001b[0m \u001b[1;33m\u001b[0m\u001b[0m\n\u001b[0;32m   1213\u001b[0m   \u001b[1;31m# TODO(b/151224785): Remove deprecated alias.\u001b[0m\u001b[1;33m\u001b[0m\u001b[1;33m\u001b[0m\u001b[1;33m\u001b[0m\u001b[0m\n",
      "\u001b[1;32m~\\Documents\\Flatiron\\Anaconda\\envs\\learn-env\\lib\\site-packages\\tensorflow\\python\\distribute\\distribute_lib.py\u001b[0m in \u001b[0;36mcall_for_each_replica\u001b[1;34m(self, fn, args, kwargs)\u001b[0m\n\u001b[0;32m   2583\u001b[0m       \u001b[0mkwargs\u001b[0m \u001b[1;33m=\u001b[0m \u001b[1;33m{\u001b[0m\u001b[1;33m}\u001b[0m\u001b[1;33m\u001b[0m\u001b[1;33m\u001b[0m\u001b[0m\n\u001b[0;32m   2584\u001b[0m     \u001b[1;32mwith\u001b[0m \u001b[0mself\u001b[0m\u001b[1;33m.\u001b[0m\u001b[0m_container_strategy\u001b[0m\u001b[1;33m(\u001b[0m\u001b[1;33m)\u001b[0m\u001b[1;33m.\u001b[0m\u001b[0mscope\u001b[0m\u001b[1;33m(\u001b[0m\u001b[1;33m)\u001b[0m\u001b[1;33m:\u001b[0m\u001b[1;33m\u001b[0m\u001b[1;33m\u001b[0m\u001b[0m\n\u001b[1;32m-> 2585\u001b[1;33m       \u001b[1;32mreturn\u001b[0m \u001b[0mself\u001b[0m\u001b[1;33m.\u001b[0m\u001b[0m_call_for_each_replica\u001b[0m\u001b[1;33m(\u001b[0m\u001b[0mfn\u001b[0m\u001b[1;33m,\u001b[0m \u001b[0margs\u001b[0m\u001b[1;33m,\u001b[0m \u001b[0mkwargs\u001b[0m\u001b[1;33m)\u001b[0m\u001b[1;33m\u001b[0m\u001b[1;33m\u001b[0m\u001b[0m\n\u001b[0m\u001b[0;32m   2586\u001b[0m \u001b[1;33m\u001b[0m\u001b[0m\n\u001b[0;32m   2587\u001b[0m   \u001b[1;32mdef\u001b[0m \u001b[0m_call_for_each_replica\u001b[0m\u001b[1;33m(\u001b[0m\u001b[0mself\u001b[0m\u001b[1;33m,\u001b[0m \u001b[0mfn\u001b[0m\u001b[1;33m,\u001b[0m \u001b[0margs\u001b[0m\u001b[1;33m,\u001b[0m \u001b[0mkwargs\u001b[0m\u001b[1;33m)\u001b[0m\u001b[1;33m:\u001b[0m\u001b[1;33m\u001b[0m\u001b[1;33m\u001b[0m\u001b[0m\n",
      "\u001b[1;32m~\\Documents\\Flatiron\\Anaconda\\envs\\learn-env\\lib\\site-packages\\tensorflow\\python\\distribute\\distribute_lib.py\u001b[0m in \u001b[0;36m_call_for_each_replica\u001b[1;34m(self, fn, args, kwargs)\u001b[0m\n\u001b[0;32m   2943\u001b[0m         \u001b[0mself\u001b[0m\u001b[1;33m.\u001b[0m\u001b[0m_container_strategy\u001b[0m\u001b[1;33m(\u001b[0m\u001b[1;33m)\u001b[0m\u001b[1;33m,\u001b[0m\u001b[1;33m\u001b[0m\u001b[1;33m\u001b[0m\u001b[0m\n\u001b[0;32m   2944\u001b[0m         replica_id_in_sync_group=constant_op.constant(0, dtypes.int32)):\n\u001b[1;32m-> 2945\u001b[1;33m       \u001b[1;32mreturn\u001b[0m \u001b[0mfn\u001b[0m\u001b[1;33m(\u001b[0m\u001b[1;33m*\u001b[0m\u001b[0margs\u001b[0m\u001b[1;33m,\u001b[0m \u001b[1;33m**\u001b[0m\u001b[0mkwargs\u001b[0m\u001b[1;33m)\u001b[0m\u001b[1;33m\u001b[0m\u001b[1;33m\u001b[0m\u001b[0m\n\u001b[0m\u001b[0;32m   2946\u001b[0m \u001b[1;33m\u001b[0m\u001b[0m\n\u001b[0;32m   2947\u001b[0m   \u001b[1;32mdef\u001b[0m \u001b[0m_reduce_to\u001b[0m\u001b[1;33m(\u001b[0m\u001b[0mself\u001b[0m\u001b[1;33m,\u001b[0m \u001b[0mreduce_op\u001b[0m\u001b[1;33m,\u001b[0m \u001b[0mvalue\u001b[0m\u001b[1;33m,\u001b[0m \u001b[0mdestinations\u001b[0m\u001b[1;33m,\u001b[0m \u001b[0mexperimental_hints\u001b[0m\u001b[1;33m)\u001b[0m\u001b[1;33m:\u001b[0m\u001b[1;33m\u001b[0m\u001b[1;33m\u001b[0m\u001b[0m\n",
      "\u001b[1;32m~\\Documents\\Flatiron\\Anaconda\\envs\\learn-env\\lib\\site-packages\\tensorflow\\python\\autograph\\impl\\api.py\u001b[0m in \u001b[0;36mwrapper\u001b[1;34m(*args, **kwargs)\u001b[0m\n\u001b[0;32m    273\u001b[0m   \u001b[1;32mdef\u001b[0m \u001b[0mwrapper\u001b[0m\u001b[1;33m(\u001b[0m\u001b[1;33m*\u001b[0m\u001b[0margs\u001b[0m\u001b[1;33m,\u001b[0m \u001b[1;33m**\u001b[0m\u001b[0mkwargs\u001b[0m\u001b[1;33m)\u001b[0m\u001b[1;33m:\u001b[0m\u001b[1;33m\u001b[0m\u001b[1;33m\u001b[0m\u001b[0m\n\u001b[0;32m    274\u001b[0m     \u001b[1;32mwith\u001b[0m \u001b[0mag_ctx\u001b[0m\u001b[1;33m.\u001b[0m\u001b[0mControlStatusCtx\u001b[0m\u001b[1;33m(\u001b[0m\u001b[0mstatus\u001b[0m\u001b[1;33m=\u001b[0m\u001b[0mag_ctx\u001b[0m\u001b[1;33m.\u001b[0m\u001b[0mStatus\u001b[0m\u001b[1;33m.\u001b[0m\u001b[0mUNSPECIFIED\u001b[0m\u001b[1;33m)\u001b[0m\u001b[1;33m:\u001b[0m\u001b[1;33m\u001b[0m\u001b[1;33m\u001b[0m\u001b[0m\n\u001b[1;32m--> 275\u001b[1;33m       \u001b[1;32mreturn\u001b[0m \u001b[0mfunc\u001b[0m\u001b[1;33m(\u001b[0m\u001b[1;33m*\u001b[0m\u001b[0margs\u001b[0m\u001b[1;33m,\u001b[0m \u001b[1;33m**\u001b[0m\u001b[0mkwargs\u001b[0m\u001b[1;33m)\u001b[0m\u001b[1;33m\u001b[0m\u001b[1;33m\u001b[0m\u001b[0m\n\u001b[0m\u001b[0;32m    276\u001b[0m \u001b[1;33m\u001b[0m\u001b[0m\n\u001b[0;32m    277\u001b[0m   \u001b[1;32mif\u001b[0m \u001b[0minspect\u001b[0m\u001b[1;33m.\u001b[0m\u001b[0misfunction\u001b[0m\u001b[1;33m(\u001b[0m\u001b[0mfunc\u001b[0m\u001b[1;33m)\u001b[0m \u001b[1;32mor\u001b[0m \u001b[0minspect\u001b[0m\u001b[1;33m.\u001b[0m\u001b[0mismethod\u001b[0m\u001b[1;33m(\u001b[0m\u001b[0mfunc\u001b[0m\u001b[1;33m)\u001b[0m\u001b[1;33m:\u001b[0m\u001b[1;33m\u001b[0m\u001b[1;33m\u001b[0m\u001b[0m\n",
      "\u001b[1;32m~\\Documents\\Flatiron\\Anaconda\\envs\\learn-env\\lib\\site-packages\\tensorflow\\python\\keras\\engine\\training.py\u001b[0m in \u001b[0;36mrun_step\u001b[1;34m(data)\u001b[0m\n\u001b[0;32m    787\u001b[0m \u001b[1;33m\u001b[0m\u001b[0m\n\u001b[0;32m    788\u001b[0m       \u001b[1;32mdef\u001b[0m \u001b[0mrun_step\u001b[0m\u001b[1;33m(\u001b[0m\u001b[0mdata\u001b[0m\u001b[1;33m)\u001b[0m\u001b[1;33m:\u001b[0m\u001b[1;33m\u001b[0m\u001b[1;33m\u001b[0m\u001b[0m\n\u001b[1;32m--> 789\u001b[1;33m         \u001b[0moutputs\u001b[0m \u001b[1;33m=\u001b[0m \u001b[0mmodel\u001b[0m\u001b[1;33m.\u001b[0m\u001b[0mtrain_step\u001b[0m\u001b[1;33m(\u001b[0m\u001b[0mdata\u001b[0m\u001b[1;33m)\u001b[0m\u001b[1;33m\u001b[0m\u001b[1;33m\u001b[0m\u001b[0m\n\u001b[0m\u001b[0;32m    790\u001b[0m         \u001b[1;31m# Ensure counter is updated only if `train_step` succeeds.\u001b[0m\u001b[1;33m\u001b[0m\u001b[1;33m\u001b[0m\u001b[1;33m\u001b[0m\u001b[0m\n\u001b[0;32m    791\u001b[0m         \u001b[1;32mwith\u001b[0m \u001b[0mops\u001b[0m\u001b[1;33m.\u001b[0m\u001b[0mcontrol_dependencies\u001b[0m\u001b[1;33m(\u001b[0m\u001b[0m_minimum_control_deps\u001b[0m\u001b[1;33m(\u001b[0m\u001b[0moutputs\u001b[0m\u001b[1;33m)\u001b[0m\u001b[1;33m)\u001b[0m\u001b[1;33m:\u001b[0m\u001b[1;33m\u001b[0m\u001b[1;33m\u001b[0m\u001b[0m\n",
      "\u001b[1;32m~\\Documents\\Flatiron\\Anaconda\\envs\\learn-env\\lib\\site-packages\\tensorflow\\python\\keras\\engine\\training.py\u001b[0m in \u001b[0;36mtrain_step\u001b[1;34m(self, data)\u001b[0m\n\u001b[0;32m    754\u001b[0m     \u001b[1;31m# The _minimize call does a few extra steps unnecessary in most cases,\u001b[0m\u001b[1;33m\u001b[0m\u001b[1;33m\u001b[0m\u001b[1;33m\u001b[0m\u001b[0m\n\u001b[0;32m    755\u001b[0m     \u001b[1;31m# such as loss scaling and gradient clipping.\u001b[0m\u001b[1;33m\u001b[0m\u001b[1;33m\u001b[0m\u001b[1;33m\u001b[0m\u001b[0m\n\u001b[1;32m--> 756\u001b[1;33m     _minimize(self.distribute_strategy, tape, self.optimizer, loss,\n\u001b[0m\u001b[0;32m    757\u001b[0m               self.trainable_variables)\n\u001b[0;32m    758\u001b[0m \u001b[1;33m\u001b[0m\u001b[0m\n",
      "\u001b[1;32m~\\Documents\\Flatiron\\Anaconda\\envs\\learn-env\\lib\\site-packages\\tensorflow\\python\\keras\\engine\\training.py\u001b[0m in \u001b[0;36m_minimize\u001b[1;34m(strategy, tape, optimizer, loss, trainable_variables)\u001b[0m\n\u001b[0;32m   2720\u001b[0m       \u001b[0mloss\u001b[0m \u001b[1;33m=\u001b[0m \u001b[0moptimizer\u001b[0m\u001b[1;33m.\u001b[0m\u001b[0mget_scaled_loss\u001b[0m\u001b[1;33m(\u001b[0m\u001b[0mloss\u001b[0m\u001b[1;33m)\u001b[0m\u001b[1;33m\u001b[0m\u001b[1;33m\u001b[0m\u001b[0m\n\u001b[0;32m   2721\u001b[0m \u001b[1;33m\u001b[0m\u001b[0m\n\u001b[1;32m-> 2722\u001b[1;33m   \u001b[0mgradients\u001b[0m \u001b[1;33m=\u001b[0m \u001b[0mtape\u001b[0m\u001b[1;33m.\u001b[0m\u001b[0mgradient\u001b[0m\u001b[1;33m(\u001b[0m\u001b[0mloss\u001b[0m\u001b[1;33m,\u001b[0m \u001b[0mtrainable_variables\u001b[0m\u001b[1;33m)\u001b[0m\u001b[1;33m\u001b[0m\u001b[1;33m\u001b[0m\u001b[0m\n\u001b[0m\u001b[0;32m   2723\u001b[0m \u001b[1;33m\u001b[0m\u001b[0m\n\u001b[0;32m   2724\u001b[0m   \u001b[1;31m# Whether to aggregate gradients outside of optimizer. This requires support\u001b[0m\u001b[1;33m\u001b[0m\u001b[1;33m\u001b[0m\u001b[1;33m\u001b[0m\u001b[0m\n",
      "\u001b[1;32m~\\Documents\\Flatiron\\Anaconda\\envs\\learn-env\\lib\\site-packages\\tensorflow\\python\\eager\\backprop.py\u001b[0m in \u001b[0;36mgradient\u001b[1;34m(self, target, sources, output_gradients, unconnected_gradients)\u001b[0m\n\u001b[0;32m   1065\u001b[0m                           for x in nest.flatten(output_gradients)]\n\u001b[0;32m   1066\u001b[0m \u001b[1;33m\u001b[0m\u001b[0m\n\u001b[1;32m-> 1067\u001b[1;33m     flat_grad = imperative_grad.imperative_grad(\n\u001b[0m\u001b[0;32m   1068\u001b[0m         \u001b[0mself\u001b[0m\u001b[1;33m.\u001b[0m\u001b[0m_tape\u001b[0m\u001b[1;33m,\u001b[0m\u001b[1;33m\u001b[0m\u001b[1;33m\u001b[0m\u001b[0m\n\u001b[0;32m   1069\u001b[0m         \u001b[0mflat_targets\u001b[0m\u001b[1;33m,\u001b[0m\u001b[1;33m\u001b[0m\u001b[1;33m\u001b[0m\u001b[0m\n",
      "\u001b[1;32m~\\Documents\\Flatiron\\Anaconda\\envs\\learn-env\\lib\\site-packages\\tensorflow\\python\\eager\\imperative_grad.py\u001b[0m in \u001b[0;36mimperative_grad\u001b[1;34m(tape, target, sources, output_gradients, sources_raw, unconnected_gradients)\u001b[0m\n\u001b[0;32m     69\u001b[0m         \"Unknown value for unconnected_gradients: %r\" % unconnected_gradients)\n\u001b[0;32m     70\u001b[0m \u001b[1;33m\u001b[0m\u001b[0m\n\u001b[1;32m---> 71\u001b[1;33m   return pywrap_tfe.TFE_Py_TapeGradient(\n\u001b[0m\u001b[0;32m     72\u001b[0m       \u001b[0mtape\u001b[0m\u001b[1;33m.\u001b[0m\u001b[0m_tape\u001b[0m\u001b[1;33m,\u001b[0m  \u001b[1;31m# pylint: disable=protected-access\u001b[0m\u001b[1;33m\u001b[0m\u001b[1;33m\u001b[0m\u001b[0m\n\u001b[0;32m     73\u001b[0m       \u001b[0mtarget\u001b[0m\u001b[1;33m,\u001b[0m\u001b[1;33m\u001b[0m\u001b[1;33m\u001b[0m\u001b[0m\n",
      "\u001b[1;32m~\\Documents\\Flatiron\\Anaconda\\envs\\learn-env\\lib\\site-packages\\tensorflow\\python\\eager\\backprop.py\u001b[0m in \u001b[0;36m_gradient_function\u001b[1;34m(op_name, attr_tuple, num_inputs, inputs, outputs, out_grads, skip_input_indices, forward_pass_name_scope)\u001b[0m\n\u001b[0;32m    160\u001b[0m       \u001b[0mgradient_name_scope\u001b[0m \u001b[1;33m+=\u001b[0m \u001b[0mforward_pass_name_scope\u001b[0m \u001b[1;33m+\u001b[0m \u001b[1;34m\"/\"\u001b[0m\u001b[1;33m\u001b[0m\u001b[1;33m\u001b[0m\u001b[0m\n\u001b[0;32m    161\u001b[0m     \u001b[1;32mwith\u001b[0m \u001b[0mops\u001b[0m\u001b[1;33m.\u001b[0m\u001b[0mname_scope\u001b[0m\u001b[1;33m(\u001b[0m\u001b[0mgradient_name_scope\u001b[0m\u001b[1;33m)\u001b[0m\u001b[1;33m:\u001b[0m\u001b[1;33m\u001b[0m\u001b[1;33m\u001b[0m\u001b[0m\n\u001b[1;32m--> 162\u001b[1;33m       \u001b[1;32mreturn\u001b[0m \u001b[0mgrad_fn\u001b[0m\u001b[1;33m(\u001b[0m\u001b[0mmock_op\u001b[0m\u001b[1;33m,\u001b[0m \u001b[1;33m*\u001b[0m\u001b[0mout_grads\u001b[0m\u001b[1;33m)\u001b[0m\u001b[1;33m\u001b[0m\u001b[1;33m\u001b[0m\u001b[0m\n\u001b[0m\u001b[0;32m    163\u001b[0m   \u001b[1;32melse\u001b[0m\u001b[1;33m:\u001b[0m\u001b[1;33m\u001b[0m\u001b[1;33m\u001b[0m\u001b[0m\n\u001b[0;32m    164\u001b[0m     \u001b[1;32mreturn\u001b[0m \u001b[0mgrad_fn\u001b[0m\u001b[1;33m(\u001b[0m\u001b[0mmock_op\u001b[0m\u001b[1;33m,\u001b[0m \u001b[1;33m*\u001b[0m\u001b[0mout_grads\u001b[0m\u001b[1;33m)\u001b[0m\u001b[1;33m\u001b[0m\u001b[1;33m\u001b[0m\u001b[0m\n",
      "\u001b[1;32m~\\Documents\\Flatiron\\Anaconda\\envs\\learn-env\\lib\\site-packages\\tensorflow\\python\\ops\\math_grad.py\u001b[0m in \u001b[0;36m_DivNoNanGrad\u001b[1;34m(op, grad)\u001b[0m\n\u001b[0;32m   1427\u001b[0m   \u001b[0mx\u001b[0m \u001b[1;33m=\u001b[0m \u001b[0mop\u001b[0m\u001b[1;33m.\u001b[0m\u001b[0minputs\u001b[0m\u001b[1;33m[\u001b[0m\u001b[1;36m0\u001b[0m\u001b[1;33m]\u001b[0m\u001b[1;33m\u001b[0m\u001b[1;33m\u001b[0m\u001b[0m\n\u001b[0;32m   1428\u001b[0m   \u001b[0my\u001b[0m \u001b[1;33m=\u001b[0m \u001b[0mop\u001b[0m\u001b[1;33m.\u001b[0m\u001b[0minputs\u001b[0m\u001b[1;33m[\u001b[0m\u001b[1;36m1\u001b[0m\u001b[1;33m]\u001b[0m\u001b[1;33m\u001b[0m\u001b[1;33m\u001b[0m\u001b[0m\n\u001b[1;32m-> 1429\u001b[1;33m   \u001b[0msx\u001b[0m \u001b[1;33m=\u001b[0m \u001b[0marray_ops\u001b[0m\u001b[1;33m.\u001b[0m\u001b[0mshape\u001b[0m\u001b[1;33m(\u001b[0m\u001b[0mx\u001b[0m\u001b[1;33m)\u001b[0m\u001b[1;33m\u001b[0m\u001b[1;33m\u001b[0m\u001b[0m\n\u001b[0m\u001b[0;32m   1430\u001b[0m   \u001b[0msy\u001b[0m \u001b[1;33m=\u001b[0m \u001b[0marray_ops\u001b[0m\u001b[1;33m.\u001b[0m\u001b[0mshape\u001b[0m\u001b[1;33m(\u001b[0m\u001b[0my\u001b[0m\u001b[1;33m)\u001b[0m\u001b[1;33m\u001b[0m\u001b[1;33m\u001b[0m\u001b[0m\n\u001b[0;32m   1431\u001b[0m   \u001b[0mrx\u001b[0m\u001b[1;33m,\u001b[0m \u001b[0mry\u001b[0m \u001b[1;33m=\u001b[0m \u001b[0mgen_array_ops\u001b[0m\u001b[1;33m.\u001b[0m\u001b[0mbroadcast_gradient_args\u001b[0m\u001b[1;33m(\u001b[0m\u001b[0msx\u001b[0m\u001b[1;33m,\u001b[0m \u001b[0msy\u001b[0m\u001b[1;33m)\u001b[0m\u001b[1;33m\u001b[0m\u001b[1;33m\u001b[0m\u001b[0m\n",
      "\u001b[1;32m~\\Documents\\Flatiron\\Anaconda\\envs\\learn-env\\lib\\site-packages\\tensorflow\\python\\util\\dispatch.py\u001b[0m in \u001b[0;36mwrapper\u001b[1;34m(*args, **kwargs)\u001b[0m\n\u001b[0;32m    199\u001b[0m     \u001b[1;34m\"\"\"Call target, and fall back on dispatchers if there is a TypeError.\"\"\"\u001b[0m\u001b[1;33m\u001b[0m\u001b[1;33m\u001b[0m\u001b[0m\n\u001b[0;32m    200\u001b[0m     \u001b[1;32mtry\u001b[0m\u001b[1;33m:\u001b[0m\u001b[1;33m\u001b[0m\u001b[1;33m\u001b[0m\u001b[0m\n\u001b[1;32m--> 201\u001b[1;33m       \u001b[1;32mreturn\u001b[0m \u001b[0mtarget\u001b[0m\u001b[1;33m(\u001b[0m\u001b[1;33m*\u001b[0m\u001b[0margs\u001b[0m\u001b[1;33m,\u001b[0m \u001b[1;33m**\u001b[0m\u001b[0mkwargs\u001b[0m\u001b[1;33m)\u001b[0m\u001b[1;33m\u001b[0m\u001b[1;33m\u001b[0m\u001b[0m\n\u001b[0m\u001b[0;32m    202\u001b[0m     \u001b[1;32mexcept\u001b[0m \u001b[1;33m(\u001b[0m\u001b[0mTypeError\u001b[0m\u001b[1;33m,\u001b[0m \u001b[0mValueError\u001b[0m\u001b[1;33m)\u001b[0m\u001b[1;33m:\u001b[0m\u001b[1;33m\u001b[0m\u001b[1;33m\u001b[0m\u001b[0m\n\u001b[0;32m    203\u001b[0m       \u001b[1;31m# Note: convert_to_eager_tensor currently raises a ValueError, not a\u001b[0m\u001b[1;33m\u001b[0m\u001b[1;33m\u001b[0m\u001b[1;33m\u001b[0m\u001b[0m\n",
      "\u001b[1;32m~\\Documents\\Flatiron\\Anaconda\\envs\\learn-env\\lib\\site-packages\\tensorflow\\python\\ops\\array_ops.py\u001b[0m in \u001b[0;36mshape\u001b[1;34m(input, name, out_type)\u001b[0m\n\u001b[0;32m    626\u001b[0m     \u001b[0mA\u001b[0m\u001b[0;31m \u001b[0m\u001b[0;31m`\u001b[0m\u001b[0mTensor\u001b[0m\u001b[0;31m`\u001b[0m \u001b[0mof\u001b[0m \u001b[0mtype\u001b[0m\u001b[0;31m \u001b[0m\u001b[0;31m`\u001b[0m\u001b[0mout_type\u001b[0m\u001b[0;31m`\u001b[0m\u001b[1;33m.\u001b[0m\u001b[1;33m\u001b[0m\u001b[1;33m\u001b[0m\u001b[0m\n\u001b[0;32m    627\u001b[0m   \"\"\"\n\u001b[1;32m--> 628\u001b[1;33m   \u001b[1;32mreturn\u001b[0m \u001b[0mshape_internal\u001b[0m\u001b[1;33m(\u001b[0m\u001b[0minput\u001b[0m\u001b[1;33m,\u001b[0m \u001b[0mname\u001b[0m\u001b[1;33m,\u001b[0m \u001b[0moptimize\u001b[0m\u001b[1;33m=\u001b[0m\u001b[1;32mTrue\u001b[0m\u001b[1;33m,\u001b[0m \u001b[0mout_type\u001b[0m\u001b[1;33m=\u001b[0m\u001b[0mout_type\u001b[0m\u001b[1;33m)\u001b[0m\u001b[1;33m\u001b[0m\u001b[1;33m\u001b[0m\u001b[0m\n\u001b[0m\u001b[0;32m    629\u001b[0m \u001b[1;33m\u001b[0m\u001b[0m\n\u001b[0;32m    630\u001b[0m \u001b[1;33m\u001b[0m\u001b[0m\n",
      "\u001b[1;32m~\\Documents\\Flatiron\\Anaconda\\envs\\learn-env\\lib\\site-packages\\tensorflow\\python\\ops\\array_ops.py\u001b[0m in \u001b[0;36mshape_internal\u001b[1;34m(input, name, optimize, out_type)\u001b[0m\n\u001b[0;32m    654\u001b[0m         \u001b[1;32mif\u001b[0m \u001b[0moptimize\u001b[0m \u001b[1;32mand\u001b[0m \u001b[0minput_shape\u001b[0m\u001b[1;33m.\u001b[0m\u001b[0mis_fully_defined\u001b[0m\u001b[1;33m(\u001b[0m\u001b[1;33m)\u001b[0m\u001b[1;33m:\u001b[0m\u001b[1;33m\u001b[0m\u001b[1;33m\u001b[0m\u001b[0m\n\u001b[0;32m    655\u001b[0m           \u001b[1;32mreturn\u001b[0m \u001b[0mconstant\u001b[0m\u001b[1;33m(\u001b[0m\u001b[0minput_shape\u001b[0m\u001b[1;33m.\u001b[0m\u001b[0mas_list\u001b[0m\u001b[1;33m(\u001b[0m\u001b[1;33m)\u001b[0m\u001b[1;33m,\u001b[0m \u001b[0mout_type\u001b[0m\u001b[1;33m,\u001b[0m \u001b[0mname\u001b[0m\u001b[1;33m=\u001b[0m\u001b[0mname\u001b[0m\u001b[1;33m)\u001b[0m\u001b[1;33m\u001b[0m\u001b[1;33m\u001b[0m\u001b[0m\n\u001b[1;32m--> 656\u001b[1;33m       \u001b[1;32mreturn\u001b[0m \u001b[0mgen_array_ops\u001b[0m\u001b[1;33m.\u001b[0m\u001b[0mshape\u001b[0m\u001b[1;33m(\u001b[0m\u001b[0minput\u001b[0m\u001b[1;33m,\u001b[0m \u001b[0mname\u001b[0m\u001b[1;33m=\u001b[0m\u001b[0mname\u001b[0m\u001b[1;33m,\u001b[0m \u001b[0mout_type\u001b[0m\u001b[1;33m=\u001b[0m\u001b[0mout_type\u001b[0m\u001b[1;33m)\u001b[0m\u001b[1;33m\u001b[0m\u001b[1;33m\u001b[0m\u001b[0m\n\u001b[0m\u001b[0;32m    657\u001b[0m \u001b[1;33m\u001b[0m\u001b[0m\n\u001b[0;32m    658\u001b[0m \u001b[1;33m\u001b[0m\u001b[0m\n",
      "\u001b[1;32m~\\Documents\\Flatiron\\Anaconda\\envs\\learn-env\\lib\\site-packages\\tensorflow\\python\\ops\\gen_array_ops.py\u001b[0m in \u001b[0;36mshape\u001b[1;34m(input, out_type, name)\u001b[0m\n\u001b[0;32m   9016\u001b[0m   \u001b[1;32mif\u001b[0m \u001b[0mtld\u001b[0m\u001b[1;33m.\u001b[0m\u001b[0mis_eager\u001b[0m\u001b[1;33m:\u001b[0m\u001b[1;33m\u001b[0m\u001b[1;33m\u001b[0m\u001b[0m\n\u001b[0;32m   9017\u001b[0m     \u001b[1;32mtry\u001b[0m\u001b[1;33m:\u001b[0m\u001b[1;33m\u001b[0m\u001b[1;33m\u001b[0m\u001b[0m\n\u001b[1;32m-> 9018\u001b[1;33m       _result = pywrap_tfe.TFE_Py_FastPathExecute(\n\u001b[0m\u001b[0;32m   9019\u001b[0m         \u001b[0m_ctx\u001b[0m\u001b[1;33m.\u001b[0m\u001b[0m_context_handle\u001b[0m\u001b[1;33m,\u001b[0m \u001b[0mtld\u001b[0m\u001b[1;33m.\u001b[0m\u001b[0mdevice_name\u001b[0m\u001b[1;33m,\u001b[0m \u001b[1;34m\"Shape\"\u001b[0m\u001b[1;33m,\u001b[0m \u001b[0mname\u001b[0m\u001b[1;33m,\u001b[0m\u001b[1;33m\u001b[0m\u001b[1;33m\u001b[0m\u001b[0m\n\u001b[0;32m   9020\u001b[0m         tld.op_callbacks, input, \"out_type\", out_type)\n",
      "\u001b[1;31mKeyboardInterrupt\u001b[0m: "
     ]
    }
   ],
   "source": [
    "tf.config.run_functions_eagerly(True)\n",
    "\n",
    "history = model.fit(X_train_EMB,y_train_EMB,epochs=30,batch_size=128, validation_split = 0.20 , verbose=1)"
   ]
  },
  {
   "cell_type": "code",
   "execution_count": 61,
   "metadata": {
    "collapsed": true
   },
   "outputs": [
    {
     "name": "stdout",
     "output_type": "stream",
     "text": [
      "\n",
      "Accuracy  : 0.5888\n",
      "Precision : 0.4315\n",
      "Recall    : 0.6384\n"
     ]
    }
   ],
   "source": [
    "# Evaluate model on the test set\n",
    "loss, accuracy, precision, recall = model.evaluate(X_test_EMB, y_test_NN, verbose=0)\n",
    "# Print metrics\n",
    "print('')\n",
    "print('Accuracy  : {:.4f}'.format(accuracy))\n",
    "print('Precision : {:.4f}'.format(precision))\n",
    "print('Recall    : {:.4f}'.format(recall))"
   ]
  },
  {
   "cell_type": "code",
   "execution_count": 38,
   "metadata": {},
   "outputs": [
    {
     "data": {
      "image/png": "[encoded data removed]",
      "text/plain": [
       "<Figure size 720x288 with 2 Axes>"
      ]
     },
     "metadata": {
      "needs_background": "light"
     },
     "output_type": "display_data"
    }
   ],
   "source": [
    "import matplotlib.pyplot as plt\n",
    "def plot_training_hist(history):\n",
    "    '''Function to plot history for accuracy and loss'''\n",
    "    \n",
    "    fig, ax = plt.subplots(1, 2, figsize=(10,4))\n",
    "    # first plot\n",
    "    ax[0].plot(history.history['accuracy'])\n",
    "    ax[0].plot(history.history['val_accuracy'])\n",
    "    ax[0].set_title('Model Accuracy')\n",
    "    ax[0].set_xlabel('epoch')\n",
    "    ax[0].set_ylabel('accuracy')\n",
    "    ax[0].legend(['train', 'validation'], loc='best')\n",
    "    # second plot\n",
    "    ax[1].plot(history.history['loss'])\n",
    "    ax[1].plot(history.history['val_loss'])\n",
    "    ax[1].set_title('Model Loss')\n",
    "    ax[1].set_xlabel('epoch')\n",
    "    ax[1].set_ylabel('loss')\n",
    "    ax[1].legend(['train', 'validation'], loc='best')\n",
    "    \n",
    "plot_training_hist(history)"
   ]
  },
  {
   "cell_type": "code",
   "execution_count": null,
   "metadata": {},
   "outputs": [],
   "source": []
  },
  {
   "cell_type": "code",
   "execution_count": null,
   "metadata": {},
   "outputs": [],
   "source": []
  },
  {
   "cell_type": "code",
   "execution_count": null,
   "metadata": {},
   "outputs": [],
   "source": []
  },
  {
   "cell_type": "code",
   "execution_count": null,
   "metadata": {},
   "outputs": [],
   "source": [
    "np.version.version"
   ]
  },
  {
   "cell_type": "code",
   "execution_count": null,
   "metadata": {},
   "outputs": [],
   "source": [
    "tf.__version__"
   ]
  },
  {
   "cell_type": "code",
   "execution_count": null,
   "metadata": {},
   "outputs": [],
   "source": [
    "pip install -U numpy==1.18.5 --user"
   ]
  },
  {
   "cell_type": "code",
   "execution_count": null,
   "metadata": {},
   "outputs": [],
   "source": [
    "pip uninstall pycocotools"
   ]
  },
  {
   "cell_type": "code",
   "execution_count": null,
   "metadata": {},
   "outputs": [],
   "source": [
    "pip install pycocotools-windows"
   ]
  },
  {
   "cell_type": "code",
   "execution_count": null,
   "metadata": {},
   "outputs": [],
   "source": [
    "pd.__version__"
   ]
  },
  {
   "cell_type": "code",
   "execution_count": null,
   "metadata": {},
   "outputs": [],
   "source": []
  }
 ],
 "metadata": {
  "kernelspec": {
   "display_name": "Python (learn-env)",
   "language": "python",
   "name": "learn-env"
  },
  "language_info": {
   "codemirror_mode": {
    "name": "ipython",
    "version": 3
   },
   "file_extension": ".py",
   "mimetype": "text/x-python",
   "name": "python",
   "nbconvert_exporter": "python",
   "pygments_lexer": "ipython3",
   "version": "3.8.5"
  },
  "toc": {
   "base_numbering": 1,
   "nav_menu": {},
   "number_sections": true,
   "sideBar": true,
   "skip_h1_title": false,
   "title_cell": "Table of Contents",
   "title_sidebar": "TOC",
   "toc_cell": true,
   "toc_position": {
    "height": "calc(100% - 180px)",
    "left": "10px",
    "top": "150px",
    "width": "384px"
   },
   "toc_section_display": true,
   "toc_window_display": true
  }
 },
 "nbformat": 4,
 "nbformat_minor": 2
}
