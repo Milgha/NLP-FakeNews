{
 "cells": [
  {
   "cell_type": "code",
   "execution_count": null,
   "metadata": {},
   "outputs": [],
   "source": [
    "#!pip install textblob"
   ]
  },
  {
   "cell_type": "code",
   "execution_count": null,
   "metadata": {},
   "outputs": [],
   "source": [
    "#pip install -U pandas==1.3.4 --user"
   ]
  },
  {
   "cell_type": "code",
   "execution_count": 136,
   "metadata": {},
   "outputs": [],
   "source": [
    "from tweepy import OAuthHandler\n",
    "#from tweepy.streaming import StreamListener\n",
    "import tweepy\n",
    "import json\n",
    "import pandas as pd\n",
    "import csv\n",
    "import re\n",
    "#from textblob import TextBlob\n",
    "import string\n",
    "#import preprocessor as p\n",
    "import os\n",
    "import time\n",
    "#from twarc import expansions\n",
    "\n",
    "from sklearn.model_selection import train_test_split, cross_val_score\n",
    "from sklearn.dummy import DummyClassifier\n",
    "from sklearn.pipeline import Pipeline\n",
    "from sklearn.feature_extraction.text import TfidfVectorizer, CountVectorizer\n",
    "from sklearn.metrics import accuracy_score, recall_score,precision_score, confusion_matrix, roc_auc_score\n",
    "from sklearn.metrics import plot_confusion_matrix\n",
    "from sklearn.ensemble import RandomForestClassifier\n",
    "from sklearn.naive_bayes import MultinomialNB\n",
    "from sklearn.neighbors import KNeighborsClassifier\n",
    "from sklearn.linear_model import LogisticRegression\n",
    "from sklearn.model_selection import GridSearchCV\n",
    "from sklearn.metrics import make_scorer\n",
    "from sklearn.tree import DecisionTreeClassifier\n",
    "from sklearn.svm import SVC\n",
    "\n",
    "import nltk\n",
    "from nltk.sentiment.vader import SentimentIntensityAnalyzer\n",
    "from textblob import TextBlob\n",
    "import textblob\n",
    "from nltk.corpus import stopwords\n",
    "from nltk.tokenize import TweetTokenizer, RegexpTokenizer\n",
    "from nltk.stem.porter import PorterStemmer \n",
    "from nltk.stem import WordNetLemmatizer\n",
    "from nltk.corpus import wordnet\n",
    "from nltk import pos_tag\n",
    "\n",
    "import tensorflow as tf\n",
    "from tensorflow.keras.layers import Embedding,LSTM,Dense,Dropout,Conv1D, MaxPooling1D, Bidirectional\n",
    "from tensorflow.keras.preprocessing.sequence import pad_sequences\n",
    "from tensorflow.keras.models import Sequential\n",
    "from tensorflow.keras.preprocessing.text import one_hot\n",
    "from keras.optimizers import SGD\n",
    "\n",
    "\n",
    "import seaborn as sns\n",
    "\n",
    "import warnings\n",
    "warnings.filterwarnings('ignore')\n"
   ]
  },
  {
   "cell_type": "code",
   "execution_count": 2,
   "metadata": {},
   "outputs": [
    {
     "name": "stderr",
     "output_type": "stream",
     "text": [
      "[nltk_data] Downloading package wordnet to\n",
      "[nltk_data]     C:\\Users\\milad\\AppData\\Roaming\\nltk_data...\n",
      "[nltk_data]   Package wordnet is already up-to-date!\n"
     ]
    },
    {
     "data": {
      "text/plain": [
       "True"
      ]
     },
     "execution_count": 2,
     "metadata": {},
     "output_type": "execute_result"
    }
   ],
   "source": [
    "nltk.download('wordnet')"
   ]
  },
  {
   "cell_type": "code",
   "execution_count": 3,
   "metadata": {},
   "outputs": [
    {
     "data": {
      "text/plain": [
       "id              0\n",
       "text            0\n",
       "withheld    30332\n",
       "dtype: int64"
      ]
     },
     "execution_count": 3,
     "metadata": {},
     "output_type": "execute_result"
    }
   ],
   "source": [
    "tweets_raw = pd.read_csv('tweets.csv')\n",
    "tweets_raw.isna().sum()"
   ]
  },
  {
   "cell_type": "code",
   "execution_count": 4,
   "metadata": {},
   "outputs": [
    {
     "name": "stderr",
     "output_type": "stream",
     "text": [
      "[nltk_data] Downloading package vader_lexicon to\n",
      "[nltk_data]     C:\\Users\\milad\\AppData\\Roaming\\nltk_data...\n",
      "[nltk_data]   Package vader_lexicon is already up-to-date!\n"
     ]
    },
    {
     "data": {
      "text/html": [
       "<div>\n",
       "<style scoped>\n",
       "    .dataframe tbody tr th:only-of-type {\n",
       "        vertical-align: middle;\n",
       "    }\n",
       "\n",
       "    .dataframe tbody tr th {\n",
       "        vertical-align: top;\n",
       "    }\n",
       "\n",
       "    .dataframe thead th {\n",
       "        text-align: right;\n",
       "    }\n",
       "</style>\n",
       "<table border=\"1\" class=\"dataframe\">\n",
       "  <thead>\n",
       "    <tr style=\"text-align: right;\">\n",
       "      <th></th>\n",
       "      <th>text</th>\n",
       "    </tr>\n",
       "  </thead>\n",
       "  <tbody>\n",
       "    <tr>\n",
       "      <th>0</th>\n",
       "      <td>Elon Musk took over Twitter. If anyone doesn't...</td>\n",
       "    </tr>\n",
       "    <tr>\n",
       "      <th>1</th>\n",
       "      <td>Why is this Twitter buyout a good thing again?...</td>\n",
       "    </tr>\n",
       "    <tr>\n",
       "      <th>2</th>\n",
       "      <td>Elon Musk’s Twitter layoffs are starting https...</td>\n",
       "    </tr>\n",
       "    <tr>\n",
       "      <th>3</th>\n",
       "      <td>Elon Musk is shocked\\n\\n@AntonioIvanchev,@tsek...</td>\n",
       "    </tr>\n",
       "    <tr>\n",
       "      <th>4</th>\n",
       "      <td>«An email went out to the company’s employees ...</td>\n",
       "    </tr>\n",
       "  </tbody>\n",
       "</table>\n",
       "</div>"
      ],
      "text/plain": [
       "                                                text\n",
       "0  Elon Musk took over Twitter. If anyone doesn't...\n",
       "1  Why is this Twitter buyout a good thing again?...\n",
       "2  Elon Musk’s Twitter layoffs are starting https...\n",
       "3  Elon Musk is shocked\\n\\n@AntonioIvanchev,@tsek...\n",
       "4  «An email went out to the company’s employees ..."
      ]
     },
     "execution_count": 4,
     "metadata": {},
     "output_type": "execute_result"
    }
   ],
   "source": [
    "nltk.download(\"vader_lexicon\")\n",
    "\n",
    "tweets_raw = pd.read_csv('tweets.csv')\n",
    "tweets_raw.drop(columns=['id','withheld'], axis=1, inplace=True)\n",
    "tweets_raw.head()"
   ]
  },
  {
   "cell_type": "code",
   "execution_count": 5,
   "metadata": {},
   "outputs": [
    {
     "data": {
      "text/html": [
       "<div>\n",
       "<style scoped>\n",
       "    .dataframe tbody tr th:only-of-type {\n",
       "        vertical-align: middle;\n",
       "    }\n",
       "\n",
       "    .dataframe tbody tr th {\n",
       "        vertical-align: top;\n",
       "    }\n",
       "\n",
       "    .dataframe thead th {\n",
       "        text-align: right;\n",
       "    }\n",
       "</style>\n",
       "<table border=\"1\" class=\"dataframe\">\n",
       "  <thead>\n",
       "    <tr style=\"text-align: right;\">\n",
       "      <th></th>\n",
       "      <th>text</th>\n",
       "      <th>Positive</th>\n",
       "      <th>Negative</th>\n",
       "      <th>Neutral</th>\n",
       "      <th>Compound</th>\n",
       "    </tr>\n",
       "  </thead>\n",
       "  <tbody>\n",
       "    <tr>\n",
       "      <th>0</th>\n",
       "      <td>Elon Musk took over Twitter. If anyone doesn't...</td>\n",
       "      <td>0.00</td>\n",
       "      <td>0.000</td>\n",
       "      <td>1.000</td>\n",
       "      <td>0.0000</td>\n",
       "    </tr>\n",
       "    <tr>\n",
       "      <th>1</th>\n",
       "      <td>Why is this Twitter buyout a good thing again?...</td>\n",
       "      <td>0.18</td>\n",
       "      <td>0.000</td>\n",
       "      <td>0.820</td>\n",
       "      <td>0.6199</td>\n",
       "    </tr>\n",
       "    <tr>\n",
       "      <th>2</th>\n",
       "      <td>Elon Musk’s Twitter layoffs are starting https...</td>\n",
       "      <td>0.00</td>\n",
       "      <td>0.000</td>\n",
       "      <td>1.000</td>\n",
       "      <td>0.0000</td>\n",
       "    </tr>\n",
       "    <tr>\n",
       "      <th>3</th>\n",
       "      <td>Elon Musk is shocked\\n\\n@AntonioIvanchev,@tsek...</td>\n",
       "      <td>0.00</td>\n",
       "      <td>0.315</td>\n",
       "      <td>0.685</td>\n",
       "      <td>-0.3182</td>\n",
       "    </tr>\n",
       "    <tr>\n",
       "      <th>4</th>\n",
       "      <td>«An email went out to the company’s employees ...</td>\n",
       "      <td>0.00</td>\n",
       "      <td>0.050</td>\n",
       "      <td>0.950</td>\n",
       "      <td>-0.2732</td>\n",
       "    </tr>\n",
       "  </tbody>\n",
       "</table>\n",
       "</div>"
      ],
      "text/plain": [
       "                                                text  Positive  Negative  \\\n",
       "0  Elon Musk took over Twitter. If anyone doesn't...      0.00     0.000   \n",
       "1  Why is this Twitter buyout a good thing again?...      0.18     0.000   \n",
       "2  Elon Musk’s Twitter layoffs are starting https...      0.00     0.000   \n",
       "3  Elon Musk is shocked\\n\\n@AntonioIvanchev,@tsek...      0.00     0.315   \n",
       "4  «An email went out to the company’s employees ...      0.00     0.050   \n",
       "\n",
       "   Neutral  Compound  \n",
       "0    1.000    0.0000  \n",
       "1    0.820    0.6199  \n",
       "2    1.000    0.0000  \n",
       "3    0.685   -0.3182  \n",
       "4    0.950   -0.2732  "
      ]
     },
     "execution_count": 5,
     "metadata": {},
     "output_type": "execute_result"
    }
   ],
   "source": [
    "sentiments = SentimentIntensityAnalyzer()\n",
    "tweets_raw[\"Positive\"] = [sentiments.polarity_scores(i)[\"pos\"] for i in tweets_raw[\"text\"]]\n",
    "tweets_raw[\"Negative\"] = [sentiments.polarity_scores(i)[\"neg\"] for i in tweets_raw[\"text\"]]\n",
    "tweets_raw[\"Neutral\"] = [sentiments.polarity_scores(i)[\"neu\"] for i in tweets_raw[\"text\"]]\n",
    "tweets_raw['Compound'] = [sentiments.polarity_scores(i)[\"compound\"] for i in tweets_raw[\"text\"]]\n",
    "tweets_raw.head()"
   ]
  },
  {
   "cell_type": "code",
   "execution_count": 6,
   "metadata": {
    "scrolled": true
   },
   "outputs": [
    {
     "data": {
      "text/html": [
       "<div>\n",
       "<style scoped>\n",
       "    .dataframe tbody tr th:only-of-type {\n",
       "        vertical-align: middle;\n",
       "    }\n",
       "\n",
       "    .dataframe tbody tr th {\n",
       "        vertical-align: top;\n",
       "    }\n",
       "\n",
       "    .dataframe thead th {\n",
       "        text-align: right;\n",
       "    }\n",
       "</style>\n",
       "<table border=\"1\" class=\"dataframe\">\n",
       "  <thead>\n",
       "    <tr style=\"text-align: right;\">\n",
       "      <th></th>\n",
       "      <th>text</th>\n",
       "      <th>Positive</th>\n",
       "      <th>Negative</th>\n",
       "      <th>Neutral</th>\n",
       "      <th>Compound</th>\n",
       "      <th>Sentiment</th>\n",
       "    </tr>\n",
       "  </thead>\n",
       "  <tbody>\n",
       "    <tr>\n",
       "      <th>0</th>\n",
       "      <td>Elon Musk took over Twitter. If anyone doesn't...</td>\n",
       "      <td>0.00</td>\n",
       "      <td>0.000</td>\n",
       "      <td>1.000</td>\n",
       "      <td>0.0000</td>\n",
       "      <td>Neutral</td>\n",
       "    </tr>\n",
       "    <tr>\n",
       "      <th>1</th>\n",
       "      <td>Why is this Twitter buyout a good thing again?...</td>\n",
       "      <td>0.18</td>\n",
       "      <td>0.000</td>\n",
       "      <td>0.820</td>\n",
       "      <td>0.6199</td>\n",
       "      <td>Positive</td>\n",
       "    </tr>\n",
       "    <tr>\n",
       "      <th>2</th>\n",
       "      <td>Elon Musk’s Twitter layoffs are starting https...</td>\n",
       "      <td>0.00</td>\n",
       "      <td>0.000</td>\n",
       "      <td>1.000</td>\n",
       "      <td>0.0000</td>\n",
       "      <td>Neutral</td>\n",
       "    </tr>\n",
       "    <tr>\n",
       "      <th>3</th>\n",
       "      <td>Elon Musk is shocked\\n\\n@AntonioIvanchev,@tsek...</td>\n",
       "      <td>0.00</td>\n",
       "      <td>0.315</td>\n",
       "      <td>0.685</td>\n",
       "      <td>-0.3182</td>\n",
       "      <td>Negative</td>\n",
       "    </tr>\n",
       "    <tr>\n",
       "      <th>4</th>\n",
       "      <td>«An email went out to the company’s employees ...</td>\n",
       "      <td>0.00</td>\n",
       "      <td>0.050</td>\n",
       "      <td>0.950</td>\n",
       "      <td>-0.2732</td>\n",
       "      <td>Negative</td>\n",
       "    </tr>\n",
       "  </tbody>\n",
       "</table>\n",
       "</div>"
      ],
      "text/plain": [
       "                                                text  Positive  Negative  \\\n",
       "0  Elon Musk took over Twitter. If anyone doesn't...      0.00     0.000   \n",
       "1  Why is this Twitter buyout a good thing again?...      0.18     0.000   \n",
       "2  Elon Musk’s Twitter layoffs are starting https...      0.00     0.000   \n",
       "3  Elon Musk is shocked\\n\\n@AntonioIvanchev,@tsek...      0.00     0.315   \n",
       "4  «An email went out to the company’s employees ...      0.00     0.050   \n",
       "\n",
       "   Neutral  Compound Sentiment  \n",
       "0    1.000    0.0000   Neutral  \n",
       "1    0.820    0.6199  Positive  \n",
       "2    1.000    0.0000   Neutral  \n",
       "3    0.685   -0.3182  Negative  \n",
       "4    0.950   -0.2732  Negative  "
      ]
     },
     "execution_count": 6,
     "metadata": {},
     "output_type": "execute_result"
    }
   ],
   "source": [
    "score = tweets_raw[\"Compound\"].values\n",
    "sentiment = []\n",
    "for i in score:\n",
    "    if i >= 0.05 :\n",
    "        sentiment.append('Positive')\n",
    "    elif i <= -0.05 :\n",
    "        sentiment.append('Negative')\n",
    "    else:\n",
    "        sentiment.append('Neutral')\n",
    "tweets_raw[\"Sentiment\"] = sentiment\n",
    "tweets_raw.head()"
   ]
  },
  {
   "cell_type": "code",
   "execution_count": 7,
   "metadata": {},
   "outputs": [
    {
     "data": {
      "text/html": [
       "<div>\n",
       "<style scoped>\n",
       "    .dataframe tbody tr th:only-of-type {\n",
       "        vertical-align: middle;\n",
       "    }\n",
       "\n",
       "    .dataframe tbody tr th {\n",
       "        vertical-align: top;\n",
       "    }\n",
       "\n",
       "    .dataframe thead th {\n",
       "        text-align: right;\n",
       "    }\n",
       "</style>\n",
       "<table border=\"1\" class=\"dataframe\">\n",
       "  <thead>\n",
       "    <tr style=\"text-align: right;\">\n",
       "      <th></th>\n",
       "      <th>text</th>\n",
       "      <th>Sentiment</th>\n",
       "    </tr>\n",
       "  </thead>\n",
       "  <tbody>\n",
       "    <tr>\n",
       "      <th>0</th>\n",
       "      <td>Elon Musk took over Twitter. If anyone doesn't...</td>\n",
       "      <td>Neutral</td>\n",
       "    </tr>\n",
       "    <tr>\n",
       "      <th>1</th>\n",
       "      <td>Why is this Twitter buyout a good thing again?...</td>\n",
       "      <td>Positive</td>\n",
       "    </tr>\n",
       "    <tr>\n",
       "      <th>2</th>\n",
       "      <td>Elon Musk’s Twitter layoffs are starting https...</td>\n",
       "      <td>Neutral</td>\n",
       "    </tr>\n",
       "    <tr>\n",
       "      <th>3</th>\n",
       "      <td>Elon Musk is shocked\\n\\n@AntonioIvanchev,@tsek...</td>\n",
       "      <td>Negative</td>\n",
       "    </tr>\n",
       "    <tr>\n",
       "      <th>4</th>\n",
       "      <td>«An email went out to the company’s employees ...</td>\n",
       "      <td>Negative</td>\n",
       "    </tr>\n",
       "  </tbody>\n",
       "</table>\n",
       "</div>"
      ],
      "text/plain": [
       "                                                text Sentiment\n",
       "0  Elon Musk took over Twitter. If anyone doesn't...   Neutral\n",
       "1  Why is this Twitter buyout a good thing again?...  Positive\n",
       "2  Elon Musk’s Twitter layoffs are starting https...   Neutral\n",
       "3  Elon Musk is shocked\\n\\n@AntonioIvanchev,@tsek...  Negative\n",
       "4  «An email went out to the company’s employees ...  Negative"
      ]
     },
     "execution_count": 7,
     "metadata": {},
     "output_type": "execute_result"
    }
   ],
   "source": [
    "tweets_raw = tweets_raw[['text','Sentiment']]\n",
    "tweets_raw.head()"
   ]
  },
  {
   "cell_type": "code",
   "execution_count": 8,
   "metadata": {},
   "outputs": [
    {
     "data": {
      "text/plain": [
       "Negative    12037\n",
       "Neutral      9377\n",
       "Positive     8921\n",
       "Name: Sentiment, dtype: int64"
      ]
     },
     "execution_count": 8,
     "metadata": {},
     "output_type": "execute_result"
    }
   ],
   "source": [
    "tweets_raw['Sentiment'].value_counts()"
   ]
  },
  {
   "cell_type": "code",
   "execution_count": 9,
   "metadata": {
    "scrolled": false
   },
   "outputs": [
    {
     "data": {
      "text/plain": [
       "<AxesSubplot:xlabel='Sentiment', ylabel='count'>"
      ]
     },
     "execution_count": 9,
     "metadata": {},
     "output_type": "execute_result"
    },
    {
     "data": {
      "image/png": "[encoded data removed]",
      "text/plain": [
       "<Figure size 432x288 with 1 Axes>"
      ]
     },
     "metadata": {
      "needs_background": "light"
     },
     "output_type": "display_data"
    }
   ],
   "source": [
    "sns.countplot(tweets_raw['Sentiment'])"
   ]
  },
  {
   "cell_type": "code",
   "execution_count": 10,
   "metadata": {},
   "outputs": [],
   "source": [
    "X=tweets_raw.text\n",
    "y=tweets_raw.Sentiment\n",
    "\n",
    "X_train, X_test, y_train, y_test = train_test_split(X, y, test_size=0.2, random_state=42)"
   ]
  },
  {
   "cell_type": "code",
   "execution_count": 11,
   "metadata": {},
   "outputs": [],
   "source": [
    "cv_dict = {}\n",
    "def reportcrossval(model, model_name, X, Y):\n",
    "    cv_mean = cross_val_score(model, X, Y).mean()\n",
    "    cv_dict[model_name] = cv_mean\n",
    "    print(f\"The cv mean of {model_name} is {cv_mean}\")"
   ]
  },
  {
   "cell_type": "code",
   "execution_count": 12,
   "metadata": {},
   "outputs": [],
   "source": [
    "pipe_dummy = Pipeline([('dummy', DummyClassifier(strategy='most_frequent'))], verbose=True)"
   ]
  },
  {
   "cell_type": "code",
   "execution_count": 13,
   "metadata": {
    "scrolled": true
   },
   "outputs": [
    {
     "name": "stdout",
     "output_type": "stream",
     "text": [
      "[Pipeline] ............. (step 1 of 1) Processing dummy, total=   0.0s\n",
      "[Pipeline] ............. (step 1 of 1) Processing dummy, total=   0.0s\n",
      "[Pipeline] ............. (step 1 of 1) Processing dummy, total=   0.0s\n",
      "[Pipeline] ............. (step 1 of 1) Processing dummy, total=   0.0s\n",
      "[Pipeline] ............. (step 1 of 1) Processing dummy, total=   0.0s\n",
      "The cv mean of Dummy is 0.39776660009470016\n"
     ]
    }
   ],
   "source": [
    "reportcrossval(pipe_dummy, 'Dummy', X_train, y_train)"
   ]
  },
  {
   "cell_type": "markdown",
   "metadata": {},
   "source": [
    "# pre-processing"
   ]
  },
  {
   "cell_type": "code",
   "execution_count": 224,
   "metadata": {
    "scrolled": true
   },
   "outputs": [
    {
     "data": {
      "text/plain": [
       "['i',\n",
       " 'me',\n",
       " 'my',\n",
       " 'myself',\n",
       " 'we',\n",
       " 'our',\n",
       " 'ours',\n",
       " 'ourselves',\n",
       " 'you',\n",
       " \"you're\",\n",
       " \"you've\",\n",
       " \"you'll\",\n",
       " \"you'd\",\n",
       " 'your',\n",
       " 'yours',\n",
       " 'yourself',\n",
       " 'yourselves',\n",
       " 'he',\n",
       " 'him',\n",
       " 'his',\n",
       " 'himself',\n",
       " 'she',\n",
       " \"she's\",\n",
       " 'her',\n",
       " 'hers',\n",
       " 'herself',\n",
       " 'it',\n",
       " \"it's\",\n",
       " 'its',\n",
       " 'itself',\n",
       " 'they',\n",
       " 'them',\n",
       " 'their',\n",
       " 'theirs',\n",
       " 'themselves',\n",
       " 'what',\n",
       " 'which',\n",
       " 'who',\n",
       " 'whom',\n",
       " 'this',\n",
       " 'that',\n",
       " \"that'll\",\n",
       " 'these',\n",
       " 'those',\n",
       " 'am',\n",
       " 'is',\n",
       " 'are',\n",
       " 'was',\n",
       " 'were',\n",
       " 'be',\n",
       " 'been',\n",
       " 'being',\n",
       " 'have',\n",
       " 'has',\n",
       " 'had',\n",
       " 'having',\n",
       " 'do',\n",
       " 'does',\n",
       " 'did',\n",
       " 'doing',\n",
       " 'a',\n",
       " 'an',\n",
       " 'the',\n",
       " 'and',\n",
       " 'but',\n",
       " 'if',\n",
       " 'or',\n",
       " 'because',\n",
       " 'as',\n",
       " 'until',\n",
       " 'while',\n",
       " 'of',\n",
       " 'at',\n",
       " 'by',\n",
       " 'for',\n",
       " 'with',\n",
       " 'about',\n",
       " 'against',\n",
       " 'between',\n",
       " 'into',\n",
       " 'through',\n",
       " 'during',\n",
       " 'before',\n",
       " 'after',\n",
       " 'above',\n",
       " 'below',\n",
       " 'to',\n",
       " 'from',\n",
       " 'up',\n",
       " 'down',\n",
       " 'in',\n",
       " 'out',\n",
       " 'on',\n",
       " 'off',\n",
       " 'over',\n",
       " 'under',\n",
       " 'again',\n",
       " 'further',\n",
       " 'then',\n",
       " 'once',\n",
       " 'here',\n",
       " 'there',\n",
       " 'when',\n",
       " 'where',\n",
       " 'why',\n",
       " 'how',\n",
       " 'all',\n",
       " 'any',\n",
       " 'both',\n",
       " 'each',\n",
       " 'few',\n",
       " 'more',\n",
       " 'most',\n",
       " 'other',\n",
       " 'some',\n",
       " 'such',\n",
       " 'no',\n",
       " 'nor',\n",
       " 'not',\n",
       " 'only',\n",
       " 'own',\n",
       " 'same',\n",
       " 'so',\n",
       " 'than',\n",
       " 'too',\n",
       " 'very',\n",
       " 's',\n",
       " 't',\n",
       " 'can',\n",
       " 'will',\n",
       " 'just',\n",
       " 'don',\n",
       " \"don't\",\n",
       " 'should',\n",
       " \"should've\",\n",
       " 'now',\n",
       " 'd',\n",
       " 'll',\n",
       " 'm',\n",
       " 'o',\n",
       " 're',\n",
       " 've',\n",
       " 'y',\n",
       " 'ain',\n",
       " 'aren',\n",
       " \"aren't\",\n",
       " 'couldn',\n",
       " \"couldn't\",\n",
       " 'didn',\n",
       " \"didn't\",\n",
       " 'doesn',\n",
       " \"doesn't\",\n",
       " 'hadn',\n",
       " \"hadn't\",\n",
       " 'hasn',\n",
       " \"hasn't\",\n",
       " 'haven',\n",
       " \"haven't\",\n",
       " 'isn',\n",
       " \"isn't\",\n",
       " 'ma',\n",
       " 'mightn',\n",
       " \"mightn't\",\n",
       " 'mustn',\n",
       " \"mustn't\",\n",
       " 'needn',\n",
       " \"needn't\",\n",
       " 'shan',\n",
       " \"shan't\",\n",
       " 'shouldn',\n",
       " \"shouldn't\",\n",
       " 'wasn',\n",
       " \"wasn't\",\n",
       " 'weren',\n",
       " \"weren't\",\n",
       " 'won',\n",
       " \"won't\",\n",
       " 'wouldn',\n",
       " \"wouldn't\"]"
      ]
     },
     "execution_count": 224,
     "metadata": {},
     "output_type": "execute_result"
    }
   ],
   "source": [
    "Stop_Words = stopwords.words('english')\n",
    "Stop_Words"
   ]
  },
  {
   "cell_type": "code",
   "execution_count": 15,
   "metadata": {},
   "outputs": [],
   "source": [
    "def get_wordnet_pos(tag):\n",
    "    '''\n",
    "    Translate nltk POS to wordnet tags\n",
    "    '''\n",
    "    \n",
    "    if tag.startswith('J'):\n",
    "        return wordnet.ADJ\n",
    "    elif tag.startswith('V'):\n",
    "        return wordnet.VERB\n",
    "    elif tag.startswith('N'):\n",
    "        return wordnet.NOUN\n",
    "    elif tag.startswith('R'):\n",
    "        return wordnet.ADV\n",
    "    else:\n",
    "        return wordnet.NOUN"
   ]
  },
  {
   "cell_type": "code",
   "execution_count": 227,
   "metadata": {},
   "outputs": [],
   "source": [
    "import numpy as np\n",
    "\n",
    "def Cleaning_tweets(df):\n",
    "    '''\n",
    "    This function will Clean the given dataframe from any URL's, Mentions, Hashtags, Punctuations, Numbers,etc.\n",
    "    and also lemmitize the words and returns a dataframe with cleaned tweet as a new column.\n",
    "    \n",
    "    '''  \n",
    "    stemmer = PorterStemmer()\n",
    "    s_stemmer = nltk.stem.SnowballStemmer(language=\"english\")\n",
    "    lemmatizer = WordNetLemmatizer()\n",
    "    \n",
    "    Extended_Stop_Words = stopwords.words('english')\n",
    "    Extended_Stop_Words.extend(['elon','musk','twitter'])\n",
    "    \n",
    "    def clean_tweet(tweet):\n",
    "        if type(tweet) == np.float:\n",
    "            return \"\"\n",
    "        temp = tweet.lower() # lower case the text\n",
    "        temp = re.sub(\"'\", \"\", temp) # to avoid removing contractions in english\n",
    "        temp = re.sub(\"@[A-Za-z0-9_]+\",\"\", temp) # removes mentions\n",
    "        temp = re.sub(\"#[A-Za-z0-9_]+\",\"\", temp) # removes hashtags\n",
    "        temp = re.sub('[0-9]+', '', temp)\n",
    "        temp = re.sub(r'http\\S+', '', temp) # removes URL's\n",
    "        temp = re.sub('[()!?]', ' ', temp) # removes special charecters\n",
    "        temp = re.sub('\\[.*?\\]',' ', temp) # further removes special charecters\n",
    "        temp = re.sub(\"[^a-z0-9]\",\" \", temp)\n",
    "        temp = temp.split() # splitting the words\n",
    "#        temp = [s_stemmer.stem(w) for w in temp if not w in Stop_Words] # Removes the stop words and Stemming\n",
    "        \n",
    "#        temp = [(word, get_wordnet_pos(word)) for word in temp if not word in Stop_Words]\n",
    "        temp = [lemmatizer.lemmatize(w) for w in temp if not w in Extended_Stop_Words] # Removes the stop words and Lemming\n",
    "        temp = \" \".join(word for word in temp) # join all words together\n",
    "        return temp\n",
    "    results = [clean_tweet(tw) for tw in list(df.text)] # iterete over each tweet and clean it based on above function\n",
    "    df['Cleaned_Text'] = results\n",
    "    return df "
   ]
  },
  {
   "cell_type": "code",
   "execution_count": 228,
   "metadata": {
    "scrolled": false
   },
   "outputs": [
    {
     "data": {
      "text/html": [
       "<div>\n",
       "<style scoped>\n",
       "    .dataframe tbody tr th:only-of-type {\n",
       "        vertical-align: middle;\n",
       "    }\n",
       "\n",
       "    .dataframe tbody tr th {\n",
       "        vertical-align: top;\n",
       "    }\n",
       "\n",
       "    .dataframe thead th {\n",
       "        text-align: right;\n",
       "    }\n",
       "</style>\n",
       "<table border=\"1\" class=\"dataframe\">\n",
       "  <thead>\n",
       "    <tr style=\"text-align: right;\">\n",
       "      <th></th>\n",
       "      <th>text</th>\n",
       "      <th>Sentiment</th>\n",
       "      <th>Cleaned_Text</th>\n",
       "      <th>Tokenized_Text</th>\n",
       "      <th>Tokenized_Text1</th>\n",
       "    </tr>\n",
       "  </thead>\n",
       "  <tbody>\n",
       "    <tr>\n",
       "      <th>0</th>\n",
       "      <td>Elon Musk took over Twitter. If anyone doesn't...</td>\n",
       "      <td>Neutral</td>\n",
       "      <td>took anyone doesnt want leave dont let door hi...</td>\n",
       "      <td>[took, anyone, doesnt, wants, leave, dont, let...</td>\n",
       "      <td>[took, twitter, anyone, doesnt, wants, leave, ...</td>\n",
       "    </tr>\n",
       "    <tr>\n",
       "      <th>1</th>\n",
       "      <td>Why is this Twitter buyout a good thing again?...</td>\n",
       "      <td>Positive</td>\n",
       "      <td>buyout good thing also always resting smug fac...</td>\n",
       "      <td>[buyout, good, thing, also, always, resting, s...</td>\n",
       "      <td>[twitter, buyout, good, thing, also, always, r...</td>\n",
       "    </tr>\n",
       "    <tr>\n",
       "      <th>2</th>\n",
       "      <td>Elon Musk’s Twitter layoffs are starting https...</td>\n",
       "      <td>Neutral</td>\n",
       "      <td>layoff starting</td>\n",
       "      <td>[layoffs, starting]</td>\n",
       "      <td>[twitter, layoffs, starting]</td>\n",
       "    </tr>\n",
       "    <tr>\n",
       "      <th>3</th>\n",
       "      <td>Elon Musk is shocked\\n\\n@AntonioIvanchev,@tsek...</td>\n",
       "      <td>Negative</td>\n",
       "      <td>shocked</td>\n",
       "      <td>[shocked]</td>\n",
       "      <td>[shocked]</td>\n",
       "    </tr>\n",
       "    <tr>\n",
       "      <th>4</th>\n",
       "      <td>«An email went out to the company’s employees ...</td>\n",
       "      <td>Negative</td>\n",
       "      <td>email went company employee late thursday noti...</td>\n",
       "      <td>[email, went, company, employees, late, thursd...</td>\n",
       "      <td>[email, went, company, employees, late, thursd...</td>\n",
       "    </tr>\n",
       "    <tr>\n",
       "      <th>...</th>\n",
       "      <td>...</td>\n",
       "      <td>...</td>\n",
       "      <td>...</td>\n",
       "      <td>...</td>\n",
       "      <td>...</td>\n",
       "    </tr>\n",
       "    <tr>\n",
       "      <th>30330</th>\n",
       "      <td>'No choice': Elon Musk justifies mass layoffs ...</td>\n",
       "      <td>Negative</td>\n",
       "      <td>choice justifies mass layoff</td>\n",
       "      <td>[choice, justifies, mass, layoffs]</td>\n",
       "      <td>[choice, justifies, mass, layoffs, twitter]</td>\n",
       "    </tr>\n",
       "    <tr>\n",
       "      <th>30331</th>\n",
       "      <td>Here's why Binance's CZ invested in Twitter fo...</td>\n",
       "      <td>Neutral</td>\n",
       "      <td>here binances cz invested following acquisitio...</td>\n",
       "      <td>[heres, binances, cz, invested, following, acq...</td>\n",
       "      <td>[heres, binances, cz, invested, twitter, follo...</td>\n",
       "    </tr>\n",
       "    <tr>\n",
       "      <th>30332</th>\n",
       "      <td>Elon Musk says Twitter had ‘no choice’ over th...</td>\n",
       "      <td>Neutral</td>\n",
       "      <td>say choice thousand layoff company losing per day</td>\n",
       "      <td>[says, choice, thousands, layoffs, company, lo...</td>\n",
       "      <td>[says, twitter, choice, thousands, layoffs, co...</td>\n",
       "    </tr>\n",
       "    <tr>\n",
       "      <th>30333</th>\n",
       "      <td>Thousands of staff at social media company Twi...</td>\n",
       "      <td>Neutral</td>\n",
       "      <td>thousand staff social medium company job new o...</td>\n",
       "      <td>[thousands, staff, social, media, company, job...</td>\n",
       "      <td>[thousands, staff, social, media, company, twi...</td>\n",
       "    </tr>\n",
       "    <tr>\n",
       "      <th>30334</th>\n",
       "      <td>Thousands of staff at social media company Twi...</td>\n",
       "      <td>Neutral</td>\n",
       "      <td>thousand staff social medium company job new o...</td>\n",
       "      <td>[thousands, staff, social, media, company, job...</td>\n",
       "      <td>[thousands, staff, social, media, company, twi...</td>\n",
       "    </tr>\n",
       "  </tbody>\n",
       "</table>\n",
       "<p>30335 rows × 5 columns</p>\n",
       "</div>"
      ],
      "text/plain": [
       "                                                    text Sentiment  \\\n",
       "0      Elon Musk took over Twitter. If anyone doesn't...   Neutral   \n",
       "1      Why is this Twitter buyout a good thing again?...  Positive   \n",
       "2      Elon Musk’s Twitter layoffs are starting https...   Neutral   \n",
       "3      Elon Musk is shocked\\n\\n@AntonioIvanchev,@tsek...  Negative   \n",
       "4      «An email went out to the company’s employees ...  Negative   \n",
       "...                                                  ...       ...   \n",
       "30330  'No choice': Elon Musk justifies mass layoffs ...  Negative   \n",
       "30331  Here's why Binance's CZ invested in Twitter fo...   Neutral   \n",
       "30332  Elon Musk says Twitter had ‘no choice’ over th...   Neutral   \n",
       "30333  Thousands of staff at social media company Twi...   Neutral   \n",
       "30334  Thousands of staff at social media company Twi...   Neutral   \n",
       "\n",
       "                                            Cleaned_Text  \\\n",
       "0      took anyone doesnt want leave dont let door hi...   \n",
       "1      buyout good thing also always resting smug fac...   \n",
       "2                                        layoff starting   \n",
       "3                                                shocked   \n",
       "4      email went company employee late thursday noti...   \n",
       "...                                                  ...   \n",
       "30330                       choice justifies mass layoff   \n",
       "30331  here binances cz invested following acquisitio...   \n",
       "30332  say choice thousand layoff company losing per day   \n",
       "30333  thousand staff social medium company job new o...   \n",
       "30334  thousand staff social medium company job new o...   \n",
       "\n",
       "                                          Tokenized_Text  \\\n",
       "0      [took, anyone, doesnt, wants, leave, dont, let...   \n",
       "1      [buyout, good, thing, also, always, resting, s...   \n",
       "2                                    [layoffs, starting]   \n",
       "3                                              [shocked]   \n",
       "4      [email, went, company, employees, late, thursd...   \n",
       "...                                                  ...   \n",
       "30330                 [choice, justifies, mass, layoffs]   \n",
       "30331  [heres, binances, cz, invested, following, acq...   \n",
       "30332  [says, choice, thousands, layoffs, company, lo...   \n",
       "30333  [thousands, staff, social, media, company, job...   \n",
       "30334  [thousands, staff, social, media, company, job...   \n",
       "\n",
       "                                         Tokenized_Text1  \n",
       "0      [took, twitter, anyone, doesnt, wants, leave, ...  \n",
       "1      [twitter, buyout, good, thing, also, always, r...  \n",
       "2                           [twitter, layoffs, starting]  \n",
       "3                                              [shocked]  \n",
       "4      [email, went, company, employees, late, thursd...  \n",
       "...                                                  ...  \n",
       "30330        [choice, justifies, mass, layoffs, twitter]  \n",
       "30331  [heres, binances, cz, invested, twitter, follo...  \n",
       "30332  [says, twitter, choice, thousands, layoffs, co...  \n",
       "30333  [thousands, staff, social, media, company, twi...  \n",
       "30334  [thousands, staff, social, media, company, twi...  \n",
       "\n",
       "[30335 rows x 5 columns]"
      ]
     },
     "execution_count": 228,
     "metadata": {},
     "output_type": "execute_result"
    }
   ],
   "source": [
    "Cleaning_tweets(tweets_raw)"
   ]
  },
  {
   "cell_type": "code",
   "execution_count": 235,
   "metadata": {},
   "outputs": [
    {
     "data": {
      "text/plain": [
       "'email went company employee late thursday notifying employee plan cut job informing pacific time friday worker would receive email subject line role'"
      ]
     },
     "execution_count": 235,
     "metadata": {},
     "output_type": "execute_result"
    }
   ],
   "source": [
    "tweets_raw.Cleaned_Text.iloc[4]"
   ]
  },
  {
   "cell_type": "code",
   "execution_count": 236,
   "metadata": {
    "scrolled": false
   },
   "outputs": [
    {
     "data": {
      "text/plain": [
       "'«An email went out to the company’s employees late Thursday notifying employees of plans to cut jobs, informing them that by 9 a.m. Pacific time Friday, workers would receive an email with the subject line: “Your Role at Twitter.”» #Twitter #ChiefTwit  https://t.co/ypfkN5mHjS'"
      ]
     },
     "execution_count": 236,
     "metadata": {},
     "output_type": "execute_result"
    }
   ],
   "source": [
    "tweets_raw.text.iloc[4]"
   ]
  },
  {
   "cell_type": "code",
   "execution_count": 223,
   "metadata": {},
   "outputs": [],
   "source": [
    "def Tokenizing_tweets(df):\n",
    "    '''\n",
    "    This function will Clean the given dataframe from any URL's, Mentions, Hashtags, Punctuations, Numbers,etc.\n",
    "    and also lemmitize the words and returns a dataframe with cleaned tweet as a new column.\n",
    "    \n",
    "    '''  \n",
    "\n",
    "    Extended_Stop_Words = stopwords.words('english')\n",
    "    Extended_Stop_Words.extend(['elon','musk','twitter'])\n",
    "    def clean_tweet(tweet):\n",
    "        if type(tweet) == np.float:\n",
    "            return \"\"\n",
    "        temp = tweet.lower() # lower case the text\n",
    "        temp = re.sub(\"'\", \"\", temp) # to avoid removing contractions in english\n",
    "        temp = re.sub(\"@[A-Za-z0-9_]+\",\"\", temp) # removes mentions\n",
    "        temp = re.sub(\"#[A-Za-z0-9_]+\",\"\", temp) # removes hashtags\n",
    "        temp = re.sub(r'http\\S+', '', temp) # removes URL's\n",
    "        temp = re.sub('[()!?]', ' ', temp) # removes special charecters\n",
    "        temp = re.sub('\\[.*?\\]',' ', temp) # further removes special charecters\n",
    "        temp = re.sub(\"[^a-z0-9]\",\" \", temp)\n",
    "        temp = temp.split() # splitting the words\n",
    "        temp = [w for w in temp if not w in Extended_Stop_Words] # Removes the stop words and Lemming\n",
    "        return temp\n",
    "    results = [clean_tweet(tw) for tw in list(df.text)] # iterete over each tweet and clean it based on above function\n",
    "    df['Tokenized_Text'] = results\n",
    "    return df "
   ]
  },
  {
   "cell_type": "code",
   "execution_count": 218,
   "metadata": {},
   "outputs": [
    {
     "data": {
      "text/html": [
       "<div>\n",
       "<style scoped>\n",
       "    .dataframe tbody tr th:only-of-type {\n",
       "        vertical-align: middle;\n",
       "    }\n",
       "\n",
       "    .dataframe tbody tr th {\n",
       "        vertical-align: top;\n",
       "    }\n",
       "\n",
       "    .dataframe thead th {\n",
       "        text-align: right;\n",
       "    }\n",
       "</style>\n",
       "<table border=\"1\" class=\"dataframe\">\n",
       "  <thead>\n",
       "    <tr style=\"text-align: right;\">\n",
       "      <th></th>\n",
       "      <th>text</th>\n",
       "      <th>Sentiment</th>\n",
       "      <th>Cleaned_Text</th>\n",
       "      <th>Tokenized_Text</th>\n",
       "      <th>Tokenized_Text1</th>\n",
       "    </tr>\n",
       "  </thead>\n",
       "  <tbody>\n",
       "    <tr>\n",
       "      <th>0</th>\n",
       "      <td>Elon Musk took over Twitter. If anyone doesn't...</td>\n",
       "      <td>Neutral</td>\n",
       "      <td>elon musk took twitter anyone doesnt want leav...</td>\n",
       "      <td>[took, anyone, doesnt, wants, leave, dont, let...</td>\n",
       "      <td>[took, twitter, anyone, doesnt, wants, leave, ...</td>\n",
       "    </tr>\n",
       "    <tr>\n",
       "      <th>1</th>\n",
       "      <td>Why is this Twitter buyout a good thing again?...</td>\n",
       "      <td>Positive</td>\n",
       "      <td>twitter buyout good thing also elon musk alway...</td>\n",
       "      <td>[buyout, good, thing, also, always, resting, s...</td>\n",
       "      <td>[twitter, buyout, good, thing, also, always, r...</td>\n",
       "    </tr>\n",
       "    <tr>\n",
       "      <th>2</th>\n",
       "      <td>Elon Musk’s Twitter layoffs are starting https...</td>\n",
       "      <td>Neutral</td>\n",
       "      <td>elon musk twitter layoff starting</td>\n",
       "      <td>[layoffs, starting]</td>\n",
       "      <td>[twitter, layoffs, starting]</td>\n",
       "    </tr>\n",
       "    <tr>\n",
       "      <th>3</th>\n",
       "      <td>Elon Musk is shocked\\n\\n@AntonioIvanchev,@tsek...</td>\n",
       "      <td>Negative</td>\n",
       "      <td>elon musk shocked</td>\n",
       "      <td>[shocked]</td>\n",
       "      <td>[shocked]</td>\n",
       "    </tr>\n",
       "    <tr>\n",
       "      <th>4</th>\n",
       "      <td>«An email went out to the company’s employees ...</td>\n",
       "      <td>Negative</td>\n",
       "      <td>email went company employee late thursday noti...</td>\n",
       "      <td>[email, went, company, employees, late, thursd...</td>\n",
       "      <td>[email, went, company, employees, late, thursd...</td>\n",
       "    </tr>\n",
       "    <tr>\n",
       "      <th>...</th>\n",
       "      <td>...</td>\n",
       "      <td>...</td>\n",
       "      <td>...</td>\n",
       "      <td>...</td>\n",
       "      <td>...</td>\n",
       "    </tr>\n",
       "    <tr>\n",
       "      <th>30330</th>\n",
       "      <td>'No choice': Elon Musk justifies mass layoffs ...</td>\n",
       "      <td>Negative</td>\n",
       "      <td>choice elon musk justifies mass layoff twitter</td>\n",
       "      <td>[choice, justifies, mass, layoffs]</td>\n",
       "      <td>[choice, justifies, mass, layoffs, twitter]</td>\n",
       "    </tr>\n",
       "    <tr>\n",
       "      <th>30331</th>\n",
       "      <td>Here's why Binance's CZ invested in Twitter fo...</td>\n",
       "      <td>Neutral</td>\n",
       "      <td>here binances cz invested twitter following el...</td>\n",
       "      <td>[heres, binances, cz, invested, following, acq...</td>\n",
       "      <td>[heres, binances, cz, invested, twitter, follo...</td>\n",
       "    </tr>\n",
       "    <tr>\n",
       "      <th>30332</th>\n",
       "      <td>Elon Musk says Twitter had ‘no choice’ over th...</td>\n",
       "      <td>Neutral</td>\n",
       "      <td>elon musk say twitter choice thousand layoff c...</td>\n",
       "      <td>[says, choice, thousands, layoffs, company, lo...</td>\n",
       "      <td>[says, twitter, choice, thousands, layoffs, co...</td>\n",
       "    </tr>\n",
       "    <tr>\n",
       "      <th>30333</th>\n",
       "      <td>Thousands of staff at social media company Twi...</td>\n",
       "      <td>Neutral</td>\n",
       "      <td>thousand staff social medium company twitter j...</td>\n",
       "      <td>[thousands, staff, social, media, company, job...</td>\n",
       "      <td>[thousands, staff, social, media, company, twi...</td>\n",
       "    </tr>\n",
       "    <tr>\n",
       "      <th>30334</th>\n",
       "      <td>Thousands of staff at social media company Twi...</td>\n",
       "      <td>Neutral</td>\n",
       "      <td>thousand staff social medium company twitter j...</td>\n",
       "      <td>[thousands, staff, social, media, company, job...</td>\n",
       "      <td>[thousands, staff, social, media, company, twi...</td>\n",
       "    </tr>\n",
       "  </tbody>\n",
       "</table>\n",
       "<p>30335 rows × 5 columns</p>\n",
       "</div>"
      ],
      "text/plain": [
       "                                                    text Sentiment  \\\n",
       "0      Elon Musk took over Twitter. If anyone doesn't...   Neutral   \n",
       "1      Why is this Twitter buyout a good thing again?...  Positive   \n",
       "2      Elon Musk’s Twitter layoffs are starting https...   Neutral   \n",
       "3      Elon Musk is shocked\\n\\n@AntonioIvanchev,@tsek...  Negative   \n",
       "4      «An email went out to the company’s employees ...  Negative   \n",
       "...                                                  ...       ...   \n",
       "30330  'No choice': Elon Musk justifies mass layoffs ...  Negative   \n",
       "30331  Here's why Binance's CZ invested in Twitter fo...   Neutral   \n",
       "30332  Elon Musk says Twitter had ‘no choice’ over th...   Neutral   \n",
       "30333  Thousands of staff at social media company Twi...   Neutral   \n",
       "30334  Thousands of staff at social media company Twi...   Neutral   \n",
       "\n",
       "                                            Cleaned_Text  \\\n",
       "0      elon musk took twitter anyone doesnt want leav...   \n",
       "1      twitter buyout good thing also elon musk alway...   \n",
       "2                      elon musk twitter layoff starting   \n",
       "3                                      elon musk shocked   \n",
       "4      email went company employee late thursday noti...   \n",
       "...                                                  ...   \n",
       "30330     choice elon musk justifies mass layoff twitter   \n",
       "30331  here binances cz invested twitter following el...   \n",
       "30332  elon musk say twitter choice thousand layoff c...   \n",
       "30333  thousand staff social medium company twitter j...   \n",
       "30334  thousand staff social medium company twitter j...   \n",
       "\n",
       "                                          Tokenized_Text  \\\n",
       "0      [took, anyone, doesnt, wants, leave, dont, let...   \n",
       "1      [buyout, good, thing, also, always, resting, s...   \n",
       "2                                    [layoffs, starting]   \n",
       "3                                              [shocked]   \n",
       "4      [email, went, company, employees, late, thursd...   \n",
       "...                                                  ...   \n",
       "30330                 [choice, justifies, mass, layoffs]   \n",
       "30331  [heres, binances, cz, invested, following, acq...   \n",
       "30332  [says, choice, thousands, layoffs, company, lo...   \n",
       "30333  [thousands, staff, social, media, company, job...   \n",
       "30334  [thousands, staff, social, media, company, job...   \n",
       "\n",
       "                                         Tokenized_Text1  \n",
       "0      [took, twitter, anyone, doesnt, wants, leave, ...  \n",
       "1      [twitter, buyout, good, thing, also, always, r...  \n",
       "2                           [twitter, layoffs, starting]  \n",
       "3                                              [shocked]  \n",
       "4      [email, went, company, employees, late, thursd...  \n",
       "...                                                  ...  \n",
       "30330        [choice, justifies, mass, layoffs, twitter]  \n",
       "30331  [heres, binances, cz, invested, twitter, follo...  \n",
       "30332  [says, twitter, choice, thousands, layoffs, co...  \n",
       "30333  [thousands, staff, social, media, company, twi...  \n",
       "30334  [thousands, staff, social, media, company, twi...  \n",
       "\n",
       "[30335 rows x 5 columns]"
      ]
     },
     "execution_count": 218,
     "metadata": {},
     "output_type": "execute_result"
    }
   ],
   "source": [
    "Tokenizing_tweets(tweets_raw)"
   ]
  },
  {
   "cell_type": "code",
   "execution_count": 219,
   "metadata": {},
   "outputs": [],
   "source": [
    "Positive_sent = tweets_raw[tweets_raw['Sentiment']=='Positive']\n",
    "Negative_sent = tweets_raw[tweets_raw['Sentiment']=='Negative']\n",
    "Neutral_sent = tweets_raw[tweets_raw['Sentiment']=='Neutral']"
   ]
  },
  {
   "cell_type": "code",
   "execution_count": 220,
   "metadata": {},
   "outputs": [
    {
     "data": {
      "text/html": [
       "<style type=\"text/css\">\n",
       "#T_9e9a5_row0_col1 {\n",
       "  background-color: #00441b;\n",
       "  color: #f1f1f1;\n",
       "}\n",
       "#T_9e9a5_row1_col1 {\n",
       "  background-color: #70c274;\n",
       "  color: #000000;\n",
       "}\n",
       "#T_9e9a5_row2_col1 {\n",
       "  background-color: #91d28e;\n",
       "  color: #000000;\n",
       "}\n",
       "#T_9e9a5_row3_col1 {\n",
       "  background-color: #9ed798;\n",
       "  color: #000000;\n",
       "}\n",
       "#T_9e9a5_row4_col1, #T_9e9a5_row5_col1 {\n",
       "  background-color: #a7dba0;\n",
       "  color: #000000;\n",
       "}\n",
       "#T_9e9a5_row6_col1 {\n",
       "  background-color: #bae3b3;\n",
       "  color: #000000;\n",
       "}\n",
       "#T_9e9a5_row7_col1 {\n",
       "  background-color: #c9eac2;\n",
       "  color: #000000;\n",
       "}\n",
       "#T_9e9a5_row8_col1 {\n",
       "  background-color: #dbf1d5;\n",
       "  color: #000000;\n",
       "}\n",
       "#T_9e9a5_row9_col1 {\n",
       "  background-color: #e5f5e1;\n",
       "  color: #000000;\n",
       "}\n",
       "#T_9e9a5_row10_col1 {\n",
       "  background-color: #e7f6e2;\n",
       "  color: #000000;\n",
       "}\n",
       "#T_9e9a5_row11_col1 {\n",
       "  background-color: #edf8ea;\n",
       "  color: #000000;\n",
       "}\n",
       "#T_9e9a5_row12_col1 {\n",
       "  background-color: #f0f9ec;\n",
       "  color: #000000;\n",
       "}\n",
       "#T_9e9a5_row13_col1 {\n",
       "  background-color: #f1faee;\n",
       "  color: #000000;\n",
       "}\n",
       "#T_9e9a5_row14_col1, #T_9e9a5_row15_col1 {\n",
       "  background-color: #f4fbf2;\n",
       "  color: #000000;\n",
       "}\n",
       "#T_9e9a5_row16_col1 {\n",
       "  background-color: #f5fbf2;\n",
       "  color: #000000;\n",
       "}\n",
       "#T_9e9a5_row17_col1, #T_9e9a5_row18_col1, #T_9e9a5_row19_col1 {\n",
       "  background-color: #f7fcf5;\n",
       "  color: #000000;\n",
       "}\n",
       "</style>\n",
       "<table id=\"T_9e9a5_\">\n",
       "  <thead>\n",
       "    <tr>\n",
       "      <th class=\"blank level0\" >&nbsp;</th>\n",
       "      <th class=\"col_heading level0 col0\" >Common_words</th>\n",
       "      <th class=\"col_heading level0 col1\" >count</th>\n",
       "    </tr>\n",
       "  </thead>\n",
       "  <tbody>\n",
       "    <tr>\n",
       "      <th id=\"T_9e9a5_level0_row0\" class=\"row_heading level0 row0\" >0</th>\n",
       "      <td id=\"T_9e9a5_row0_col0\" class=\"data row0 col0\" >like</td>\n",
       "      <td id=\"T_9e9a5_row0_col1\" class=\"data row0 col1\" >1349</td>\n",
       "    </tr>\n",
       "    <tr>\n",
       "      <th id=\"T_9e9a5_level0_row1\" class=\"row_heading level0 row1\" >1</th>\n",
       "      <td id=\"T_9e9a5_row1_col0\" class=\"data row1 col0\" >free</td>\n",
       "      <td id=\"T_9e9a5_row1_col1\" class=\"data row1 col1\" >879</td>\n",
       "    </tr>\n",
       "    <tr>\n",
       "      <th id=\"T_9e9a5_level0_row2\" class=\"row_heading level0 row2\" >2</th>\n",
       "      <td id=\"T_9e9a5_row2_col0\" class=\"data row2 col0\" >people</td>\n",
       "      <td id=\"T_9e9a5_row2_col1\" class=\"data row2 col1\" >794</td>\n",
       "    </tr>\n",
       "    <tr>\n",
       "      <th id=\"T_9e9a5_level0_row3\" class=\"row_heading level0 row3\" >3</th>\n",
       "      <td id=\"T_9e9a5_row3_col0\" class=\"data row3 col0\" >help</td>\n",
       "      <td id=\"T_9e9a5_row3_col1\" class=\"data row3 col1\" >762</td>\n",
       "    </tr>\n",
       "    <tr>\n",
       "      <th id=\"T_9e9a5_level0_row4\" class=\"row_heading level0 row4\" >4</th>\n",
       "      <td id=\"T_9e9a5_row4_col0\" class=\"data row4 col0\" >please</td>\n",
       "      <td id=\"T_9e9a5_row4_col1\" class=\"data row4 col1\" >736</td>\n",
       "    </tr>\n",
       "    <tr>\n",
       "      <th id=\"T_9e9a5_level0_row5\" class=\"row_heading level0 row5\" >5</th>\n",
       "      <td id=\"T_9e9a5_row5_col0\" class=\"data row5 col0\" >speech</td>\n",
       "      <td id=\"T_9e9a5_row5_col1\" class=\"data row5 col1\" >733</td>\n",
       "    </tr>\n",
       "    <tr>\n",
       "      <th id=\"T_9e9a5_level0_row6\" class=\"row_heading level0 row6\" >6</th>\n",
       "      <td id=\"T_9e9a5_row6_col0\" class=\"data row6 col0\" >need</td>\n",
       "      <td id=\"T_9e9a5_row6_col1\" class=\"data row6 col1\" >676</td>\n",
       "    </tr>\n",
       "    <tr>\n",
       "      <th id=\"T_9e9a5_level0_row7\" class=\"row_heading level0 row7\" >7</th>\n",
       "      <td id=\"T_9e9a5_row7_col0\" class=\"data row7 col0\" >get</td>\n",
       "      <td id=\"T_9e9a5_row7_col1\" class=\"data row7 col1\" >628</td>\n",
       "    </tr>\n",
       "    <tr>\n",
       "      <th id=\"T_9e9a5_level0_row8\" class=\"row_heading level0 row8\" >8</th>\n",
       "      <td id=\"T_9e9a5_row8_col0\" class=\"data row8 col0\" >employees</td>\n",
       "      <td id=\"T_9e9a5_row8_col1\" class=\"data row8 col1\" >556</td>\n",
       "    </tr>\n",
       "    <tr>\n",
       "      <th id=\"T_9e9a5_level0_row9\" class=\"row_heading level0 row9\" >9</th>\n",
       "      <td id=\"T_9e9a5_row9_col0\" class=\"data row9 col0\" >musks</td>\n",
       "      <td id=\"T_9e9a5_row9_col1\" class=\"data row9 col1\" >512</td>\n",
       "    </tr>\n",
       "    <tr>\n",
       "      <th id=\"T_9e9a5_level0_row10\" class=\"row_heading level0 row10\" >10</th>\n",
       "      <td id=\"T_9e9a5_row10_col0\" class=\"data row10 col0\" >good</td>\n",
       "      <td id=\"T_9e9a5_row10_col1\" class=\"data row10 col1\" >502</td>\n",
       "    </tr>\n",
       "    <tr>\n",
       "      <th id=\"T_9e9a5_level0_row11\" class=\"row_heading level0 row11\" >11</th>\n",
       "      <td id=\"T_9e9a5_row11_col0\" class=\"data row11 col0\" >new</td>\n",
       "      <td id=\"T_9e9a5_row11_col1\" class=\"data row11 col1\" >460</td>\n",
       "    </tr>\n",
       "    <tr>\n",
       "      <th id=\"T_9e9a5_level0_row12\" class=\"row_heading level0 row12\" >12</th>\n",
       "      <td id=\"T_9e9a5_row12_col0\" class=\"data row12 col0\" >would</td>\n",
       "      <td id=\"T_9e9a5_row12_col1\" class=\"data row12 col1\" >444</td>\n",
       "    </tr>\n",
       "    <tr>\n",
       "      <th id=\"T_9e9a5_level0_row13\" class=\"row_heading level0 row13\" >13</th>\n",
       "      <td id=\"T_9e9a5_row13_col0\" class=\"data row13 col0\" >layoffs</td>\n",
       "      <td id=\"T_9e9a5_row13_col1\" class=\"data row13 col1\" >435</td>\n",
       "    </tr>\n",
       "    <tr>\n",
       "      <th id=\"T_9e9a5_level0_row14\" class=\"row_heading level0 row14\" >14</th>\n",
       "      <td id=\"T_9e9a5_row14_col0\" class=\"data row14 col0\" >amp</td>\n",
       "      <td id=\"T_9e9a5_row14_col1\" class=\"data row14 col1\" >413</td>\n",
       "    </tr>\n",
       "    <tr>\n",
       "      <th id=\"T_9e9a5_level0_row15\" class=\"row_heading level0 row15\" >15</th>\n",
       "      <td id=\"T_9e9a5_row15_col0\" class=\"data row15 col0\" >make</td>\n",
       "      <td id=\"T_9e9a5_row15_col1\" class=\"data row15 col1\" >412</td>\n",
       "    </tr>\n",
       "    <tr>\n",
       "      <th id=\"T_9e9a5_level0_row16\" class=\"row_heading level0 row16\" >16</th>\n",
       "      <td id=\"T_9e9a5_row16_col0\" class=\"data row16 col0\" >think</td>\n",
       "      <td id=\"T_9e9a5_row16_col1\" class=\"data row16 col1\" >411</td>\n",
       "    </tr>\n",
       "    <tr>\n",
       "      <th id=\"T_9e9a5_level0_row17\" class=\"row_heading level0 row17\" >17</th>\n",
       "      <td id=\"T_9e9a5_row17_col0\" class=\"data row17 col0\" >platform</td>\n",
       "      <td id=\"T_9e9a5_row17_col1\" class=\"data row17 col1\" >396</td>\n",
       "    </tr>\n",
       "    <tr>\n",
       "      <th id=\"T_9e9a5_level0_row18\" class=\"row_heading level0 row18\" >18</th>\n",
       "      <td id=\"T_9e9a5_row18_col0\" class=\"data row18 col0\" >8</td>\n",
       "      <td id=\"T_9e9a5_row18_col1\" class=\"data row18 col1\" >394</td>\n",
       "    </tr>\n",
       "    <tr>\n",
       "      <th id=\"T_9e9a5_level0_row19\" class=\"row_heading level0 row19\" >19</th>\n",
       "      <td id=\"T_9e9a5_row19_col0\" class=\"data row19 col0\" >company</td>\n",
       "      <td id=\"T_9e9a5_row19_col1\" class=\"data row19 col1\" >393</td>\n",
       "    </tr>\n",
       "  </tbody>\n",
       "</table>\n"
      ],
      "text/plain": [
       "<pandas.io.formats.style.Styler at 0x19330bb5c70>"
      ]
     },
     "execution_count": 220,
     "metadata": {},
     "output_type": "execute_result"
    }
   ],
   "source": [
    "#MosT common positive words\n",
    "from collections import Counter\n",
    "\n",
    "top = Counter([item for sublist in Positive_sent['Tokenized_Text'] for item in sublist])\n",
    "temp_positive = pd.DataFrame(top.most_common(20))\n",
    "temp_positive.columns = ['Common_words','count']\n",
    "temp_positive.style.background_gradient(cmap='Greens')"
   ]
  },
  {
   "cell_type": "code",
   "execution_count": 221,
   "metadata": {
    "scrolled": false
   },
   "outputs": [
    {
     "data": {
      "text/html": [
       "<style type=\"text/css\">\n",
       "#T_58dbb_row0_col1 {\n",
       "  background-color: #67000d;\n",
       "  color: #f1f1f1;\n",
       "}\n",
       "#T_58dbb_row1_col1 {\n",
       "  background-color: #dc2924;\n",
       "  color: #f1f1f1;\n",
       "}\n",
       "#T_58dbb_row2_col1 {\n",
       "  background-color: #fb7252;\n",
       "  color: #f1f1f1;\n",
       "}\n",
       "#T_58dbb_row3_col1 {\n",
       "  background-color: #fc9879;\n",
       "  color: #000000;\n",
       "}\n",
       "#T_58dbb_row4_col1, #T_58dbb_row5_col1 {\n",
       "  background-color: #fc997a;\n",
       "  color: #000000;\n",
       "}\n",
       "#T_58dbb_row6_col1 {\n",
       "  background-color: #fdc9b3;\n",
       "  color: #000000;\n",
       "}\n",
       "#T_58dbb_row7_col1 {\n",
       "  background-color: #fdcbb6;\n",
       "  color: #000000;\n",
       "}\n",
       "#T_58dbb_row8_col1 {\n",
       "  background-color: #fdcdb9;\n",
       "  color: #000000;\n",
       "}\n",
       "#T_58dbb_row9_col1 {\n",
       "  background-color: #fdd5c4;\n",
       "  color: #000000;\n",
       "}\n",
       "#T_58dbb_row10_col1 {\n",
       "  background-color: #fedfd0;\n",
       "  color: #000000;\n",
       "}\n",
       "#T_58dbb_row11_col1 {\n",
       "  background-color: #fee5d8;\n",
       "  color: #000000;\n",
       "}\n",
       "#T_58dbb_row12_col1 {\n",
       "  background-color: #fee7db;\n",
       "  color: #000000;\n",
       "}\n",
       "#T_58dbb_row13_col1, #T_58dbb_row14_col1 {\n",
       "  background-color: #fee9df;\n",
       "  color: #000000;\n",
       "}\n",
       "#T_58dbb_row15_col1 {\n",
       "  background-color: #ffece4;\n",
       "  color: #000000;\n",
       "}\n",
       "#T_58dbb_row16_col1 {\n",
       "  background-color: #ffefe8;\n",
       "  color: #000000;\n",
       "}\n",
       "#T_58dbb_row17_col1 {\n",
       "  background-color: #fff2eb;\n",
       "  color: #000000;\n",
       "}\n",
       "#T_58dbb_row18_col1 {\n",
       "  background-color: #fff4ee;\n",
       "  color: #000000;\n",
       "}\n",
       "#T_58dbb_row19_col1 {\n",
       "  background-color: #fff5f0;\n",
       "  color: #000000;\n",
       "}\n",
       "</style>\n",
       "<table id=\"T_58dbb_\">\n",
       "  <thead>\n",
       "    <tr>\n",
       "      <th class=\"blank level0\" >&nbsp;</th>\n",
       "      <th class=\"col_heading level0 col0\" >Common_words</th>\n",
       "      <th class=\"col_heading level0 col1\" >count</th>\n",
       "    </tr>\n",
       "  </thead>\n",
       "  <tbody>\n",
       "    <tr>\n",
       "      <th id=\"T_58dbb_level0_row0\" class=\"row_heading level0 row0\" >0</th>\n",
       "      <td id=\"T_58dbb_row0_col0\" class=\"data row0 col0\" >employees</td>\n",
       "      <td id=\"T_58dbb_row0_col1\" class=\"data row0 col1\" >1571</td>\n",
       "    </tr>\n",
       "    <tr>\n",
       "      <th id=\"T_58dbb_level0_row1\" class=\"row_heading level0 row1\" >1</th>\n",
       "      <td id=\"T_58dbb_row1_col0\" class=\"data row1 col0\" >layoffs</td>\n",
       "      <td id=\"T_58dbb_row1_col1\" class=\"data row1 col1\" >1252</td>\n",
       "    </tr>\n",
       "    <tr>\n",
       "      <th id=\"T_58dbb_level0_row2\" class=\"row_heading level0 row2\" >2</th>\n",
       "      <td id=\"T_58dbb_row2_col0\" class=\"data row2 col0\" >staff</td>\n",
       "      <td id=\"T_58dbb_row2_col1\" class=\"data row2 col1\" >1029</td>\n",
       "    </tr>\n",
       "    <tr>\n",
       "      <th id=\"T_58dbb_level0_row3\" class=\"row_heading level0 row3\" >3</th>\n",
       "      <td id=\"T_58dbb_row3_col0\" class=\"data row3 col0\" >via</td>\n",
       "      <td id=\"T_58dbb_row3_col1\" class=\"data row3 col1\" >908</td>\n",
       "    </tr>\n",
       "    <tr>\n",
       "      <th id=\"T_58dbb_level0_row4\" class=\"row_heading level0 row4\" >4</th>\n",
       "      <td id=\"T_58dbb_row4_col0\" class=\"data row4 col0\" >fired</td>\n",
       "      <td id=\"T_58dbb_row4_col1\" class=\"data row4 col1\" >905</td>\n",
       "    </tr>\n",
       "    <tr>\n",
       "      <th id=\"T_58dbb_level0_row5\" class=\"row_heading level0 row5\" >5</th>\n",
       "      <td id=\"T_58dbb_row5_col0\" class=\"data row5 col0\" >people</td>\n",
       "      <td id=\"T_58dbb_row5_col1\" class=\"data row5 col1\" >904</td>\n",
       "    </tr>\n",
       "    <tr>\n",
       "      <th id=\"T_58dbb_level0_row6\" class=\"row_heading level0 row6\" >6</th>\n",
       "      <td id=\"T_58dbb_row6_col0\" class=\"data row6 col0\" >advertisers</td>\n",
       "      <td id=\"T_58dbb_row6_col1\" class=\"data row6 col1\" >748</td>\n",
       "    </tr>\n",
       "    <tr>\n",
       "      <th id=\"T_58dbb_level0_row7\" class=\"row_heading level0 row7\" >7</th>\n",
       "      <td id=\"T_58dbb_row7_col0\" class=\"data row7 col0\" >company</td>\n",
       "      <td id=\"T_58dbb_row7_col1\" class=\"data row7 col1\" >743</td>\n",
       "    </tr>\n",
       "    <tr>\n",
       "      <th id=\"T_58dbb_level0_row8\" class=\"row_heading level0 row8\" >8</th>\n",
       "      <td id=\"T_58dbb_row8_col0\" class=\"data row8 col0\" >new</td>\n",
       "      <td id=\"T_58dbb_row8_col1\" class=\"data row8 col1\" >733</td>\n",
       "    </tr>\n",
       "    <tr>\n",
       "      <th id=\"T_58dbb_level0_row9\" class=\"row_heading level0 row9\" >9</th>\n",
       "      <td id=\"T_58dbb_row9_col0\" class=\"data row9 col0\" >half</td>\n",
       "      <td id=\"T_58dbb_row9_col1\" class=\"data row9 col1\" >707</td>\n",
       "    </tr>\n",
       "    <tr>\n",
       "      <th id=\"T_58dbb_level0_row10\" class=\"row_heading level0 row10\" >10</th>\n",
       "      <td id=\"T_58dbb_row10_col0\" class=\"data row10 col0\" >platform</td>\n",
       "      <td id=\"T_58dbb_row10_col1\" class=\"data row10 col1\" >673</td>\n",
       "    </tr>\n",
       "    <tr>\n",
       "      <th id=\"T_58dbb_level0_row11\" class=\"row_heading level0 row11\" >11</th>\n",
       "      <td id=\"T_58dbb_row11_col0\" class=\"data row11 col0\" >make</td>\n",
       "      <td id=\"T_58dbb_row11_col1\" class=\"data row11 col1\" >639</td>\n",
       "    </tr>\n",
       "    <tr>\n",
       "      <th id=\"T_58dbb_level0_row12\" class=\"row_heading level0 row12\" >12</th>\n",
       "      <td id=\"T_58dbb_row12_col0\" class=\"data row12 col0\" >musks</td>\n",
       "      <td id=\"T_58dbb_row12_col1\" class=\"data row12 col1\" >628</td>\n",
       "    </tr>\n",
       "    <tr>\n",
       "      <th id=\"T_58dbb_level0_row13\" class=\"row_heading level0 row13\" >13</th>\n",
       "      <td id=\"T_58dbb_row13_col0\" class=\"data row13 col0\" >drop</td>\n",
       "      <td id=\"T_58dbb_row13_col1\" class=\"data row13 col1\" >614</td>\n",
       "    </tr>\n",
       "    <tr>\n",
       "      <th id=\"T_58dbb_level0_row14\" class=\"row_heading level0 row14\" >14</th>\n",
       "      <td id=\"T_58dbb_row14_col0\" class=\"data row14 col0\" >cuts</td>\n",
       "      <td id=\"T_58dbb_row14_col1\" class=\"data row14 col1\" >611</td>\n",
       "    </tr>\n",
       "    <tr>\n",
       "      <th id=\"T_58dbb_level0_row15\" class=\"row_heading level0 row15\" >15</th>\n",
       "      <td id=\"T_58dbb_row15_col0\" class=\"data row15 col0\" >says</td>\n",
       "      <td id=\"T_58dbb_row15_col1\" class=\"data row15 col1\" >593</td>\n",
       "    </tr>\n",
       "    <tr>\n",
       "      <th id=\"T_58dbb_level0_row16\" class=\"row_heading level0 row16\" >16</th>\n",
       "      <td id=\"T_58dbb_row16_col0\" class=\"data row16 col0\" >mass</td>\n",
       "      <td id=\"T_58dbb_row16_col1\" class=\"data row16 col1\" >577</td>\n",
       "    </tr>\n",
       "    <tr>\n",
       "      <th id=\"T_58dbb_level0_row17\" class=\"row_heading level0 row17\" >17</th>\n",
       "      <td id=\"T_58dbb_row17_col0\" class=\"data row17 col0\" >like</td>\n",
       "      <td id=\"T_58dbb_row17_col1\" class=\"data row17 col1\" >561</td>\n",
       "    </tr>\n",
       "    <tr>\n",
       "      <th id=\"T_58dbb_level0_row18\" class=\"row_heading level0 row18\" >18</th>\n",
       "      <td id=\"T_58dbb_row18_col0\" class=\"data row18 col0\" >revenue</td>\n",
       "      <td id=\"T_58dbb_row18_col1\" class=\"data row18 col1\" >549</td>\n",
       "    </tr>\n",
       "    <tr>\n",
       "      <th id=\"T_58dbb_level0_row19\" class=\"row_heading level0 row19\" >19</th>\n",
       "      <td id=\"T_58dbb_row19_col0\" class=\"data row19 col0\" >amp</td>\n",
       "      <td id=\"T_58dbb_row19_col1\" class=\"data row19 col1\" >538</td>\n",
       "    </tr>\n",
       "  </tbody>\n",
       "</table>\n"
      ],
      "text/plain": [
       "<pandas.io.formats.style.Styler at 0x19332b82e80>"
      ]
     },
     "execution_count": 221,
     "metadata": {},
     "output_type": "execute_result"
    }
   ],
   "source": [
    "#MosT common positive words\n",
    "from collections import Counter\n",
    "\n",
    "top = Counter([item for sublist in Negative_sent['Tokenized_Text'] for item in sublist])\n",
    "temp_positive = pd.DataFrame(top.most_common(20))\n",
    "temp_positive.columns = ['Common_words','count']\n",
    "temp_positive.style.background_gradient(cmap='Reds')"
   ]
  },
  {
   "cell_type": "code",
   "execution_count": 222,
   "metadata": {},
   "outputs": [
    {
     "data": {
      "text/html": [
       "<style type=\"text/css\">\n",
       "#T_64f8c_row0_col1 {\n",
       "  background-color: #08306b;\n",
       "  color: #f1f1f1;\n",
       "}\n",
       "#T_64f8c_row1_col1 {\n",
       "  background-color: #6dafd7;\n",
       "  color: #f1f1f1;\n",
       "}\n",
       "#T_64f8c_row2_col1 {\n",
       "  background-color: #a1cbe2;\n",
       "  color: #000000;\n",
       "}\n",
       "#T_64f8c_row3_col1 {\n",
       "  background-color: #a5cde3;\n",
       "  color: #000000;\n",
       "}\n",
       "#T_64f8c_row4_col1 {\n",
       "  background-color: #bfd8ed;\n",
       "  color: #000000;\n",
       "}\n",
       "#T_64f8c_row5_col1 {\n",
       "  background-color: #c2d9ee;\n",
       "  color: #000000;\n",
       "}\n",
       "#T_64f8c_row6_col1 {\n",
       "  background-color: #cadef0;\n",
       "  color: #000000;\n",
       "}\n",
       "#T_64f8c_row7_col1 {\n",
       "  background-color: #cddff1;\n",
       "  color: #000000;\n",
       "}\n",
       "#T_64f8c_row8_col1 {\n",
       "  background-color: #dfecf7;\n",
       "  color: #000000;\n",
       "}\n",
       "#T_64f8c_row9_col1 {\n",
       "  background-color: #e0ecf8;\n",
       "  color: #000000;\n",
       "}\n",
       "#T_64f8c_row10_col1 {\n",
       "  background-color: #e8f1fa;\n",
       "  color: #000000;\n",
       "}\n",
       "#T_64f8c_row11_col1 {\n",
       "  background-color: #ebf3fb;\n",
       "  color: #000000;\n",
       "}\n",
       "#T_64f8c_row12_col1 {\n",
       "  background-color: #eef5fc;\n",
       "  color: #000000;\n",
       "}\n",
       "#T_64f8c_row13_col1, #T_64f8c_row14_col1, #T_64f8c_row15_col1 {\n",
       "  background-color: #f5f9fe;\n",
       "  color: #000000;\n",
       "}\n",
       "#T_64f8c_row16_col1, #T_64f8c_row17_col1 {\n",
       "  background-color: #f6faff;\n",
       "  color: #000000;\n",
       "}\n",
       "#T_64f8c_row18_col1, #T_64f8c_row19_col1 {\n",
       "  background-color: #f7fbff;\n",
       "  color: #000000;\n",
       "}\n",
       "</style>\n",
       "<table id=\"T_64f8c_\">\n",
       "  <thead>\n",
       "    <tr>\n",
       "      <th class=\"blank level0\" >&nbsp;</th>\n",
       "      <th class=\"col_heading level0 col0\" >Common_words</th>\n",
       "      <th class=\"col_heading level0 col1\" >count</th>\n",
       "    </tr>\n",
       "  </thead>\n",
       "  <tbody>\n",
       "    <tr>\n",
       "      <th id=\"T_64f8c_level0_row0\" class=\"row_heading level0 row0\" >0</th>\n",
       "      <td id=\"T_64f8c_row0_col0\" class=\"data row0 col0\" >layoffs</td>\n",
       "      <td id=\"T_64f8c_row0_col1\" class=\"data row0 col1\" >2018</td>\n",
       "    </tr>\n",
       "    <tr>\n",
       "      <th id=\"T_64f8c_level0_row1\" class=\"row_heading level0 row1\" >1</th>\n",
       "      <td id=\"T_64f8c_row1_col0\" class=\"data row1 col0\" >mass</td>\n",
       "      <td id=\"T_64f8c_row1_col1\" class=\"data row1 col1\" >1140</td>\n",
       "    </tr>\n",
       "    <tr>\n",
       "      <th id=\"T_64f8c_level0_row2\" class=\"row_heading level0 row2\" >2</th>\n",
       "      <td id=\"T_64f8c_row2_col0\" class=\"data row2 col0\" >employees</td>\n",
       "      <td id=\"T_64f8c_row2_col1\" class=\"data row2 col1\" >916</td>\n",
       "    </tr>\n",
       "    <tr>\n",
       "      <th id=\"T_64f8c_level0_row3\" class=\"row_heading level0 row3\" >3</th>\n",
       "      <td id=\"T_64f8c_row3_col0\" class=\"data row3 col0\" >musks</td>\n",
       "      <td id=\"T_64f8c_row3_col1\" class=\"data row3 col1\" >893</td>\n",
       "    </tr>\n",
       "    <tr>\n",
       "      <th id=\"T_64f8c_level0_row4\" class=\"row_heading level0 row4\" >4</th>\n",
       "      <td id=\"T_64f8c_row4_col0\" class=\"data row4 col0\" >begin</td>\n",
       "      <td id=\"T_64f8c_row4_col1\" class=\"data row4 col1\" >752</td>\n",
       "    </tr>\n",
       "    <tr>\n",
       "      <th id=\"T_64f8c_level0_row5\" class=\"row_heading level0 row5\" >5</th>\n",
       "      <td id=\"T_64f8c_row5_col0\" class=\"data row5 col0\" >staff</td>\n",
       "      <td id=\"T_64f8c_row5_col1\" class=\"data row5 col1\" >741</td>\n",
       "    </tr>\n",
       "    <tr>\n",
       "      <th id=\"T_64f8c_level0_row6\" class=\"row_heading level0 row6\" >6</th>\n",
       "      <td id=\"T_64f8c_row6_col0\" class=\"data row6 col0\" >takeover</td>\n",
       "      <td id=\"T_64f8c_row6_col1\" class=\"data row6 col1\" >676</td>\n",
       "    </tr>\n",
       "    <tr>\n",
       "      <th id=\"T_64f8c_level0_row7\" class=\"row_heading level0 row7\" >7</th>\n",
       "      <td id=\"T_64f8c_row7_col0\" class=\"data row7 col0\" >via</td>\n",
       "      <td id=\"T_64f8c_row7_col1\" class=\"data row7 col1\" >657</td>\n",
       "    </tr>\n",
       "    <tr>\n",
       "      <th id=\"T_64f8c_level0_row8\" class=\"row_heading level0 row8\" >8</th>\n",
       "      <td id=\"T_64f8c_row8_col0\" class=\"data row8 col0\" >friday</td>\n",
       "      <td id=\"T_64f8c_row8_col1\" class=\"data row8 col1\" >486</td>\n",
       "    </tr>\n",
       "    <tr>\n",
       "      <th id=\"T_64f8c_level0_row9\" class=\"row_heading level0 row9\" >9</th>\n",
       "      <td id=\"T_64f8c_row9_col0\" class=\"data row9 col0\" >begins</td>\n",
       "      <td id=\"T_64f8c_row9_col1\" class=\"data row9 col1\" >480</td>\n",
       "    </tr>\n",
       "    <tr>\n",
       "      <th id=\"T_64f8c_level0_row10\" class=\"row_heading level0 row10\" >10</th>\n",
       "      <td id=\"T_64f8c_row10_col0\" class=\"data row10 col0\" >sued</td>\n",
       "      <td id=\"T_64f8c_row10_col1\" class=\"data row10 col1\" >414</td>\n",
       "    </tr>\n",
       "    <tr>\n",
       "      <th id=\"T_64f8c_level0_row11\" class=\"row_heading level0 row11\" >11</th>\n",
       "      <td id=\"T_64f8c_row11_col0\" class=\"data row11 col0\" >new</td>\n",
       "      <td id=\"T_64f8c_row11_col1\" class=\"data row11 col1\" >383</td>\n",
       "    </tr>\n",
       "    <tr>\n",
       "      <th id=\"T_64f8c_level0_row12\" class=\"row_heading level0 row12\" >12</th>\n",
       "      <td id=\"T_64f8c_row12_col0\" class=\"data row12 col0\" >company</td>\n",
       "      <td id=\"T_64f8c_row12_col1\" class=\"data row12 col1\" >368</td>\n",
       "    </tr>\n",
       "    <tr>\n",
       "      <th id=\"T_64f8c_level0_row13\" class=\"row_heading level0 row13\" >13</th>\n",
       "      <td id=\"T_64f8c_row13_col0\" class=\"data row13 col0\" >8</td>\n",
       "      <td id=\"T_64f8c_row13_col1\" class=\"data row13 col1\" >304</td>\n",
       "    </tr>\n",
       "    <tr>\n",
       "      <th id=\"T_64f8c_level0_row14\" class=\"row_heading level0 row14\" >14</th>\n",
       "      <td id=\"T_64f8c_row14_col0\" class=\"data row14 col0\" >week</td>\n",
       "      <td id=\"T_64f8c_row14_col1\" class=\"data row14 col1\" >304</td>\n",
       "    </tr>\n",
       "    <tr>\n",
       "      <th id=\"T_64f8c_level0_row15\" class=\"row_heading level0 row15\" >15</th>\n",
       "      <td id=\"T_64f8c_row15_col0\" class=\"data row15 col0\" >days</td>\n",
       "      <td id=\"T_64f8c_row15_col1\" class=\"data row15 col1\" >302</td>\n",
       "    </tr>\n",
       "    <tr>\n",
       "      <th id=\"T_64f8c_level0_row16\" class=\"row_heading level0 row16\" >16</th>\n",
       "      <td id=\"T_64f8c_row16_col0\" class=\"data row16 col0\" >email</td>\n",
       "      <td id=\"T_64f8c_row16_col1\" class=\"data row16 col1\" >292</td>\n",
       "    </tr>\n",
       "    <tr>\n",
       "      <th id=\"T_64f8c_level0_row17\" class=\"row_heading level0 row17\" >17</th>\n",
       "      <td id=\"T_64f8c_row17_col0\" class=\"data row17 col0\" >blue</td>\n",
       "      <td id=\"T_64f8c_row17_col1\" class=\"data row17 col1\" >289</td>\n",
       "    </tr>\n",
       "    <tr>\n",
       "      <th id=\"T_64f8c_level0_row18\" class=\"row_heading level0 row18\" >18</th>\n",
       "      <td id=\"T_64f8c_row18_col0\" class=\"data row18 col0\" >news</td>\n",
       "      <td id=\"T_64f8c_row18_col1\" class=\"data row18 col1\" >281</td>\n",
       "    </tr>\n",
       "    <tr>\n",
       "      <th id=\"T_64f8c_level0_row19\" class=\"row_heading level0 row19\" >19</th>\n",
       "      <td id=\"T_64f8c_row19_col0\" class=\"data row19 col0\" >social</td>\n",
       "      <td id=\"T_64f8c_row19_col1\" class=\"data row19 col1\" >280</td>\n",
       "    </tr>\n",
       "  </tbody>\n",
       "</table>\n"
      ],
      "text/plain": [
       "<pandas.io.formats.style.Styler at 0x19330c286d0>"
      ]
     },
     "execution_count": 222,
     "metadata": {},
     "output_type": "execute_result"
    }
   ],
   "source": [
    "#MosT common positive words\n",
    "from collections import Counter\n",
    "\n",
    "top = Counter([item for sublist in Neutral_sent['Tokenized_Text'] for item in sublist])\n",
    "temp_positive = pd.DataFrame(top.most_common(20))\n",
    "temp_positive.columns = ['Common_words','count']\n",
    "temp_positive.style.background_gradient(cmap='Blues')"
   ]
  },
  {
   "cell_type": "code",
   "execution_count": 229,
   "metadata": {},
   "outputs": [],
   "source": [
    "X=tweets_raw.Cleaned_Text\n",
    "y=tweets_raw.Sentiment\n",
    "y_NN=pd.get_dummies(tweets_raw.Sentiment)\n",
    "\n",
    "X_train, X_test, y_train, y_test = train_test_split(X, y, test_size=0.2, random_state=42)\n",
    "X_train_NN, X_test_NN, y_train_NN, y_test_NN = train_test_split(X, y_NN, test_size=0.2, random_state=42)"
   ]
  },
  {
   "cell_type": "code",
   "execution_count": 230,
   "metadata": {},
   "outputs": [],
   "source": [
    "def display_cross_validation_results(cross_val,model_name):\n",
    "    '''\n",
    "    Incoporate cross validation results into a pandas dataframe and display validation scores\n",
    "    '''\n",
    "    \n",
    "    cross_val_results = pd.DataFrame(cross_val)\n",
    "    \n",
    "    accuracy = cross_val_results['mean_test_accuracy'][0]\n",
    "    recall = cross_val_results['mean_test_recall'][0]\n",
    "    precision = cross_val_results['mean_test_precision'][0]\n",
    "    \n",
    "    print('Validation','='*60)\n",
    "    print(f'Validation results for {model_name}:')\n",
    "    print(f'Accuracy: {accuracy}')\n",
    "    print(f'Recall: {recall}')\n",
    "    print(f'Precision: {precision}\\n')"
   ]
  },
  {
   "cell_type": "code",
   "execution_count": 231,
   "metadata": {},
   "outputs": [],
   "source": [
    "def display_prediction_results(prediction, actuall, model_name):\n",
    "    '''\n",
    "    Get predictions for X_test samples and display scores\n",
    "    '''\n",
    "    \n",
    "    accuracy = accuracy_score(actuall,prediction)\n",
    "    recall = recall_score(actuall, prediction, average = 'micro')\n",
    "    precision = precision_score(actuall, prediction, average = 'micro')\n",
    "#    roc_auc_score = roc_auc_score(actuall, prediction,  average = 'micro')\n",
    "\n",
    "    print('='*60)\n",
    "    print(f'Predictions for: {model_name}')\n",
    "    print(f'Accuracy: {accuracy}')\n",
    "    print(f'Recall: {recall}')\n",
    "    print(f'Precision: {precision}')\n",
    "#    print(f'Roc_AUC Score: {roc_auc_score}\\n')"
   ]
  },
  {
   "cell_type": "code",
   "execution_count": 232,
   "metadata": {},
   "outputs": [],
   "source": [
    "def display_confusion_matrix_v2(actuall_y,predicted_y,model_name):\n",
    "    conf_matrix = confusion_matrix(y_true=actuall_y, y_pred=predicted_y)\n",
    "\n",
    "    fig, ax = plt.subplots(figsize=(6, 6))\n",
    "    ax.matshow(conf_matrix, cmap=plt.cm.Blues, alpha=0.3)\n",
    "    \n",
    "    for i in range(conf_matrix.shape[0]):\n",
    "        for j in range(conf_matrix.shape[1]):\n",
    "            ax.text(x=j, y=i,s=conf_matrix[i, j], va='center', ha='center', size='xx-large')\n",
    " \n",
    "    plt.xlabel('Predictions', fontsize=14)\n",
    "    plt.ylabel('Actuals', fontsize=14)\n",
    "    plt.title(f'Confusion Matrix for {model_name}');\n",
    "    save_image_as = 'confusion_matrix_' + '_'.join(model_name.split()) + ': ' \n",
    "    fig.savefig(save_image_as)\n",
    "    "
   ]
  },
  {
   "cell_type": "code",
   "execution_count": 233,
   "metadata": {},
   "outputs": [],
   "source": [
    "def display_confusion_matrix(model, X, y, model_name):\n",
    "    print(f'Confusion Matrix for Model: {model_name}')\n",
    "    plot_confusion_matrix(model,X,y)\n",
    "    print('='*80)\n",
    "    "
   ]
  },
  {
   "cell_type": "markdown",
   "metadata": {},
   "source": [
    "# TF_IDF Vectorizer"
   ]
  },
  {
   "cell_type": "code",
   "execution_count": 234,
   "metadata": {
    "scrolled": true
   },
   "outputs": [
    {
     "data": {
      "text/plain": [
       "0.7138206917490411"
      ]
     },
     "metadata": {},
     "output_type": "display_data"
    },
    {
     "data": {
      "text/plain": [
       "{'mnb__alpha': 1.0,\n",
       " 'tfidfvect__input': 'content',\n",
       " 'tfidfvect__ngram_range': (1, 1)}"
      ]
     },
     "metadata": {},
     "output_type": "display_data"
    }
   ],
   "source": [
    "# MultinomialNB\n",
    "# Use pipes to TF_IDF Vectorize X_train and then train MultinomialNB\n",
    "\n",
    "start = time.time()\n",
    "\n",
    "TF_mnb_pipe = Pipeline([('tfidfvect',TfidfVectorizer()), \n",
    "                 ('mnb', MultinomialNB())])\n",
    "\n",
    "grid_accuracy = make_scorer(accuracy_score)\n",
    "grid_recall_micro = make_scorer(recall_score, average = 'micro')\n",
    "grid_precision_micro = make_scorer(precision_score, average = 'micro')\n",
    "\n",
    "TF_mnb_params = {'tfidfvect__input' : ['content'],\n",
    "                 'tfidfvect__ngram_range': [(1, 1), (1, 2), (1, 3)],\n",
    "                 'mnb__alpha' : [1.0]}\n",
    "\n",
    "TF_mnb_model_grid = GridSearchCV(estimator = TF_mnb_pipe, param_grid = TF_mnb_params,\n",
    "                                scoring = {'accuracy' : grid_accuracy, \n",
    "                                           'recall' : grid_recall_micro,\n",
    "                                          'precision' : grid_precision_micro},\n",
    "                                refit = 'accuracy')\n",
    "\n",
    "TF_mnb_model_grid.fit(X_train,y_train)\n",
    "display(TF_mnb_model_grid.best_score_)\n",
    "display(TF_mnb_model_grid.best_params_)\n",
    "#end = time.time()\n",
    "#print(f'Training time: {end-start}')"
   ]
  },
  {
   "cell_type": "code",
   "execution_count": 237,
   "metadata": {},
   "outputs": [
    {
     "name": "stdout",
     "output_type": "stream",
     "text": [
      "Validation ============================================================\n",
      "Validation results for MultinomialNB with TF-IDF Vectorize:\n",
      "Accuracy: 0.7138206917490411\n",
      "Recall: 0.7138206917490411\n",
      "Precision: 0.7138206917490411\n",
      "\n",
      "============================================================\n",
      "Predictions for: MultinomialNB with TF-IDF Vectorize\n",
      "Accuracy: 0.7301796604582166\n",
      "Recall: 0.7301796604582166\n",
      "Precision: 0.7301796604582166\n"
     ]
    }
   ],
   "source": [
    "# Display cross validation results, make prediction for X_test \n",
    "# diplay results.  Use respective functions.\n",
    "\n",
    "model_name = 'MultinomialNB with TF-IDF Vectorize'\n",
    "\n",
    "display_cross_validation_results(TF_mnb_model_grid.cv_results_,model_name)\n",
    "\n",
    "y_hat_TF_MNB = TF_mnb_model_grid.predict(X_test)\n",
    "\n",
    "display_prediction_results(y_hat_TF_MNB, y_test,model_name)\n"
   ]
  },
  {
   "cell_type": "code",
   "execution_count": 238,
   "metadata": {
    "scrolled": true
   },
   "outputs": [
    {
     "name": "stdout",
     "output_type": "stream",
     "text": [
      "Confusion Matrix for Model: MultinomialNB with TF-IDF Vectorize\n",
      "================================================================================\n"
     ]
    },
    {
     "data": {
      "image/png": "[encoded data removed]",
      "text/plain": [
       "<Figure size 432x288 with 2 Axes>"
      ]
     },
     "metadata": {
      "needs_background": "light"
     },
     "output_type": "display_data"
    }
   ],
   "source": [
    "display_confusion_matrix(TF_mnb_model_grid, X_test,\n",
    "                         y_test,model_name)"
   ]
  },
  {
   "cell_type": "code",
   "execution_count": null,
   "metadata": {},
   "outputs": [],
   "source": [
    "results_df = pd.DataFrame(y_test)\n",
    "results_df['tweet_text'] = X_test\n",
    "y_pred_proba = TF_mnb_model_grid.predict_proba(X_test)\n",
    "y_pred_proba = pd.DataFrame(data = y_pred_proba, columns = ['pred_NG','pred_NU','pred_PS'])\n",
    "results_df.insert(loc = 2, column = 'pred_NG' , value = y_pred_proba['pred_NG'].values)\n",
    "results_df.insert(loc = 3, column = 'pred_NU' , value = y_pred_proba['pred_NU'].values)\n",
    "results_df.insert(loc = 4, column = 'pred_PS' , value = y_pred_proba['pred_PS'].values)\n",
    "results_df.insert(loc = 5, column = 'pred' , value = y_hat_TF_MNB)"
   ]
  },
  {
   "cell_type": "code",
   "execution_count": null,
   "metadata": {
    "scrolled": true
   },
   "outputs": [],
   "source": [
    "results_df"
   ]
  },
  {
   "cell_type": "code",
   "execution_count": null,
   "metadata": {
    "scrolled": true
   },
   "outputs": [],
   "source": [
    "errors_df = results_df[results_df['Sentiment'] != results_df['pred']]\n",
    "errors_df"
   ]
  },
  {
   "cell_type": "code",
   "execution_count": null,
   "metadata": {
    "scrolled": true
   },
   "outputs": [],
   "source": [
    "false_neg_df = errors_df[errors_df['Sentiment'] == 'Positive']\n",
    "false_neg_df_sort = false_neg_df.sort_values(by = 'pred_PS')\n",
    "\n",
    "false_neg_df_sort"
   ]
  },
  {
   "cell_type": "code",
   "execution_count": null,
   "metadata": {},
   "outputs": [],
   "source": [
    "most_confident_false_neg = false_neg_df_sort.iloc[0:6].tweet_text.values\n",
    "\n",
    "most_confident_false_neg"
   ]
  },
  {
   "cell_type": "code",
   "execution_count": 239,
   "metadata": {},
   "outputs": [
    {
     "data": {
      "text/plain": [
       "0.8494730150902967"
      ]
     },
     "metadata": {},
     "output_type": "display_data"
    },
    {
     "data": {
      "text/plain": [
       "{'lr__C': 100,\n",
       " 'lr__class_weight': None,\n",
       " 'lr__max_iter': 1000,\n",
       " 'lr__penalty': 'l1',\n",
       " 'lr__solver': 'liblinear',\n",
       " 'tfidfvect__input': 'content',\n",
       " 'tfidfvect__ngram_range': (1, 2)}"
      ]
     },
     "metadata": {},
     "output_type": "display_data"
    }
   ],
   "source": [
    "# LogisticRegression\n",
    "# Use pipes to TF_IDF Vectorize X_train and then train LogisticRegression\n",
    "\n",
    "TF_LR_pipe = Pipeline([('tfidfvect',TfidfVectorizer()), \n",
    "                 ('lr', LogisticRegression())])\n",
    "\n",
    "grid_accuracy = make_scorer(accuracy_score)\n",
    "grid_recall_micro = make_scorer(recall_score, average = 'micro')\n",
    "grid_precision_micro = make_scorer(precision_score, average = 'micro')\n",
    "\n",
    "TF_LR_params = {'tfidfvect__input' : ['content'],\n",
    "                 'tfidfvect__ngram_range': [(1, 2)],\n",
    "                 'lr__penalty' : ['l1'],\n",
    "                'lr__C' : [100],  # tried 1 and 100\n",
    "                'lr__class_weight' : [None],  # tried None and 'balanced'\n",
    "                'lr__solver' : ['liblinear'], # tried 'newton-cg', 'lbfgs', 'liblinear', 'sag', 'saga'\n",
    "                'lr__max_iter' : [1000]} # treid 100,1000\n",
    "\n",
    "TF_LR_model_grid = GridSearchCV(estimator = TF_LR_pipe, param_grid = TF_LR_params,\n",
    "                                scoring = {'accuracy' : grid_accuracy, \n",
    "                                           'recall' : grid_recall_micro,\n",
    "                                          'precision' : grid_precision_micro},\n",
    "                                refit = 'accuracy')\n",
    "\n",
    "TF_LR_model_grid.fit(X_train,y_train)\n",
    "display(TF_LR_model_grid.best_score_)\n",
    "display(TF_LR_model_grid.best_params_)\n",
    "#end = time.time()\n",
    "#print(f'Training time: {end-start}')"
   ]
  },
  {
   "cell_type": "code",
   "execution_count": 240,
   "metadata": {},
   "outputs": [
    {
     "name": "stdout",
     "output_type": "stream",
     "text": [
      "Validation ============================================================\n",
      "Validation results for Logistic Regression with TF-IDF Vectorize:\n",
      "Accuracy: 0.8494730150902967\n",
      "Recall: 0.8494730150902967\n",
      "Precision: 0.8494730150902967\n",
      "\n",
      "============================================================\n",
      "Predictions for: Logistic Regression with TF-IDF Vectorize\n",
      "Accuracy: 0.8633591560903247\n",
      "Recall: 0.8633591560903247\n",
      "Precision: 0.8633591560903247\n"
     ]
    }
   ],
   "source": [
    "# Display cross validation results, make prediction for X_test \n",
    "# diplay results.  Use respective functions.\n",
    "\n",
    "model_name = 'Logistic Regression with TF-IDF Vectorize'\n",
    "\n",
    "display_cross_validation_results(TF_LR_model_grid.cv_results_,model_name)\n",
    "\n",
    "y_hat_TF_LR = TF_LR_model_grid.predict(X_test)\n",
    "\n",
    "display_prediction_results(y_hat_TF_LR, y_test,model_name)\n"
   ]
  },
  {
   "cell_type": "code",
   "execution_count": 241,
   "metadata": {},
   "outputs": [
    {
     "name": "stdout",
     "output_type": "stream",
     "text": [
      "Confusion Matrix for Model: Logistic Regression with TF-IDF Vectorize\n",
      "================================================================================\n"
     ]
    },
    {
     "data": {
      "image/png": "[encoded data removed]",
      "text/plain": [
       "<Figure size 432x288 with 2 Axes>"
      ]
     },
     "metadata": {
      "needs_background": "light"
     },
     "output_type": "display_data"
    }
   ],
   "source": [
    "display_confusion_matrix(TF_LR_model_grid, X_test,\n",
    "                         y_test,model_name)"
   ]
  },
  {
   "cell_type": "markdown",
   "metadata": {},
   "source": [
    "# Count Vectorizer"
   ]
  },
  {
   "cell_type": "code",
   "execution_count": 242,
   "metadata": {
    "scrolled": true
   },
   "outputs": [
    {
     "data": {
      "text/plain": [
       "0.7265948426380838"
      ]
     },
     "metadata": {},
     "output_type": "display_data"
    },
    {
     "data": {
      "text/plain": [
       "{'countvect__input': 'content',\n",
       " 'countvect__ngram_range': (1, 3),\n",
       " 'mnb__alpha': 1.0}"
      ]
     },
     "metadata": {},
     "output_type": "display_data"
    }
   ],
   "source": [
    "# MultinomialNB\n",
    "# Use pipes to Count Vectorize X_train and then train MultinomialNB\n",
    "\n",
    "start = time.time()\n",
    "\n",
    "CT_mnb_pipe = Pipeline([('countvect',CountVectorizer()), \n",
    "                 ('mnb', MultinomialNB())])\n",
    "\n",
    "grid_accuracy = make_scorer(accuracy_score)\n",
    "grid_recall_micro = make_scorer(recall_score, average = 'micro')\n",
    "grid_precision_micro = make_scorer(precision_score, average = 'micro')\n",
    "\n",
    "CT_mnb_params = {'countvect__input' : ['content'],\n",
    "                 'countvect__ngram_range': [(1, 1), (1, 2), (1, 3)],\n",
    "                 'mnb__alpha' : [1.0]}\n",
    "\n",
    "CT_mnb_model_grid = GridSearchCV(estimator = CT_mnb_pipe, param_grid = CT_mnb_params,\n",
    "                                scoring = {'accuracy' : grid_accuracy, \n",
    "                                           'recall' : grid_recall_micro,\n",
    "                                          'precision' : grid_precision_micro},\n",
    "                                refit = 'accuracy')\n",
    "\n",
    "CT_mnb_model_grid.fit(X_train,y_train)\n",
    "display(CT_mnb_model_grid.best_score_)\n",
    "display(CT_mnb_model_grid.best_params_)\n",
    "#end = time.time()\n",
    "#print(f'Training time: {end-start}')"
   ]
  },
  {
   "cell_type": "code",
   "execution_count": 243,
   "metadata": {},
   "outputs": [
    {
     "name": "stdout",
     "output_type": "stream",
     "text": [
      "Validation ============================================================\n",
      "Validation results for MultinomialNB with Count Vectorize:\n",
      "Accuracy: 0.7108949807488069\n",
      "Recall: 0.7108949807488069\n",
      "Precision: 0.7108949807488069\n",
      "\n",
      "============================================================\n",
      "Predictions for: MultinomialNB with Count Vectorize\n",
      "Accuracy: 0.7389154442063622\n",
      "Recall: 0.7389154442063622\n",
      "Precision: 0.7389154442063622\n"
     ]
    }
   ],
   "source": [
    "# Display cross validation results, make prediction for X_test \n",
    "# diplay results.  Use respective functions.\n",
    "\n",
    "model_name = 'MultinomialNB with Count Vectorize'\n",
    "\n",
    "display_cross_validation_results(CT_mnb_model_grid.cv_results_,model_name)\n",
    "\n",
    "y_hat_CT_MNB = CT_mnb_model_grid.predict(X_test)\n",
    "\n",
    "display_prediction_results(y_hat_CT_MNB, y_test,model_name)"
   ]
  },
  {
   "cell_type": "code",
   "execution_count": 244,
   "metadata": {},
   "outputs": [
    {
     "name": "stdout",
     "output_type": "stream",
     "text": [
      "Confusion Matrix for Model: MultinomialNB with Count Vectorize\n",
      "================================================================================\n"
     ]
    },
    {
     "data": {
      "image/png": "[encoded data removed]",
      "text/plain": [
       "<Figure size 432x288 with 2 Axes>"
      ]
     },
     "metadata": {
      "needs_background": "light"
     },
     "output_type": "display_data"
    }
   ],
   "source": [
    "display_confusion_matrix(CT_mnb_model_grid, X_test,\n",
    "                         y_test,model_name)"
   ]
  },
  {
   "cell_type": "code",
   "execution_count": 245,
   "metadata": {},
   "outputs": [
    {
     "data": {
      "text/plain": [
       "0.8615875253253226"
      ]
     },
     "metadata": {},
     "output_type": "display_data"
    },
    {
     "data": {
      "text/plain": [
       "{'countvect__input': 'content',\n",
       " 'countvect__ngram_range': (1, 2),\n",
       " 'lr__C': 100,\n",
       " 'lr__class_weight': 'balanced',\n",
       " 'lr__max_iter': 1000,\n",
       " 'lr__penalty': 'l1',\n",
       " 'lr__solver': 'liblinear'}"
      ]
     },
     "metadata": {},
     "output_type": "display_data"
    }
   ],
   "source": [
    "# LogisticRegression\n",
    "# Use pipes to Count_Vectorizer Vectorize X_train and then train LogisticRegression\n",
    "\n",
    "CT_LR_pipe = Pipeline([('countvect',CountVectorizer()), \n",
    "                 ('lr', LogisticRegression())])\n",
    "\n",
    "grid_accuracy = make_scorer(accuracy_score)\n",
    "grid_recall_micro = make_scorer(recall_score, average = 'micro')\n",
    "grid_precision_micro = make_scorer(precision_score, average = 'micro')\n",
    "\n",
    "CT_LR_params = {'countvect__input' : ['content'],\n",
    "                 'countvect__ngram_range': [(1, 1), (1, 2)],\n",
    "                 'lr__penalty' : ['l1','l2'],\n",
    "                'lr__C' : [1.0, 100],  # tried 1 and 1000\n",
    "                'lr__class_weight' : ['balanced'],  # tried None and 'balanced'\n",
    "                'lr__solver' : ['liblinear','lbfgs'], # tried 'newton-cg', 'lbfgs', 'liblinear', 'sag', 'saga'\n",
    "                'lr__max_iter' : [100,1000]} # treid 100,1000 and 10000\n",
    "\n",
    "CT_LR_model_grid = GridSearchCV(estimator = CT_LR_pipe, param_grid = CT_LR_params,\n",
    "                                scoring = {'accuracy' : grid_accuracy, \n",
    "                                           'recall' : grid_recall_micro,\n",
    "                                          'precision' : grid_precision_micro},\n",
    "                                refit = 'accuracy')\n",
    "\n",
    "CT_LR_model_grid.fit(X_train,y_train)\n",
    "display(CT_LR_model_grid.best_score_)\n",
    "display(CT_LR_model_grid.best_params_)"
   ]
  },
  {
   "cell_type": "code",
   "execution_count": null,
   "metadata": {},
   "outputs": [],
   "source": [
    "# Display cross validation results, make prediction for X_test \n",
    "# diplay results.  Use respective functions.\n",
    "\n",
    "model_name = 'Logistic Regression with Count Vectorize'\n",
    "\n",
    "display_cross_validation_results(CT_mnb_model_grid.cv_results_,model_name)\n",
    "\n",
    "y_hat_CT_LR = CT_LR_model_grid.predict(X_test)\n",
    "\n",
    "display_prediction_results(y_hat_CT_LR, y_test,model_name)"
   ]
  },
  {
   "cell_type": "code",
   "execution_count": null,
   "metadata": {
    "scrolled": true
   },
   "outputs": [],
   "source": [
    "display_confusion_matrix(CT_LR_model_grid, X_test,\n",
    "                         y_test,model_name)"
   ]
  },
  {
   "cell_type": "code",
   "execution_count": null,
   "metadata": {},
   "outputs": [],
   "source": [
    "# KNearest Neighbor\n",
    "# Use pipes to CountVectorize X_train and then train KNearest Neighbor\n",
    "\n",
    "CT_KNN_pipe = Pipeline([('countvect',CountVectorizer()), \n",
    "                 ('knn', KNeighborsClassifier())])\n",
    "\n",
    "grid_accuracy = make_scorer(accuracy_score)\n",
    "grid_recall_micro = make_scorer(recall_score, average = 'micro')\n",
    "grid_precision_micro = make_scorer(precision_score, average = 'micro')\n",
    "\n",
    "CT_KNN_params = {'countvect__input' : ['content'],\n",
    "                 'countvect__ngram_range': [(1, 1), (1, 2)],\n",
    "                 'knn__n_neighbors' : [3,5,7],  # tried 3,7,21\n",
    "                'knn__weights' : ['distance', 'uniform'], # tried 'uniform\n",
    "                'knn__leaf_size' : [3,5,7]}  #tried 3,15,30,45  # tried None and 'balanced'\n",
    "\n",
    "CT_KNN_model_grid = GridSearchCV(estimator = CT_KNN_pipe, param_grid = CT_KNN_params,\n",
    "                                scoring = {'accuracy' : grid_accuracy, \n",
    "                                           'recall' : grid_recall_micro,\n",
    "                                          'precision' : grid_precision_micro},\n",
    "                                refit = 'accuracy')\n",
    "\n",
    "CT_KNN_model_grid.fit(X_train,y_train)\n",
    "display(CT_KNN_model_grid.best_score_)\n",
    "display(CT_KNN_model_grid.best_params_)\n"
   ]
  },
  {
   "cell_type": "code",
   "execution_count": null,
   "metadata": {},
   "outputs": [],
   "source": [
    "# Display cross validation results, make prediction for X_test \n",
    "# diplay results.  Use respective functions.\n",
    "\n",
    "model_name = 'K_Nearest Neighbor with Count Vectorize'\n",
    "\n",
    "display_cross_validation_results(CT_KNN_model_grid.cv_results_,model_name)\n",
    "\n",
    "y_hat_CT_KNN = CT_KNN_model_grid.predict(X_test)\n",
    "\n",
    "display_prediction_results(y_hat_CT_KNN, y_test,model_name)"
   ]
  },
  {
   "cell_type": "code",
   "execution_count": null,
   "metadata": {},
   "outputs": [],
   "source": [
    "display_confusion_matrix(CT_KNN_model_grid, X_test,\n",
    "                         y_test,model_name)"
   ]
  },
  {
   "cell_type": "code",
   "execution_count": null,
   "metadata": {},
   "outputs": [],
   "source": [
    "# Decision Tree \n",
    "# Use pipes to CountVectorize X_train and then train Decision Tree\n",
    "\n",
    "CT_DT_pipe = Pipeline([('countvect',CountVectorizer()), \n",
    "                 ('DT', DecisionTreeClassifier(random_state = 42, class_weight='balanced'))])\n",
    "\n",
    "grid_accuracy = make_scorer(accuracy_score)\n",
    "grid_recall_micro = make_scorer(recall_score, average = 'micro')\n",
    "grid_precision_micro = make_scorer(precision_score, average = 'micro')\n",
    "\n",
    "CT_DT_params = {'countvect__input' : ['content'],\n",
    "                 'countvect__ngram_range': [(1, 1), (1, 2)],\n",
    "                 'DT__max_depth': [15,20,30],\n",
    "                 'DT__min_samples_split': [6,10,15],\n",
    "                 'DT__criterion': ['gini']}\n",
    "\n",
    "CT_DT_model_grid = GridSearchCV(estimator = CT_DT_pipe, param_grid = CT_DT_params,\n",
    "                                scoring = {'accuracy' : grid_accuracy, \n",
    "                                           'recall' : grid_recall_micro,\n",
    "                                          'precision' : grid_precision_micro},\n",
    "                                refit = 'accuracy')\n",
    "\n",
    "CT_DT_model_grid.fit(X_train,y_train)\n",
    "display(CT_DT_model_grid.best_score_)\n",
    "display(CT_DT_model_grid.best_params_)"
   ]
  },
  {
   "cell_type": "code",
   "execution_count": null,
   "metadata": {},
   "outputs": [],
   "source": [
    "# Display cross validation results, make prediction for X_test \n",
    "# diplay results.  Use respective functions.\n",
    "\n",
    "model_name = 'Decision Tree with Count Vectorize'\n",
    "\n",
    "display_cross_validation_results(CT_DT_model_grid.cv_results_,model_name)\n",
    "\n",
    "y_hat_CT_DT = CT_DT_model_grid.predict(X_test)\n",
    "\n",
    "display_prediction_results(y_hat_CT_DT, y_test,model_name)"
   ]
  },
  {
   "cell_type": "code",
   "execution_count": null,
   "metadata": {},
   "outputs": [],
   "source": [
    "display_confusion_matrix(CT_DT_model_grid, X_test,\n",
    "                         y_test,model_name)"
   ]
  },
  {
   "cell_type": "code",
   "execution_count": null,
   "metadata": {},
   "outputs": [],
   "source": [
    "# RandomForest \n",
    "# Use pipes to CountVectorize X_train and then train RandomForest Classifier\n",
    "\n",
    "CT_RF_pipe = Pipeline([('countvect',CountVectorizer()), \n",
    "                 ('RF', RandomForestClassifier(random_state = 42, class_weight='balanced'))])\n",
    "\n",
    "grid_accuracy = make_scorer(accuracy_score)\n",
    "grid_recall_micro = make_scorer(recall_score, average = 'micro')\n",
    "grid_precision_micro = make_scorer(precision_score, average = 'micro')\n",
    "\n",
    "CT_RF_params = {'countvect__input' : ['content'],\n",
    "                 'countvect__ngram_range': [(1, 1), (1, 2)],\n",
    "                 'RF__n_estimators': [100],\n",
    "                 'RF__max_depth': [6, 8,10],\n",
    "                 'RF__min_samples_split': [10, 15],\n",
    "                 'RF__criterion': ['entropy','gini']\n",
    "}\n",
    "\n",
    "CT_RF_model_grid = GridSearchCV(estimator = CT_RF_pipe, param_grid = CT_RF_params,\n",
    "                                scoring = {'accuracy' : grid_accuracy, \n",
    "                                           'recall' : grid_recall_micro,\n",
    "                                          'precision' : grid_precision_micro},\n",
    "                                refit = 'accuracy')\n",
    "\n",
    "CT_RF_model_grid.fit(X_train,y_train)\n",
    "display(CT_RF_model_grid.best_score_)\n",
    "display(CT_RF_model_grid.best_params_)"
   ]
  },
  {
   "cell_type": "code",
   "execution_count": null,
   "metadata": {},
   "outputs": [],
   "source": [
    "# Display cross validation results, make prediction for X_test \n",
    "# diplay results.  Use respective functions.\n",
    "\n",
    "model_name = 'RandomForest with Count Vectorize'\n",
    "\n",
    "display_cross_validation_results(CT_RF_model_grid.cv_results_,model_name)\n",
    "\n",
    "y_hat_CT_RF = CT_RF_model_grid.predict(X_test)\n",
    "\n",
    "display_prediction_results(y_hat_CT_RF, y_test,model_name)"
   ]
  },
  {
   "cell_type": "code",
   "execution_count": null,
   "metadata": {},
   "outputs": [],
   "source": [
    "display_confusion_matrix(CT_RF_model_grid, X_test,\n",
    "                         y_test,model_name)"
   ]
  },
  {
   "cell_type": "code",
   "execution_count": null,
   "metadata": {},
   "outputs": [],
   "source": [
    "# SVC \n",
    "# Use pipes to CountVectorize X_train and then train SVC\n",
    "\n",
    "CT_SVC_pipe = Pipeline([('countvect',CountVectorizer()), \n",
    "                 ('svc', SVC(random_state = 42))])\n",
    "\n",
    "grid_accuracy = make_scorer(accuracy_score)\n",
    "grid_recall_micro = make_scorer(recall_score, average = 'micro')\n",
    "grid_precision_micro = make_scorer(precision_score, average = 'micro')\n",
    "\n",
    "CT_SVC_params = {'countvect__input' : ['content'],\n",
    "                 'countvect__ngram_range': [(1, 1), (1, 2)],\n",
    "                 'svc__kernel' : ['rbf'], # tried 'poly','rbf', 'sigmoid'\n",
    "                 'svc__degree' : [3], # tried 3,4,5\n",
    "                 'svc__C' : [1.0],  # tried 1 and 1000\n",
    "                 'svc__class_weight' : [None]} # tried None and 'balanced\n",
    "\n",
    "CT_SVC_model_grid = GridSearchCV(estimator = CT_SVC_pipe, param_grid = CT_SVC_params,\n",
    "                                scoring = {'accuracy' : grid_accuracy, \n",
    "                                           'recall' : grid_recall_micro,\n",
    "                                          'precision' : grid_precision_micro},\n",
    "                                refit = 'accuracy')\n",
    "\n",
    "CT_SVC_model_grid.fit(X_train,y_train)\n",
    "display(CT_SVC_model_grid.best_score_)\n",
    "display(CT_SVC_model_grid.best_params_)"
   ]
  },
  {
   "cell_type": "code",
   "execution_count": null,
   "metadata": {},
   "outputs": [],
   "source": [
    "# Display cross validation results, make prediction for X_test \n",
    "# diplay results.  Use respective functions.\n",
    "\n",
    "model_name = 'SVC with Count Vectorize'\n",
    "\n",
    "display_cross_validation_results(CT_SVC_model_grid.cv_results_,model_name)\n",
    "\n",
    "y_hat_CT_SVC = CT_SVC_model_grid.predict(X_test)\n",
    "\n",
    "display_prediction_results(y_hat_CT_SVC, y_test,model_name)"
   ]
  },
  {
   "cell_type": "code",
   "execution_count": null,
   "metadata": {
    "scrolled": true
   },
   "outputs": [],
   "source": [
    "display_confusion_matrix(CT_SVC_model_grid, X_test,\n",
    "                         y_test,model_name)"
   ]
  },
  {
   "cell_type": "code",
   "execution_count": null,
   "metadata": {},
   "outputs": [],
   "source": []
  },
  {
   "cell_type": "code",
   "execution_count": null,
   "metadata": {},
   "outputs": [],
   "source": []
  },
  {
   "cell_type": "code",
   "execution_count": 132,
   "metadata": {},
   "outputs": [],
   "source": [
    "#LSTM\n",
    "voc_size = 5000\n",
    "\n",
    "onehot_rep = [one_hot(words,voc_size)for words in list(X_train)]\n",
    "onehot_rep_test = [one_hot(words,voc_size)for words in list(X_test)]"
   ]
  },
  {
   "cell_type": "code",
   "execution_count": 133,
   "metadata": {},
   "outputs": [],
   "source": [
    "#Padding Sentences to make them of same size\n",
    "embedded_docs = pad_sequences(onehot_rep,padding='pre',maxlen=50)\n",
    "embedded_docs_test = pad_sequences(onehot_rep_test,padding='pre',maxlen=50)"
   ]
  },
  {
   "cell_type": "code",
   "execution_count": 134,
   "metadata": {
    "scrolled": true
   },
   "outputs": [
    {
     "data": {
      "text/plain": [
       "array([   0,    0,    0,    0,    0,    0,    0,    0,    0,    0,    0,\n",
       "          0,    0,    0,    0,    0,    0,    0,    0,    0,    0,    0,\n",
       "          0,    0,    0,    0,    0,    0,    0,    0,    0,    0,    0,\n",
       "          0,  182, 1595, 4380, 1453, 1210,  535,  165, 2984, 3756, 3810,\n",
       "       3388,  842, 2441, 4938, 4423, 4452])"
      ]
     },
     "execution_count": 134,
     "metadata": {},
     "output_type": "execute_result"
    }
   ],
   "source": [
    "embedded_docs[0]"
   ]
  },
  {
   "cell_type": "code",
   "execution_count": 135,
   "metadata": {},
   "outputs": [
    {
     "data": {
      "text/plain": [
       "((24268, 50), (24268, 3), (6067, 50))"
      ]
     },
     "execution_count": 135,
     "metadata": {},
     "output_type": "execute_result"
    }
   ],
   "source": [
    "#Converting into numpy array\n",
    "X_train_EMB = np.array(embedded_docs)\n",
    "y_train_EMB = np.array(y_train_NN)\n",
    "X_test_EMB = np.array(embedded_docs_test)\n",
    "X_train_EMB.shape,y_train_EMB.shape,X_test_EMB.shape"
   ]
  },
  {
   "cell_type": "code",
   "execution_count": 137,
   "metadata": {
    "collapsed": true
   },
   "outputs": [
    {
     "name": "stdout",
     "output_type": "stream",
     "text": [
      "Model: \"sequential_38\"\n",
      "_________________________________________________________________\n",
      "Layer (type)                 Output Shape              Param #   \n",
      "=================================================================\n",
      "embedding_38 (Embedding)     (None, 50, 64)            320000    \n",
      "_________________________________________________________________\n",
      "lstm_33 (LSTM)               (None, 8)                 2336      \n",
      "_________________________________________________________________\n",
      "dense_38 (Dense)             (None, 3)                 27        \n",
      "=================================================================\n",
      "Total params: 322,363\n",
      "Trainable params: 322,363\n",
      "Non-trainable params: 0\n",
      "_________________________________________________________________\n",
      "None\n"
     ]
    }
   ],
   "source": [
    "epochs=20\n",
    "learning_rate = 0.1\n",
    "decay_rate = learning_rate / epochs\n",
    "momentum = 0.8\n",
    "sgd = SGD(lr=learning_rate, momentum=momentum, decay=decay_rate, nesterov=False)\n",
    "\n",
    "model = Sequential()\n",
    "model.add(Embedding(voc_size,64,input_length=50))\n",
    "#model.add(Dropout(0.3))\n",
    "model.add(LSTM(8))\n",
    "#model.add(Dropout(0.3))\n",
    "#model.add(Dense(64,activation='relu'))\n",
    "#model.add(Dropout(0.3))\n",
    "model.add(Dense(3,activation='sigmoid'))\n",
    "model.compile(loss='categorical_crossentropy',optimizer=sgd,metrics=['accuracy','Recall','Precision'])\n",
    "print(model.summary())"
   ]
  },
  {
   "cell_type": "code",
   "execution_count": 138,
   "metadata": {},
   "outputs": [
    {
     "name": "stdout",
     "output_type": "stream",
     "text": [
      "Epoch 1/20\n",
      "285/285 [==============================] - 15s 51ms/step - loss: 1.0174 - accuracy: 0.4686 - recall_26: 0.6023 - precision_26: 0.4560 - val_loss: 0.9897 - val_accuracy: 0.4726 - val_recall_26: 0.5886 - val_precision_26: 0.4748\n",
      "Epoch 2/20\n",
      "285/285 [==============================] - 15s 52ms/step - loss: 0.9586 - accuracy: 0.5112 - recall_26: 0.5704 - precision_26: 0.5117 - val_loss: 0.9419 - val_accuracy: 0.5012 - val_recall_26: 0.4767 - val_precision_26: 0.5395\n",
      "Epoch 3/20\n",
      "285/285 [==============================] - 15s 52ms/step - loss: 0.8929 - accuracy: 0.5505 - recall_26: 0.5318 - precision_26: 0.5629 - val_loss: 0.8833 - val_accuracy: 0.5584 - val_recall_26: 0.5213 - val_precision_26: 0.5674\n",
      "Epoch 4/20\n",
      "285/285 [==============================] - 15s 52ms/step - loss: 0.8406 - accuracy: 0.6000 - recall_26: 0.5437 - precision_26: 0.5947 - val_loss: 0.8459 - val_accuracy: 0.5810 - val_recall_26: 0.5204 - val_precision_26: 0.5873\n",
      "Epoch 5/20\n",
      "285/285 [==============================] - 15s 53ms/step - loss: 0.7888 - accuracy: 0.6347 - recall_26: 0.5476 - precision_26: 0.6164 - val_loss: 0.7993 - val_accuracy: 0.6338 - val_recall_26: 0.5540 - val_precision_26: 0.6025\n",
      "Epoch 6/20\n",
      "285/285 [==============================] - 15s 52ms/step - loss: 0.7432 - accuracy: 0.6680 - recall_26: 0.5171 - precision_26: 0.6496 - val_loss: 0.7652 - val_accuracy: 0.6488 - val_recall_26: 0.3859 - val_precision_26: 0.7199\n",
      "Epoch 7/20\n",
      "285/285 [==============================] - 15s 52ms/step - loss: 0.7007 - accuracy: 0.6979 - recall_26: 0.4455 - precision_26: 0.7235 - val_loss: 0.7384 - val_accuracy: 0.6771 - val_recall_26: 0.4023 - val_precision_26: 0.7720\n",
      "Epoch 8/20\n",
      "285/285 [==============================] - 15s 52ms/step - loss: 0.6603 - accuracy: 0.7223 - recall_26: 0.4157 - precision_26: 0.7986 - val_loss: 0.7071 - val_accuracy: 0.7023 - val_recall_26: 0.3217 - val_precision_26: 0.8338\n",
      "Epoch 9/20\n",
      "285/285 [==============================] - 15s 52ms/step - loss: 0.6230 - accuracy: 0.7457 - recall_26: 0.3996 - precision_26: 0.8538 - val_loss: 0.6809 - val_accuracy: 0.7160 - val_recall_26: 0.3334 - val_precision_26: 0.8803\n",
      "Epoch 10/20\n",
      "285/285 [==============================] - 15s 53ms/step - loss: 0.5945 - accuracy: 0.7648 - recall_26: 0.3722 - precision_26: 0.8792 - val_loss: 0.6786 - val_accuracy: 0.7180 - val_recall_26: 0.3442 - val_precision_26: 0.8040\n",
      "Epoch 11/20\n",
      "285/285 [==============================] - 15s 52ms/step - loss: 0.5622 - accuracy: 0.7819 - recall_26: 0.3663 - precision_26: 0.8956 - val_loss: 0.6600 - val_accuracy: 0.7336 - val_recall_26: 0.3771 - val_precision_26: 0.8773\n",
      "Epoch 12/20\n",
      "285/285 [==============================] - 15s 52ms/step - loss: 0.5353 - accuracy: 0.7983 - recall_26: 0.3577 - precision_26: 0.9113 - val_loss: 0.7179 - val_accuracy: 0.7036 - val_recall_26: 0.3348 - val_precision_26: 0.9067\n",
      "Epoch 13/20\n",
      "285/285 [==============================] - 15s 52ms/step - loss: 0.5155 - accuracy: 0.8074 - recall_26: 0.3552 - precision_26: 0.9211 - val_loss: 0.6195 - val_accuracy: 0.7594 - val_recall_26: 0.3151 - val_precision_26: 0.9027\n",
      "Epoch 14/20\n",
      "285/285 [==============================] - 15s 51ms/step - loss: 0.4968 - accuracy: 0.8168 - recall_26: 0.3518 - precision_26: 0.9248 - val_loss: 0.6647 - val_accuracy: 0.7363 - val_recall_26: 0.3175 - val_precision_26: 0.93098 - accuracy: 0.8162 -\n",
      "Epoch 15/20\n",
      "285/285 [==============================] - 15s 54ms/step - loss: 0.4768 - accuracy: 0.8249 - recall_26: 0.3564 - precision_26: 0.9354 - val_loss: 0.6292 - val_accuracy: 0.7554 - val_recall_26: 0.3270 - val_precision_26: 0.9262\n",
      "Epoch 16/20\n",
      "285/285 [==============================] - 15s 52ms/step - loss: 0.4683 - accuracy: 0.8300 - recall_26: 0.3515 - precision_26: 0.9365 - val_loss: 0.5937 - val_accuracy: 0.7735 - val_recall_26: 0.3338 - val_precision_26: 0.9130\n",
      "Epoch 17/20\n",
      "285/285 [==============================] - 15s 52ms/step - loss: 0.4470 - accuracy: 0.8412 - recall_26: 0.3613 - precision_26: 0.9420 - val_loss: 0.5883 - val_accuracy: 0.7732 - val_recall_26: 0.3260 - val_precision_26: 0.9243\n",
      "Epoch 18/20\n",
      "285/285 [==============================] - 15s 51ms/step - loss: 0.4377 - accuracy: 0.8418 - recall_26: 0.3601 - precision_26: 0.9452 - val_loss: 0.5896 - val_accuracy: 0.7763 - val_recall_26: 0.2949 - val_precision_26: 0.9160\n",
      "Epoch 19/20\n",
      "285/285 [==============================] - 15s 52ms/step - loss: 0.4241 - accuracy: 0.8502 - recall_26: 0.3549 - precision_26: 0.9479 - val_loss: 0.5959 - val_accuracy: 0.7760 - val_recall_26: 0.3071 - val_precision_26: 0.9301\n",
      "Epoch 20/20\n",
      "285/285 [==============================] - 15s 52ms/step - loss: 0.4166 - accuracy: 0.8561 - recall_26: 0.3593 - precision_26: 0.9485 - val_loss: 0.6153 - val_accuracy: 0.7730 - val_recall_26: 0.3506 - val_precision_26: 0.9296loss: 0.4092 - accuracy: \n"
     ]
    }
   ],
   "source": [
    "tf.config.run_functions_eagerly(True)\n",
    "\n",
    "history = model.fit(X_train_EMB,y_train_EMB,epochs=20,batch_size=64, validation_split = 0.25 , verbose=1)"
   ]
  },
  {
   "cell_type": "code",
   "execution_count": 166,
   "metadata": {},
   "outputs": [
    {
     "name": "stdout",
     "output_type": "stream",
     "text": [
      "Model: \"sequential_48\"\n",
      "_________________________________________________________________\n",
      "Layer (type)                 Output Shape              Param #   \n",
      "=================================================================\n",
      "embedding_48 (Embedding)     (None, 50, 32)            160000    \n",
      "_________________________________________________________________\n",
      "conv1d_18 (Conv1D)           (None, 50, 32)            3104      \n",
      "_________________________________________________________________\n",
      "max_pooling1d_18 (MaxPooling (None, 25, 32)            0         \n",
      "_________________________________________________________________\n",
      "bidirectional_26 (Bidirectio (None, 64)                16640     \n",
      "_________________________________________________________________\n",
      "dropout_47 (Dropout)         (None, 64)                0         \n",
      "_________________________________________________________________\n",
      "dense_48 (Dense)             (None, 3)                 195       \n",
      "=================================================================\n",
      "Total params: 179,939\n",
      "Trainable params: 179,939\n",
      "Non-trainable params: 0\n",
      "_________________________________________________________________\n",
      "None\n"
     ]
    }
   ],
   "source": [
    "epochs=20\n",
    "learning_rate = 0.005\n",
    "decay_rate = learning_rate / epochs\n",
    "momentum = 0.8\n",
    "sgd = SGD(lr=learning_rate, momentum=momentum, decay=decay_rate, nesterov=False)\n",
    "# Build model\n",
    "model= Sequential()\n",
    "model.add(Embedding(voc_size, 32, input_length=50))\n",
    "model.add(Conv1D(filters=32, kernel_size=3, padding='same', activation='relu'))\n",
    "model.add(MaxPooling1D(pool_size=2))\n",
    "model.add(Bidirectional(LSTM(32)))\n",
    "model.add(Dropout(0.3))\n",
    "model.add(Dense(3, activation='softmax'))\n",
    "model.compile(loss='categorical_crossentropy',optimizer=sgd,metrics=['accuracy','Recall','Precision'])\n",
    "print(model.summary())"
   ]
  },
  {
   "cell_type": "code",
   "execution_count": 74,
   "metadata": {
    "collapsed": true
   },
   "outputs": [
    {
     "name": "stdout",
     "output_type": "stream",
     "text": [
      "Model: \"sequential_19\"\n",
      "_________________________________________________________________\n",
      "Layer (type)                 Output Shape              Param #   \n",
      "=================================================================\n",
      "embedding_19 (Embedding)     (None, 50, 128)           640000    \n",
      "_________________________________________________________________\n",
      "dropout_18 (Dropout)         (None, 50, 128)           0         \n",
      "_________________________________________________________________\n",
      "conv1d_8 (Conv1D)            (None, 50, 32)            12320     \n",
      "_________________________________________________________________\n",
      "max_pooling1d_8 (MaxPooling1 (None, 25, 32)            0         \n",
      "_________________________________________________________________\n",
      "dropout_19 (Dropout)         (None, 25, 32)            0         \n",
      "_________________________________________________________________\n",
      "bidirectional_14 (Bidirectio (None, 128)               49664     \n",
      "_________________________________________________________________\n",
      "dropout_20 (Dropout)         (None, 128)               0         \n",
      "_________________________________________________________________\n",
      "dense_14 (Dense)             (None, 3)                 387       \n",
      "=================================================================\n",
      "Total params: 702,371\n",
      "Trainable params: 702,371\n",
      "Non-trainable params: 0\n",
      "_________________________________________________________________\n",
      "None\n"
     ]
    }
   ],
   "source": [
    "# Build model\n",
    "from tensorflow.keras import regularizers\n",
    "model2= Sequential()\n",
    "model2.add(Embedding(voc_size, 128, input_length=50))\n",
    "model2.add(Dropout(0.3))\n",
    "model2.add(Conv1D(filters=32, kernel_size=3, padding='same', activation='relu'))\n",
    "model2.add(MaxPooling1D(pool_size=2))\n",
    "model2.add(Dropout(0.4))\n",
    "model2.add(Bidirectional(LSTM(64,kernel_regularizer=regularizers.L1(0.01), recurrent_regularizer=regularizers.L1L2(0.01), bias_regularizer=regularizers.L1(0.01),return_sequences=False)))\n",
    "model2.add(Dropout(0.4))\n",
    "model2.add(Dense(3, activation='softmax'))\n",
    "model2.compile(loss='categorical_crossentropy',optimizer='adam',metrics=['accuracy','Recall','Precision'])\n",
    "print(model2.summary())"
   ]
  },
  {
   "cell_type": "code",
   "execution_count": null,
   "metadata": {},
   "outputs": [],
   "source": [
    "y_train_num = y_train.map({'Positive' : 1,'Negative':-1 , 'Neutral':0})"
   ]
  },
  {
   "cell_type": "code",
   "execution_count": null,
   "metadata": {
    "scrolled": true
   },
   "outputs": [],
   "source": [
    "y_train_num"
   ]
  },
  {
   "cell_type": "code",
   "execution_count": 167,
   "metadata": {},
   "outputs": [
    {
     "name": "stdout",
     "output_type": "stream",
     "text": [
      "Epoch 1/20\n",
      "285/285 [==============================] - 18s 64ms/step - loss: 1.0875 - accuracy: 0.3999 - recall_35: 0.0000e+00 - precision_35: 0.0000e+00 - val_loss: 1.0921 - val_accuracy: 0.3887 - val_recall_35: 0.0000e+00 - val_precision_35: 0.0000e+00\n",
      "Epoch 2/20\n",
      "285/285 [==============================] - 18s 64ms/step - loss: 1.0841 - accuracy: 0.4008 - recall_35: 0.0000e+00 - precision_35: 0.0000e+00 - val_loss: 1.0850 - val_accuracy: 0.3887 - val_recall_35: 0.0000e+00 - val_precision_35: 0.0000e+00\n",
      "Epoch 3/20\n",
      "285/285 [==============================] - 18s 63ms/step - loss: 1.0765 - accuracy: 0.4018 - recall_35: 0.0000e+00 - precision_35: 0.0000e+00 - val_loss: 1.0719 - val_accuracy: 0.4010 - val_recall_35: 0.0000e+00 - val_precision_35: 0.0000e+00\n",
      "Epoch 4/20\n",
      "285/285 [==============================] - 19s 66ms/step - loss: 1.0512 - accuracy: 0.4498 - recall_35: 0.0042 - precision_35: 0.5846 - val_loss: 1.0333 - val_accuracy: 0.4567 - val_recall_35: 0.0061 - val_precision_35: 0.8043\n",
      "Epoch 5/20\n",
      "285/285 [==============================] - 18s 64ms/step - loss: 1.0169 - accuracy: 0.4793 - recall_35: 0.0901 - precision_35: 0.5527 - val_loss: 1.0101 - val_accuracy: 0.4630 - val_recall_35: 0.0574 - val_precision_35: 0.6127\n",
      "Epoch 6/20\n",
      "285/285 [==============================] - 18s 64ms/step - loss: 1.0085 - accuracy: 0.4789 - recall_35: 0.1435 - precision_35: 0.5484 - val_loss: 1.0051 - val_accuracy: 0.4646 - val_recall_35: 0.0941 - val_precision_35: 0.6160\n",
      "Epoch 7/20\n",
      "285/285 [==============================] - 18s 64ms/step - loss: 1.0040 - accuracy: 0.4820 - recall_35: 0.1649 - precision_35: 0.5540 - val_loss: 1.0030 - val_accuracy: 0.4702 - val_recall_35: 0.0710 - val_precision_35: 0.6462\n",
      "Epoch 8/20\n",
      "285/285 [==============================] - 18s 64ms/step - loss: 0.9984 - accuracy: 0.4857 - recall_35: 0.1621 - precision_35: 0.5622 - val_loss: 0.9995 - val_accuracy: 0.4744 - val_recall_35: 0.1757 - val_precision_35: 0.5637\n",
      "Epoch 9/20\n",
      "285/285 [==============================] - 18s 64ms/step - loss: 0.9940 - accuracy: 0.4876 - recall_35: 0.1740 - precision_35: 0.5670 - val_loss: 0.9929 - val_accuracy: 0.4694 - val_recall_35: 0.1090 - val_precision_35: 0.6455\n",
      "Epoch 10/20\n",
      "285/285 [==============================] - 18s 64ms/step - loss: 0.9880 - accuracy: 0.4928 - recall_35: 0.1726 - precision_35: 0.5771 - val_loss: 0.9870 - val_accuracy: 0.4806 - val_recall_35: 0.1098 - val_precision_35: 0.6700\n",
      "Epoch 11/20\n",
      "285/285 [==============================] - 18s 64ms/step - loss: 0.9818 - accuracy: 0.4973 - recall_35: 0.1781 - precision_35: 0.5908 - val_loss: 0.9810 - val_accuracy: 0.4777 - val_recall_35: 0.1261 - val_precision_35: 0.6635\n",
      "Epoch 12/20\n",
      "285/285 [==============================] - 19s 66ms/step - loss: 0.9741 - accuracy: 0.5043 - recall_35: 0.1867 - precision_35: 0.5994 - val_loss: 0.9752 - val_accuracy: 0.4927 - val_recall_35: 0.1032 - val_precision_35: 0.7461\n",
      "Epoch 13/20\n",
      "285/285 [==============================] - 18s 64ms/step - loss: 0.9655 - accuracy: 0.5111 - recall_35: 0.1951 - precision_35: 0.6195 - val_loss: 0.9655 - val_accuracy: 0.4881 - val_recall_35: 0.1490 - val_precision_35: 0.6637\n",
      "Epoch 14/20\n",
      "285/285 [==============================] - 18s 64ms/step - loss: 0.9561 - accuracy: 0.5173 - recall_35: 0.1980 - precision_35: 0.6322 - val_loss: 0.9610 - val_accuracy: 0.5128 - val_recall_35: 0.1584 - val_precision_35: 0.6825\n",
      "Epoch 15/20\n",
      "285/285 [==============================] - 18s 64ms/step - loss: 0.9455 - accuracy: 0.5219 - recall_35: 0.2199 - precision_35: 0.6287 - val_loss: 0.9452 - val_accuracy: 0.5182 - val_recall_35: 0.1676 - val_precision_35: 0.6928\n",
      "Epoch 16/20\n",
      "285/285 [==============================] - 18s 64ms/step - loss: 0.9320 - accuracy: 0.5369 - recall_35: 0.2371 - precision_35: 0.6414 - val_loss: 0.9334 - val_accuracy: 0.5296 - val_recall_35: 0.1953 - val_precision_35: 0.6946\n",
      "Epoch 17/20\n",
      "285/285 [==============================] - 19s 66ms/step - loss: 0.9207 - accuracy: 0.5445 - recall_35: 0.2444 - precision_35: 0.6575 - val_loss: 0.9229 - val_accuracy: 0.5363 - val_recall_35: 0.2215 - val_precision_35: 0.6957\n",
      "Epoch 18/20\n",
      "285/285 [==============================] - 19s 65ms/step - loss: 0.9100 - accuracy: 0.5562 - recall_35: 0.2710 - precision_35: 0.6570 - val_loss: 0.9122 - val_accuracy: 0.5406 - val_recall_35: 0.2873 - val_precision_35: 0.6612\n",
      "Epoch 19/20\n",
      "285/285 [==============================] - 19s 65ms/step - loss: 0.8965 - accuracy: 0.5622 - recall_35: 0.3062 - precision_35: 0.6567 - val_loss: 0.9029 - val_accuracy: 0.5416 - val_recall_35: 0.3420 - val_precision_35: 0.6332\n",
      "Epoch 20/20\n",
      "285/285 [==============================] - 19s 67ms/step - loss: 0.8855 - accuracy: 0.5700 - recall_35: 0.3274 - precision_35: 0.6560 - val_loss: 0.8908 - val_accuracy: 0.5515 - val_recall_35: 0.3473 - val_precision_35: 0.6533\n"
     ]
    }
   ],
   "source": [
    "tf.config.run_functions_eagerly(True)\n",
    "\n",
    "history = model.fit(X_train_EMB,y_train_EMB,epochs=20,batch_size=64, validation_split = 0.25 , verbose=1)"
   ]
  },
  {
   "cell_type": "code",
   "execution_count": 68,
   "metadata": {},
   "outputs": [
    {
     "name": "stdout",
     "output_type": "stream",
     "text": [
      "\n",
      "Accuracy  : 0.7852\n",
      "Precision : 0.7836\n",
      "Recall    : 0.7871\n"
     ]
    }
   ],
   "source": [
    "# Evaluate model on the test set\n",
    "loss, accuracy, precision, recall = model.evaluate(X_test_EMB, y_test_NN, verbose=0)\n",
    "# Print metrics\n",
    "print('')\n",
    "print('Accuracy  : {:.4f}'.format(accuracy))\n",
    "print('Precision : {:.4f}'.format(precision))\n",
    "print('Recall    : {:.4f}'.format(recall))"
   ]
  },
  {
   "cell_type": "code",
   "execution_count": 168,
   "metadata": {},
   "outputs": [
    {
     "data": {
      "image/png": "[encoded data removed]",
      "text/plain": [
       "<Figure size 720x288 with 2 Axes>"
      ]
     },
     "metadata": {
      "needs_background": "light"
     },
     "output_type": "display_data"
    }
   ],
   "source": [
    "def plot_training_hist(history):\n",
    "    '''Function to plot history for accuracy and loss'''\n",
    "    \n",
    "    fig, ax = plt.subplots(1, 2, figsize=(10,4))\n",
    "    # first plot\n",
    "    ax[0].plot(history.history['accuracy'])\n",
    "    ax[0].plot(history.history['val_accuracy'])\n",
    "    ax[0].set_title('Model Accuracy')\n",
    "    ax[0].set_xlabel('epoch')\n",
    "    ax[0].set_ylabel('accuracy')\n",
    "    ax[0].legend(['train', 'validation'], loc='best')\n",
    "    # second plot\n",
    "    ax[1].plot(history.history['loss'])\n",
    "    ax[1].plot(history.history['val_loss'])\n",
    "    ax[1].set_title('Model Loss')\n",
    "    ax[1].set_xlabel('epoch')\n",
    "    ax[1].set_ylabel('loss')\n",
    "    ax[1].legend(['train', 'validation'], loc='best')\n",
    "    \n",
    "plot_training_hist(history)"
   ]
  },
  {
   "cell_type": "code",
   "execution_count": null,
   "metadata": {},
   "outputs": [],
   "source": []
  },
  {
   "cell_type": "code",
   "execution_count": null,
   "metadata": {},
   "outputs": [],
   "source": []
  },
  {
   "cell_type": "code",
   "execution_count": null,
   "metadata": {},
   "outputs": [],
   "source": []
  },
  {
   "cell_type": "code",
   "execution_count": null,
   "metadata": {},
   "outputs": [],
   "source": [
    "np.version.version"
   ]
  },
  {
   "cell_type": "code",
   "execution_count": null,
   "metadata": {},
   "outputs": [],
   "source": [
    "tf.__version__"
   ]
  },
  {
   "cell_type": "code",
   "execution_count": null,
   "metadata": {},
   "outputs": [],
   "source": [
    "pip install -U numpy==1.18.5 --user"
   ]
  },
  {
   "cell_type": "code",
   "execution_count": null,
   "metadata": {},
   "outputs": [],
   "source": [
    "pip uninstall pycocotools"
   ]
  },
  {
   "cell_type": "code",
   "execution_count": null,
   "metadata": {},
   "outputs": [],
   "source": [
    "pip install pycocotools-windows"
   ]
  },
  {
   "cell_type": "code",
   "execution_count": null,
   "metadata": {},
   "outputs": [],
   "source": [
    "pd.__version__"
   ]
  },
  {
   "cell_type": "code",
   "execution_count": null,
   "metadata": {},
   "outputs": [],
   "source": []
  }
 ],
 "metadata": {
  "kernelspec": {
   "display_name": "Python (learn-env)",
   "language": "python",
   "name": "learn-env"
  },
  "language_info": {
   "codemirror_mode": {
    "name": "ipython",
    "version": 3
   },
   "file_extension": ".py",
   "mimetype": "text/x-python",
   "name": "python",
   "nbconvert_exporter": "python",
   "pygments_lexer": "ipython3",
   "version": "3.8.5"
  },
  "toc": {
   "base_numbering": 1,
   "nav_menu": {},
   "number_sections": true,
   "sideBar": true,
   "skip_h1_title": false,
   "title_cell": "Table of Contents",
   "title_sidebar": "TOC",
   "toc_cell": true,
   "toc_position": {
    "height": "calc(100% - 180px)",
    "left": "10px",
    "top": "150px",
    "width": "384px"
   },
   "toc_section_display": true,
   "toc_window_display": true
  }
 },
 "nbformat": 4,
 "nbformat_minor": 2
}
