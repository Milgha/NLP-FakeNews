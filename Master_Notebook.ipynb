{
 "cells": [
  {
   "cell_type": "code",
   "execution_count": 40,
   "metadata": {
    "collapsed": true
   },
   "outputs": [
    {
     "name": "stdout",
     "output_type": "stream",
     "text": [
      "Collecting textblob\n",
      "  Downloading textblob-0.17.1-py2.py3-none-any.whl (636 kB)\n",
      "Requirement already satisfied: nltk>=3.1; python_version >= \"3\" in c:\\users\\milad\\documents\\flatiron\\anaconda\\envs\\learn-env\\lib\\site-packages (from textblob) (3.5)\n",
      "Requirement already satisfied: joblib in c:\\users\\milad\\documents\\flatiron\\anaconda\\envs\\learn-env\\lib\\site-packages (from nltk>=3.1; python_version >= \"3\"->textblob) (0.17.0)\n",
      "Requirement already satisfied: regex in c:\\users\\milad\\documents\\flatiron\\anaconda\\envs\\learn-env\\lib\\site-packages (from nltk>=3.1; python_version >= \"3\"->textblob) (2020.10.15)\n",
      "Requirement already satisfied: tqdm in c:\\users\\milad\\documents\\flatiron\\anaconda\\envs\\learn-env\\lib\\site-packages (from nltk>=3.1; python_version >= \"3\"->textblob) (4.64.1)\n",
      "Requirement already satisfied: click in c:\\users\\milad\\documents\\flatiron\\anaconda\\envs\\learn-env\\lib\\site-packages (from nltk>=3.1; python_version >= \"3\"->textblob) (7.1.2)\n",
      "Requirement already satisfied: colorama; platform_system == \"Windows\" in c:\\users\\milad\\documents\\flatiron\\anaconda\\envs\\learn-env\\lib\\site-packages (from tqdm->nltk>=3.1; python_version >= \"3\"->textblob) (0.4.3)\n",
      "Installing collected packages: textblob\n",
      "Successfully installed textblob-0.17.1\n"
     ]
    }
   ],
   "source": [
    "#!pip install textblob"
   ]
  },
  {
   "cell_type": "code",
   "execution_count": 381,
   "metadata": {},
   "outputs": [],
   "source": [
    "from tweepy import OAuthHandler\n",
    "#from tweepy.streaming import StreamListener\n",
    "import tweepy\n",
    "import json\n",
    "import pandas as pd\n",
    "import csv\n",
    "import re\n",
    "#from textblob import TextBlob\n",
    "import string\n",
    "#import preprocessor as p\n",
    "import os\n",
    "import time\n",
    "#from twarc import expansions\n",
    "\n",
    "from sklearn.model_selection import train_test_split, cross_val_score\n",
    "from sklearn.dummy import DummyClassifier\n",
    "from sklearn.pipeline import Pipeline\n",
    "from sklearn.feature_extraction.text import TfidfVectorizer, CountVectorizer\n",
    "from sklearn.metrics import accuracy_score, recall_score,precision_score, confusion_matrix, roc_auc_score\n",
    "from sklearn.metrics import plot_confusion_matrix\n",
    "from sklearn.ensemble import RandomForestClassifier\n",
    "from sklearn.naive_bayes import MultinomialNB\n",
    "from sklearn.neighbors import KNeighborsClassifier\n",
    "from sklearn.linear_model import LogisticRegression\n",
    "from sklearn.model_selection import GridSearchCV\n",
    "from sklearn.metrics import make_scorer\n",
    "\n",
    "import nltk\n",
    "from nltk.sentiment.vader import SentimentIntensityAnalyzer\n",
    "from textblob import TextBlob\n",
    "import textblob\n",
    "from nltk.corpus import stopwords\n",
    "from nltk.tokenize import TweetTokenizer, RegexpTokenizer\n",
    "from nltk.stem.porter import PorterStemmer \n",
    "from nltk.stem import WordNetLemmatizer\n",
    "from nltk.corpus import wordnet\n",
    "\n",
    "\n",
    "import seaborn as sns\n",
    "\n",
    "import warnings\n",
    "warnings.filterwarnings('ignore')\n"
   ]
  },
  {
   "cell_type": "code",
   "execution_count": 384,
   "metadata": {},
   "outputs": [
    {
     "name": "stderr",
     "output_type": "stream",
     "text": [
      "[nltk_data] Downloading package wordnet to\n",
      "[nltk_data]     C:\\Users\\milad\\AppData\\Roaming\\nltk_data...\n"
     ]
    },
    {
     "data": {
      "text/plain": [
       "True"
      ]
     },
     "execution_count": 384,
     "metadata": {},
     "output_type": "execute_result"
    }
   ],
   "source": [
    "nltk.download('wordnet')"
   ]
  },
  {
   "cell_type": "code",
   "execution_count": 5,
   "metadata": {},
   "outputs": [
    {
     "data": {
      "text/plain": [
       "id              0\n",
       "text            0\n",
       "withheld    10177\n",
       "dtype: int64"
      ]
     },
     "execution_count": 5,
     "metadata": {},
     "output_type": "execute_result"
    }
   ],
   "source": [
    "tweets_raw = pd.read_csv('tweets.csv')\n",
    "tweets_raw.isna().sum()"
   ]
  },
  {
   "cell_type": "code",
   "execution_count": 14,
   "metadata": {},
   "outputs": [
    {
     "name": "stderr",
     "output_type": "stream",
     "text": [
      "[nltk_data] Downloading package vader_lexicon to\n",
      "[nltk_data]     C:\\Users\\milad\\AppData\\Roaming\\nltk_data...\n",
      "[nltk_data]   Package vader_lexicon is already up-to-date!\n"
     ]
    },
    {
     "data": {
      "text/html": [
       "<div>\n",
       "<style scoped>\n",
       "    .dataframe tbody tr th:only-of-type {\n",
       "        vertical-align: middle;\n",
       "    }\n",
       "\n",
       "    .dataframe tbody tr th {\n",
       "        vertical-align: top;\n",
       "    }\n",
       "\n",
       "    .dataframe thead th {\n",
       "        text-align: right;\n",
       "    }\n",
       "</style>\n",
       "<table border=\"1\" class=\"dataframe\">\n",
       "  <thead>\n",
       "    <tr style=\"text-align: right;\">\n",
       "      <th></th>\n",
       "      <th>text</th>\n",
       "    </tr>\n",
       "  </thead>\n",
       "  <tbody>\n",
       "    <tr>\n",
       "      <th>0</th>\n",
       "      <td>Elon Musk took over Twitter. If anyone doesn't...</td>\n",
       "    </tr>\n",
       "    <tr>\n",
       "      <th>1</th>\n",
       "      <td>Why is this Twitter buyout a good thing again?...</td>\n",
       "    </tr>\n",
       "    <tr>\n",
       "      <th>2</th>\n",
       "      <td>Elon Musk’s Twitter layoffs are starting https...</td>\n",
       "    </tr>\n",
       "    <tr>\n",
       "      <th>3</th>\n",
       "      <td>Elon Musk is shocked\\n\\n@AntonioIvanchev,@tsek...</td>\n",
       "    </tr>\n",
       "    <tr>\n",
       "      <th>4</th>\n",
       "      <td>«An email went out to the company’s employees ...</td>\n",
       "    </tr>\n",
       "  </tbody>\n",
       "</table>\n",
       "</div>"
      ],
      "text/plain": [
       "                                                text\n",
       "0  Elon Musk took over Twitter. If anyone doesn't...\n",
       "1  Why is this Twitter buyout a good thing again?...\n",
       "2  Elon Musk’s Twitter layoffs are starting https...\n",
       "3  Elon Musk is shocked\\n\\n@AntonioIvanchev,@tsek...\n",
       "4  «An email went out to the company’s employees ..."
      ]
     },
     "execution_count": 14,
     "metadata": {},
     "output_type": "execute_result"
    }
   ],
   "source": [
    "nltk.download(\"vader_lexicon\")\n",
    "\n",
    "tweets_raw = pd.read_csv('tweets.csv')\n",
    "tweets_raw.drop(columns=['id','withheld'], axis=1, inplace=True)\n",
    "tweets_raw.head()"
   ]
  },
  {
   "cell_type": "code",
   "execution_count": 15,
   "metadata": {},
   "outputs": [
    {
     "data": {
      "text/html": [
       "<div>\n",
       "<style scoped>\n",
       "    .dataframe tbody tr th:only-of-type {\n",
       "        vertical-align: middle;\n",
       "    }\n",
       "\n",
       "    .dataframe tbody tr th {\n",
       "        vertical-align: top;\n",
       "    }\n",
       "\n",
       "    .dataframe thead th {\n",
       "        text-align: right;\n",
       "    }\n",
       "</style>\n",
       "<table border=\"1\" class=\"dataframe\">\n",
       "  <thead>\n",
       "    <tr style=\"text-align: right;\">\n",
       "      <th></th>\n",
       "      <th>text</th>\n",
       "      <th>Positive</th>\n",
       "      <th>Negative</th>\n",
       "      <th>Neutral</th>\n",
       "      <th>Compound</th>\n",
       "    </tr>\n",
       "  </thead>\n",
       "  <tbody>\n",
       "    <tr>\n",
       "      <th>0</th>\n",
       "      <td>Elon Musk took over Twitter. If anyone doesn't...</td>\n",
       "      <td>0.00</td>\n",
       "      <td>0.000</td>\n",
       "      <td>1.000</td>\n",
       "      <td>0.0000</td>\n",
       "    </tr>\n",
       "    <tr>\n",
       "      <th>1</th>\n",
       "      <td>Why is this Twitter buyout a good thing again?...</td>\n",
       "      <td>0.18</td>\n",
       "      <td>0.000</td>\n",
       "      <td>0.820</td>\n",
       "      <td>0.6199</td>\n",
       "    </tr>\n",
       "    <tr>\n",
       "      <th>2</th>\n",
       "      <td>Elon Musk’s Twitter layoffs are starting https...</td>\n",
       "      <td>0.00</td>\n",
       "      <td>0.000</td>\n",
       "      <td>1.000</td>\n",
       "      <td>0.0000</td>\n",
       "    </tr>\n",
       "    <tr>\n",
       "      <th>3</th>\n",
       "      <td>Elon Musk is shocked\\n\\n@AntonioIvanchev,@tsek...</td>\n",
       "      <td>0.00</td>\n",
       "      <td>0.315</td>\n",
       "      <td>0.685</td>\n",
       "      <td>-0.3182</td>\n",
       "    </tr>\n",
       "    <tr>\n",
       "      <th>4</th>\n",
       "      <td>«An email went out to the company’s employees ...</td>\n",
       "      <td>0.00</td>\n",
       "      <td>0.050</td>\n",
       "      <td>0.950</td>\n",
       "      <td>-0.2732</td>\n",
       "    </tr>\n",
       "  </tbody>\n",
       "</table>\n",
       "</div>"
      ],
      "text/plain": [
       "                                                text  Positive  Negative  \\\n",
       "0  Elon Musk took over Twitter. If anyone doesn't...      0.00     0.000   \n",
       "1  Why is this Twitter buyout a good thing again?...      0.18     0.000   \n",
       "2  Elon Musk’s Twitter layoffs are starting https...      0.00     0.000   \n",
       "3  Elon Musk is shocked\\n\\n@AntonioIvanchev,@tsek...      0.00     0.315   \n",
       "4  «An email went out to the company’s employees ...      0.00     0.050   \n",
       "\n",
       "   Neutral  Compound  \n",
       "0    1.000    0.0000  \n",
       "1    0.820    0.6199  \n",
       "2    1.000    0.0000  \n",
       "3    0.685   -0.3182  \n",
       "4    0.950   -0.2732  "
      ]
     },
     "execution_count": 15,
     "metadata": {},
     "output_type": "execute_result"
    }
   ],
   "source": [
    "sentiments = SentimentIntensityAnalyzer()\n",
    "tweets_raw[\"Positive\"] = [sentiments.polarity_scores(i)[\"pos\"] for i in tweets_raw[\"text\"]]\n",
    "tweets_raw[\"Negative\"] = [sentiments.polarity_scores(i)[\"neg\"] for i in tweets_raw[\"text\"]]\n",
    "tweets_raw[\"Neutral\"] = [sentiments.polarity_scores(i)[\"neu\"] for i in tweets_raw[\"text\"]]\n",
    "tweets_raw['Compound'] = [sentiments.polarity_scores(i)[\"compound\"] for i in tweets_raw[\"text\"]]\n",
    "tweets_raw.head()"
   ]
  },
  {
   "cell_type": "code",
   "execution_count": 16,
   "metadata": {
    "scrolled": true
   },
   "outputs": [
    {
     "data": {
      "text/html": [
       "<div>\n",
       "<style scoped>\n",
       "    .dataframe tbody tr th:only-of-type {\n",
       "        vertical-align: middle;\n",
       "    }\n",
       "\n",
       "    .dataframe tbody tr th {\n",
       "        vertical-align: top;\n",
       "    }\n",
       "\n",
       "    .dataframe thead th {\n",
       "        text-align: right;\n",
       "    }\n",
       "</style>\n",
       "<table border=\"1\" class=\"dataframe\">\n",
       "  <thead>\n",
       "    <tr style=\"text-align: right;\">\n",
       "      <th></th>\n",
       "      <th>text</th>\n",
       "      <th>Positive</th>\n",
       "      <th>Negative</th>\n",
       "      <th>Neutral</th>\n",
       "      <th>Compound</th>\n",
       "      <th>Sentiment</th>\n",
       "    </tr>\n",
       "  </thead>\n",
       "  <tbody>\n",
       "    <tr>\n",
       "      <th>0</th>\n",
       "      <td>Elon Musk took over Twitter. If anyone doesn't...</td>\n",
       "      <td>0.00</td>\n",
       "      <td>0.000</td>\n",
       "      <td>1.000</td>\n",
       "      <td>0.0000</td>\n",
       "      <td>Neutral</td>\n",
       "    </tr>\n",
       "    <tr>\n",
       "      <th>1</th>\n",
       "      <td>Why is this Twitter buyout a good thing again?...</td>\n",
       "      <td>0.18</td>\n",
       "      <td>0.000</td>\n",
       "      <td>0.820</td>\n",
       "      <td>0.6199</td>\n",
       "      <td>Positive</td>\n",
       "    </tr>\n",
       "    <tr>\n",
       "      <th>2</th>\n",
       "      <td>Elon Musk’s Twitter layoffs are starting https...</td>\n",
       "      <td>0.00</td>\n",
       "      <td>0.000</td>\n",
       "      <td>1.000</td>\n",
       "      <td>0.0000</td>\n",
       "      <td>Neutral</td>\n",
       "    </tr>\n",
       "    <tr>\n",
       "      <th>3</th>\n",
       "      <td>Elon Musk is shocked\\n\\n@AntonioIvanchev,@tsek...</td>\n",
       "      <td>0.00</td>\n",
       "      <td>0.315</td>\n",
       "      <td>0.685</td>\n",
       "      <td>-0.3182</td>\n",
       "      <td>Negative</td>\n",
       "    </tr>\n",
       "    <tr>\n",
       "      <th>4</th>\n",
       "      <td>«An email went out to the company’s employees ...</td>\n",
       "      <td>0.00</td>\n",
       "      <td>0.050</td>\n",
       "      <td>0.950</td>\n",
       "      <td>-0.2732</td>\n",
       "      <td>Negative</td>\n",
       "    </tr>\n",
       "  </tbody>\n",
       "</table>\n",
       "</div>"
      ],
      "text/plain": [
       "                                                text  Positive  Negative  \\\n",
       "0  Elon Musk took over Twitter. If anyone doesn't...      0.00     0.000   \n",
       "1  Why is this Twitter buyout a good thing again?...      0.18     0.000   \n",
       "2  Elon Musk’s Twitter layoffs are starting https...      0.00     0.000   \n",
       "3  Elon Musk is shocked\\n\\n@AntonioIvanchev,@tsek...      0.00     0.315   \n",
       "4  «An email went out to the company’s employees ...      0.00     0.050   \n",
       "\n",
       "   Neutral  Compound Sentiment  \n",
       "0    1.000    0.0000   Neutral  \n",
       "1    0.820    0.6199  Positive  \n",
       "2    1.000    0.0000   Neutral  \n",
       "3    0.685   -0.3182  Negative  \n",
       "4    0.950   -0.2732  Negative  "
      ]
     },
     "execution_count": 16,
     "metadata": {},
     "output_type": "execute_result"
    }
   ],
   "source": [
    "score = tweets_raw[\"Compound\"].values\n",
    "sentiment = []\n",
    "for i in score:\n",
    "    if i >= 0.05 :\n",
    "        sentiment.append('Positive')\n",
    "    elif i <= -0.05 :\n",
    "        sentiment.append('Negative')\n",
    "    else:\n",
    "        sentiment.append('Neutral')\n",
    "tweets_raw[\"Sentiment\"] = sentiment\n",
    "tweets_raw.head()"
   ]
  },
  {
   "cell_type": "code",
   "execution_count": 95,
   "metadata": {},
   "outputs": [
    {
     "data": {
      "text/html": [
       "<div>\n",
       "<style scoped>\n",
       "    .dataframe tbody tr th:only-of-type {\n",
       "        vertical-align: middle;\n",
       "    }\n",
       "\n",
       "    .dataframe tbody tr th {\n",
       "        vertical-align: top;\n",
       "    }\n",
       "\n",
       "    .dataframe thead th {\n",
       "        text-align: right;\n",
       "    }\n",
       "</style>\n",
       "<table border=\"1\" class=\"dataframe\">\n",
       "  <thead>\n",
       "    <tr style=\"text-align: right;\">\n",
       "      <th></th>\n",
       "      <th>text</th>\n",
       "      <th>Sentiment</th>\n",
       "    </tr>\n",
       "  </thead>\n",
       "  <tbody>\n",
       "    <tr>\n",
       "      <th>0</th>\n",
       "      <td>Elon Musk took over Twitter. If anyone doesn't...</td>\n",
       "      <td>Neutral</td>\n",
       "    </tr>\n",
       "    <tr>\n",
       "      <th>1</th>\n",
       "      <td>Why is this Twitter buyout a good thing again?...</td>\n",
       "      <td>Positive</td>\n",
       "    </tr>\n",
       "    <tr>\n",
       "      <th>2</th>\n",
       "      <td>Elon Musk’s Twitter layoffs are starting https...</td>\n",
       "      <td>Neutral</td>\n",
       "    </tr>\n",
       "    <tr>\n",
       "      <th>3</th>\n",
       "      <td>Elon Musk is shocked\\n\\n@AntonioIvanchev,@tsek...</td>\n",
       "      <td>Negative</td>\n",
       "    </tr>\n",
       "    <tr>\n",
       "      <th>4</th>\n",
       "      <td>«An email went out to the company’s employees ...</td>\n",
       "      <td>Negative</td>\n",
       "    </tr>\n",
       "  </tbody>\n",
       "</table>\n",
       "</div>"
      ],
      "text/plain": [
       "                                                text Sentiment\n",
       "0  Elon Musk took over Twitter. If anyone doesn't...   Neutral\n",
       "1  Why is this Twitter buyout a good thing again?...  Positive\n",
       "2  Elon Musk’s Twitter layoffs are starting https...   Neutral\n",
       "3  Elon Musk is shocked\\n\\n@AntonioIvanchev,@tsek...  Negative\n",
       "4  «An email went out to the company’s employees ...  Negative"
      ]
     },
     "execution_count": 95,
     "metadata": {},
     "output_type": "execute_result"
    }
   ],
   "source": [
    "tweets_raw = tweets_raw[['text','Sentiment']]\n",
    "tweets_raw.head()"
   ]
  },
  {
   "cell_type": "code",
   "execution_count": 97,
   "metadata": {},
   "outputs": [
    {
     "data": {
      "text/plain": [
       "Neutral     3958\n",
       "Negative    3596\n",
       "Positive    2825\n",
       "Name: Sentiment, dtype: int64"
      ]
     },
     "execution_count": 97,
     "metadata": {},
     "output_type": "execute_result"
    }
   ],
   "source": [
    "tweets_raw['Sentiment'].value_counts()"
   ]
  },
  {
   "cell_type": "code",
   "execution_count": 99,
   "metadata": {},
   "outputs": [
    {
     "data": {
      "text/plain": [
       "<AxesSubplot:xlabel='Sentiment', ylabel='count'>"
      ]
     },
     "execution_count": 99,
     "metadata": {},
     "output_type": "execute_result"
    },
    {
     "data": {
      "image/png": "[encoded data removed]",
      "text/plain": [
       "<Figure size 432x288 with 1 Axes>"
      ]
     },
     "metadata": {
      "needs_background": "light"
     },
     "output_type": "display_data"
    }
   ],
   "source": [
    "sns.countplot(tweets_raw['Sentiment'])"
   ]
  },
  {
   "cell_type": "code",
   "execution_count": 106,
   "metadata": {},
   "outputs": [],
   "source": [
    "X=tweets_raw.text\n",
    "y=tweets_raw.Sentiment\n",
    "\n",
    "X_train, X_test, y_train, y_test = train_test_split(X, y, test_size=0.2, random_state=42)"
   ]
  },
  {
   "cell_type": "code",
   "execution_count": 107,
   "metadata": {},
   "outputs": [],
   "source": [
    "cv_dict = {}\n",
    "def reportcrossval(model, model_name, X, Y):\n",
    "    cv_mean = cross_val_score(model, X, Y).mean()\n",
    "    cv_dict[model_name] = cv_mean\n",
    "    print(f\"The cv mean of {model_name} is {cv_mean}\")"
   ]
  },
  {
   "cell_type": "code",
   "execution_count": 108,
   "metadata": {},
   "outputs": [],
   "source": [
    "pipe_dummy = Pipeline([('dummy', DummyClassifier(strategy='most_frequent'))], verbose=True)"
   ]
  },
  {
   "cell_type": "code",
   "execution_count": 109,
   "metadata": {
    "scrolled": true
   },
   "outputs": [
    {
     "name": "stdout",
     "output_type": "stream",
     "text": [
      "[Pipeline] ............. (step 1 of 1) Processing dummy, total=   0.0s\n",
      "[Pipeline] ............. (step 1 of 1) Processing dummy, total=   0.0s\n",
      "[Pipeline] ............. (step 1 of 1) Processing dummy, total=   0.0s\n",
      "[Pipeline] ............. (step 1 of 1) Processing dummy, total=   0.0s\n",
      "[Pipeline] ............. (step 1 of 1) Processing dummy, total=   0.0s\n",
      "The cv mean of Dummy is 0.37709262093527635\n"
     ]
    }
   ],
   "source": [
    "reportcrossval(pipe_dummy, 'Dummy', X_train, y_train)"
   ]
  },
  {
   "cell_type": "markdown",
   "metadata": {},
   "source": [
    "# pre-processing"
   ]
  },
  {
   "cell_type": "code",
   "execution_count": 178,
   "metadata": {},
   "outputs": [
    {
     "data": {
      "text/plain": [
       "['i',\n",
       " 'me',\n",
       " 'my',\n",
       " 'myself',\n",
       " 'we',\n",
       " 'our',\n",
       " 'ours',\n",
       " 'ourselves',\n",
       " 'you',\n",
       " \"you're\",\n",
       " \"you've\",\n",
       " \"you'll\",\n",
       " \"you'd\",\n",
       " 'your',\n",
       " 'yours',\n",
       " 'yourself',\n",
       " 'yourselves',\n",
       " 'he',\n",
       " 'him',\n",
       " 'his',\n",
       " 'himself',\n",
       " 'she',\n",
       " \"she's\",\n",
       " 'her',\n",
       " 'hers',\n",
       " 'herself',\n",
       " 'it',\n",
       " \"it's\",\n",
       " 'its',\n",
       " 'itself',\n",
       " 'they',\n",
       " 'them',\n",
       " 'their',\n",
       " 'theirs',\n",
       " 'themselves',\n",
       " 'what',\n",
       " 'which',\n",
       " 'who',\n",
       " 'whom',\n",
       " 'this',\n",
       " 'that',\n",
       " \"that'll\",\n",
       " 'these',\n",
       " 'those',\n",
       " 'am',\n",
       " 'is',\n",
       " 'are',\n",
       " 'was',\n",
       " 'were',\n",
       " 'be',\n",
       " 'been',\n",
       " 'being',\n",
       " 'have',\n",
       " 'has',\n",
       " 'had',\n",
       " 'having',\n",
       " 'do',\n",
       " 'does',\n",
       " 'did',\n",
       " 'doing',\n",
       " 'a',\n",
       " 'an',\n",
       " 'the',\n",
       " 'and',\n",
       " 'but',\n",
       " 'if',\n",
       " 'or',\n",
       " 'because',\n",
       " 'as',\n",
       " 'until',\n",
       " 'while',\n",
       " 'of',\n",
       " 'at',\n",
       " 'by',\n",
       " 'for',\n",
       " 'with',\n",
       " 'about',\n",
       " 'against',\n",
       " 'between',\n",
       " 'into',\n",
       " 'through',\n",
       " 'during',\n",
       " 'before',\n",
       " 'after',\n",
       " 'above',\n",
       " 'below',\n",
       " 'to',\n",
       " 'from',\n",
       " 'up',\n",
       " 'down',\n",
       " 'in',\n",
       " 'out',\n",
       " 'on',\n",
       " 'off',\n",
       " 'over',\n",
       " 'under',\n",
       " 'again',\n",
       " 'further',\n",
       " 'then',\n",
       " 'once',\n",
       " 'here',\n",
       " 'there',\n",
       " 'when',\n",
       " 'where',\n",
       " 'why',\n",
       " 'how',\n",
       " 'all',\n",
       " 'any',\n",
       " 'both',\n",
       " 'each',\n",
       " 'few',\n",
       " 'more',\n",
       " 'most',\n",
       " 'other',\n",
       " 'some',\n",
       " 'such',\n",
       " 'no',\n",
       " 'nor',\n",
       " 'not',\n",
       " 'only',\n",
       " 'own',\n",
       " 'same',\n",
       " 'so',\n",
       " 'than',\n",
       " 'too',\n",
       " 'very',\n",
       " 's',\n",
       " 't',\n",
       " 'can',\n",
       " 'will',\n",
       " 'just',\n",
       " 'don',\n",
       " \"don't\",\n",
       " 'should',\n",
       " \"should've\",\n",
       " 'now',\n",
       " 'd',\n",
       " 'll',\n",
       " 'm',\n",
       " 'o',\n",
       " 're',\n",
       " 've',\n",
       " 'y',\n",
       " 'ain',\n",
       " 'aren',\n",
       " \"aren't\",\n",
       " 'couldn',\n",
       " \"couldn't\",\n",
       " 'didn',\n",
       " \"didn't\",\n",
       " 'doesn',\n",
       " \"doesn't\",\n",
       " 'hadn',\n",
       " \"hadn't\",\n",
       " 'hasn',\n",
       " \"hasn't\",\n",
       " 'haven',\n",
       " \"haven't\",\n",
       " 'isn',\n",
       " \"isn't\",\n",
       " 'ma',\n",
       " 'mightn',\n",
       " \"mightn't\",\n",
       " 'mustn',\n",
       " \"mustn't\",\n",
       " 'needn',\n",
       " \"needn't\",\n",
       " 'shan',\n",
       " \"shan't\",\n",
       " 'shouldn',\n",
       " \"shouldn't\",\n",
       " 'wasn',\n",
       " \"wasn't\",\n",
       " 'weren',\n",
       " \"weren't\",\n",
       " 'won',\n",
       " \"won't\",\n",
       " 'wouldn',\n",
       " \"wouldn't\"]"
      ]
     },
     "execution_count": 178,
     "metadata": {},
     "output_type": "execute_result"
    }
   ],
   "source": [
    "Stop_Words = stopwords.words('english')\n",
    "Stop_Words"
   ]
  },
  {
   "cell_type": "code",
   "execution_count": 391,
   "metadata": {},
   "outputs": [],
   "source": [
    "import numpy as np\n",
    "\n",
    "def Cleaning_tweets(df):\n",
    "    '''\n",
    "    This function will Clean the given dataframe from any URL's, Mentions, Hashtags, Punctuations, Numbers,etc.\n",
    "    and also lemmitize the words and returns a dataframe with cleaned tweet as a new column.\n",
    "    \n",
    "    '''  \n",
    "    stemmer = PorterStemmer()\n",
    "#    lemmatizer = WordNetLemmatizer()\n",
    "    def clean_tweet(tweet):\n",
    "        if type(tweet) == np.float:\n",
    "            return \"\"\n",
    "        temp = tweet.lower() # lower case the text\n",
    "        temp = re.sub(\"'\", \"\", temp) # to avoid removing contractions in english\n",
    "        temp = re.sub(\"@[A-Za-z0-9_]+\",\"\", temp) # removes mentions\n",
    "#        temp = re.sub(\"#[A-Za-z0-9_]+\",\"\", temp) # removes hashtags\n",
    "        temp = re.sub(r\"@(\\w+)\", ' ', temp, flags=re.MULTILINE)\n",
    "        temp = re.sub(r'http\\S+', '', temp) # removes URL's\n",
    "        temp = re.sub('[()!?]', ' ', temp) # removes special charecters\n",
    "        temp = re.sub('\\[.*?\\]',' ', temp) # further removes special charecters\n",
    "        temp = re.sub(\"[^a-z0-9]\",\" \", temp)\n",
    "        temp = temp.split() # splitting the words\n",
    "        temp = [stemmer.stem(w) for w in temp if not w in Stop_Words] # Removes the stop words and Stemming\n",
    "#        temp = [lemmatizer.lemmatize(w) for w in temp if not w in Stop_Words] # Removes the stop words and Lemming\n",
    "        temp = \" \".join(word for word in temp) # join all words together\n",
    "        return temp\n",
    "    results = [clean_tweet(tw) for tw in list(df.text)] # iterete over each tweet and clean it based on above function\n",
    "    df['Cleaned_Text'] = results\n",
    "    return df "
   ]
  },
  {
   "cell_type": "code",
   "execution_count": 392,
   "metadata": {
    "scrolled": true
   },
   "outputs": [
    {
     "data": {
      "text/html": [
       "<div>\n",
       "<style scoped>\n",
       "    .dataframe tbody tr th:only-of-type {\n",
       "        vertical-align: middle;\n",
       "    }\n",
       "\n",
       "    .dataframe tbody tr th {\n",
       "        vertical-align: top;\n",
       "    }\n",
       "\n",
       "    .dataframe thead th {\n",
       "        text-align: right;\n",
       "    }\n",
       "</style>\n",
       "<table border=\"1\" class=\"dataframe\">\n",
       "  <thead>\n",
       "    <tr style=\"text-align: right;\">\n",
       "      <th></th>\n",
       "      <th>text</th>\n",
       "      <th>Sentiment</th>\n",
       "      <th>cleaned Text</th>\n",
       "      <th>Cleaned Text</th>\n",
       "      <th>Cleaned_Text</th>\n",
       "    </tr>\n",
       "  </thead>\n",
       "  <tbody>\n",
       "    <tr>\n",
       "      <th>0</th>\n",
       "      <td>Elon Musk took over Twitter. If anyone doesn't...</td>\n",
       "      <td>Neutral</td>\n",
       "      <td>elon musk took twitter anyon doesnt want leav ...</td>\n",
       "      <td>elon musk took twitter anyon doesnt want leav ...</td>\n",
       "      <td>elon musk took twitter anyon doesnt want leav ...</td>\n",
       "    </tr>\n",
       "    <tr>\n",
       "      <th>1</th>\n",
       "      <td>Why is this Twitter buyout a good thing again?...</td>\n",
       "      <td>Positive</td>\n",
       "      <td>twitter buyout good thing also elon musk alway...</td>\n",
       "      <td>twitter buyout good thing also elon musk alway...</td>\n",
       "      <td>twitter buyout good thing also elon musk alway...</td>\n",
       "    </tr>\n",
       "    <tr>\n",
       "      <th>2</th>\n",
       "      <td>Elon Musk’s Twitter layoffs are starting https...</td>\n",
       "      <td>Neutral</td>\n",
       "      <td>elon musk twitter layoff start</td>\n",
       "      <td>elon musk twitter layoff start</td>\n",
       "      <td>elon musk twitter layoff start</td>\n",
       "    </tr>\n",
       "    <tr>\n",
       "      <th>3</th>\n",
       "      <td>Elon Musk is shocked\\n\\n@AntonioIvanchev,@tsek...</td>\n",
       "      <td>Negative</td>\n",
       "      <td>elon musk shock</td>\n",
       "      <td>elon musk shock</td>\n",
       "      <td>elon musk shock</td>\n",
       "    </tr>\n",
       "    <tr>\n",
       "      <th>4</th>\n",
       "      <td>«An email went out to the company’s employees ...</td>\n",
       "      <td>Negative</td>\n",
       "      <td>email went compani employe late thursday notif...</td>\n",
       "      <td>email went compani employe late thursday notif...</td>\n",
       "      <td>email went compani employe late thursday notif...</td>\n",
       "    </tr>\n",
       "    <tr>\n",
       "      <th>...</th>\n",
       "      <td>...</td>\n",
       "      <td>...</td>\n",
       "      <td>...</td>\n",
       "      <td>...</td>\n",
       "      <td>...</td>\n",
       "    </tr>\n",
       "    <tr>\n",
       "      <th>10374</th>\n",
       "      <td>Elon 'Dogefather' Musk Reportedly Tells Twitte...</td>\n",
       "      <td>Neutral</td>\n",
       "      <td>elon dogefath musk reportedli tell twitter pau...</td>\n",
       "      <td>elon dogefath musk reportedli tell twitter pau...</td>\n",
       "      <td>elon dogefath musk reportedli tell twitter pau...</td>\n",
       "    </tr>\n",
       "    <tr>\n",
       "      <th>10375</th>\n",
       "      <td>@Realtalk2022 @DDayCobra Elon Musk when he los...</td>\n",
       "      <td>Negative</td>\n",
       "      <td>elon musk lose money buy twitter tri get</td>\n",
       "      <td>elon musk lose money buy twitter tri get</td>\n",
       "      <td>elon musk lose money buy twitter tri get</td>\n",
       "    </tr>\n",
       "    <tr>\n",
       "      <th>10376</th>\n",
       "      <td>War of tweets erupts between Rep. Ocasio-Corte...</td>\n",
       "      <td>Negative</td>\n",
       "      <td>war tweet erupt rep ocasio cortez elon musk fe...</td>\n",
       "      <td>war tweet erupt rep ocasio cortez elon musk fe...</td>\n",
       "      <td>war tweet erupt rep ocasio cortez elon musk fe...</td>\n",
       "    </tr>\n",
       "    <tr>\n",
       "      <th>10377</th>\n",
       "      <td>“He [Elon Musk] said he would continue consult...</td>\n",
       "      <td>Negative</td>\n",
       "      <td>said would continu consult peopl color religi ...</td>\n",
       "      <td>said would continu consult peopl color religi ...</td>\n",
       "      <td>said would continu consult peopl color religi ...</td>\n",
       "    </tr>\n",
       "    <tr>\n",
       "      <th>10378</th>\n",
       "      <td>Hannah Selinger: RIP Twitter, 2006-2022: Dead ...</td>\n",
       "      <td>Negative</td>\n",
       "      <td>hannah seling rip twitter 2006 2022 dead hand ...</td>\n",
       "      <td>hannah seling rip twitter 2006 2022 dead hand ...</td>\n",
       "      <td>hannah seling rip twitter 2006 2022 dead hand ...</td>\n",
       "    </tr>\n",
       "  </tbody>\n",
       "</table>\n",
       "<p>10379 rows × 5 columns</p>\n",
       "</div>"
      ],
      "text/plain": [
       "                                                    text Sentiment  \\\n",
       "0      Elon Musk took over Twitter. If anyone doesn't...   Neutral   \n",
       "1      Why is this Twitter buyout a good thing again?...  Positive   \n",
       "2      Elon Musk’s Twitter layoffs are starting https...   Neutral   \n",
       "3      Elon Musk is shocked\\n\\n@AntonioIvanchev,@tsek...  Negative   \n",
       "4      «An email went out to the company’s employees ...  Negative   \n",
       "...                                                  ...       ...   \n",
       "10374  Elon 'Dogefather' Musk Reportedly Tells Twitte...   Neutral   \n",
       "10375  @Realtalk2022 @DDayCobra Elon Musk when he los...  Negative   \n",
       "10376  War of tweets erupts between Rep. Ocasio-Corte...  Negative   \n",
       "10377  “He [Elon Musk] said he would continue consult...  Negative   \n",
       "10378  Hannah Selinger: RIP Twitter, 2006-2022: Dead ...  Negative   \n",
       "\n",
       "                                            cleaned Text  \\\n",
       "0      elon musk took twitter anyon doesnt want leav ...   \n",
       "1      twitter buyout good thing also elon musk alway...   \n",
       "2                         elon musk twitter layoff start   \n",
       "3                                        elon musk shock   \n",
       "4      email went compani employe late thursday notif...   \n",
       "...                                                  ...   \n",
       "10374  elon dogefath musk reportedli tell twitter pau...   \n",
       "10375           elon musk lose money buy twitter tri get   \n",
       "10376  war tweet erupt rep ocasio cortez elon musk fe...   \n",
       "10377  said would continu consult peopl color religi ...   \n",
       "10378  hannah seling rip twitter 2006 2022 dead hand ...   \n",
       "\n",
       "                                            Cleaned Text  \\\n",
       "0      elon musk took twitter anyon doesnt want leav ...   \n",
       "1      twitter buyout good thing also elon musk alway...   \n",
       "2                         elon musk twitter layoff start   \n",
       "3                                        elon musk shock   \n",
       "4      email went compani employe late thursday notif...   \n",
       "...                                                  ...   \n",
       "10374  elon dogefath musk reportedli tell twitter pau...   \n",
       "10375           elon musk lose money buy twitter tri get   \n",
       "10376  war tweet erupt rep ocasio cortez elon musk fe...   \n",
       "10377  said would continu consult peopl color religi ...   \n",
       "10378  hannah seling rip twitter 2006 2022 dead hand ...   \n",
       "\n",
       "                                            Cleaned_Text  \n",
       "0      elon musk took twitter anyon doesnt want leav ...  \n",
       "1      twitter buyout good thing also elon musk alway...  \n",
       "2                         elon musk twitter layoff start  \n",
       "3                                        elon musk shock  \n",
       "4      email went compani employe late thursday notif...  \n",
       "...                                                  ...  \n",
       "10374  elon dogefath musk reportedli tell twitter pau...  \n",
       "10375           elon musk lose money buy twitter tri get  \n",
       "10376  war tweet erupt rep ocasio cortez elon musk fe...  \n",
       "10377  said would continu consult peopl color religi ...  \n",
       "10378  hannah seling rip twitter 2006 2022 dead hand ...  \n",
       "\n",
       "[10379 rows x 5 columns]"
      ]
     },
     "execution_count": 392,
     "metadata": {},
     "output_type": "execute_result"
    }
   ],
   "source": [
    "Cleaning_tweets(tweets_raw)"
   ]
  },
  {
   "cell_type": "code",
   "execution_count": 393,
   "metadata": {},
   "outputs": [
    {
     "data": {
      "text/plain": [
       "'email went compani employe late thursday notifi employe plan cut job inform 9 pacif time friday worker would receiv email subject line role twitter twitter chieftwit'"
      ]
     },
     "execution_count": 393,
     "metadata": {},
     "output_type": "execute_result"
    }
   ],
   "source": [
    "tweets_raw.Cleaned_Text.iloc[4]"
   ]
  },
  {
   "cell_type": "code",
   "execution_count": 394,
   "metadata": {},
   "outputs": [
    {
     "data": {
      "text/plain": [
       "'«An email went out to the company’s employees late Thursday notifying employees of plans to cut jobs, informing them that by 9 a.m. Pacific time Friday, workers would receive an email with the subject line: “Your Role at Twitter.”» #Twitter #ChiefTwit  https://t.co/ypfkN5mHjS'"
      ]
     },
     "execution_count": 394,
     "metadata": {},
     "output_type": "execute_result"
    }
   ],
   "source": [
    "tweets_raw.text.iloc[4]"
   ]
  },
  {
   "cell_type": "code",
   "execution_count": 395,
   "metadata": {},
   "outputs": [],
   "source": [
    "X=tweets_raw.Cleaned_Text\n",
    "y=tweets_raw.Sentiment\n",
    "\n",
    "X_train, X_test, y_train, y_test = train_test_split(X, y, test_size=0.2, random_state=42)"
   ]
  },
  {
   "cell_type": "code",
   "execution_count": 213,
   "metadata": {},
   "outputs": [],
   "source": [
    "def display_cross_validation_results(cross_val,model_name):\n",
    "    '''\n",
    "    Incoporate cross validation results into a pandas dataframe and display validation scores\n",
    "    '''\n",
    "    \n",
    "    cross_val_results = pd.DataFrame(cross_val)\n",
    "    \n",
    "    accuracy = cross_val_results['mean_test_accuracy'][0]\n",
    "    recall = cross_val_results['mean_test_recall'][0]\n",
    "    precision = cross_val_results['mean_test_precision'][0]\n",
    "    \n",
    "    print('Validation','='*60)\n",
    "    print(f'Validation results for {model_name}:')\n",
    "    print(f'Accuracy: {accuracy}')\n",
    "    print(f'Recall: {recall}')\n",
    "    print(f'Precision: {precision}\\n')"
   ]
  },
  {
   "cell_type": "code",
   "execution_count": 293,
   "metadata": {},
   "outputs": [],
   "source": [
    "def display_prediction_results(prediction, actuall, model_name):\n",
    "    '''\n",
    "    Get predictions for X_test samples and display scores\n",
    "    '''\n",
    "    \n",
    "    accuracy = accuracy_score(actuall,prediction)\n",
    "    recall = recall_score(actuall, prediction, average = 'micro')\n",
    "    precision = precision_score(actuall, prediction, average = 'micro')\n",
    "#    roc_auc_score = roc_auc_score(actuall, prediction,  average = 'micro')\n",
    "\n",
    "    print('='*60)\n",
    "    print(f'Predictions for: {model_name}')\n",
    "    print(f'Accuracy: {accuracy}')\n",
    "    print(f'Recall: {recall}')\n",
    "    print(f'Precision: {precision}')\n",
    "#    print(f'Roc_AUC Score: {roc_auc_score}\\n')"
   ]
  },
  {
   "cell_type": "code",
   "execution_count": 234,
   "metadata": {},
   "outputs": [],
   "source": [
    "def display_confusion_matrix_v2(actuall_y,predicted_y,model_name):\n",
    "    conf_matrix = confusion_matrix(y_true=actuall_y, y_pred=predicted_y)\n",
    "\n",
    "    fig, ax = plt.subplots(figsize=(6, 6))\n",
    "    ax.matshow(conf_matrix, cmap=plt.cm.Blues, alpha=0.3)\n",
    "    \n",
    "    for i in range(conf_matrix.shape[0]):\n",
    "        for j in range(conf_matrix.shape[1]):\n",
    "            ax.text(x=j, y=i,s=conf_matrix[i, j], va='center', ha='center', size='xx-large')\n",
    " \n",
    "    plt.xlabel('Predictions', fontsize=14)\n",
    "    plt.ylabel('Actuals', fontsize=14)\n",
    "    plt.title(f'Confusion Matrix for {model_name}');\n",
    "    save_image_as = 'confusion_matrix_' + '_'.join(model_name.split()) + ': ' \n",
    "    fig.savefig(save_image_as)\n",
    "    "
   ]
  },
  {
   "cell_type": "code",
   "execution_count": 235,
   "metadata": {},
   "outputs": [],
   "source": [
    "def display_confusion_matrix(model, X, y, model_name):\n",
    "    print(f'Confusion Matrix for Model: {model_name}')\n",
    "    plot_confusion_matrix(model,X,y)\n",
    "    print('='*80)\n",
    "    "
   ]
  },
  {
   "cell_type": "markdown",
   "metadata": {},
   "source": [
    "# TF_IDF Vectorizer"
   ]
  },
  {
   "cell_type": "code",
   "execution_count": 397,
   "metadata": {
    "scrolled": true
   },
   "outputs": [
    {
     "data": {
      "text/plain": [
       "0.742141473781943"
      ]
     },
     "metadata": {},
     "output_type": "display_data"
    },
    {
     "data": {
      "text/plain": [
       "{'mnb__alpha': 1.0,\n",
       " 'tfidfvect__input': 'content',\n",
       " 'tfidfvect__ngram_range': (1, 1)}"
      ]
     },
     "metadata": {},
     "output_type": "display_data"
    }
   ],
   "source": [
    "# MultinomialNB\n",
    "# Use pipes to TF_IDF Vectorize X_train and then train MultinomialNB\n",
    "\n",
    "start = time.time()\n",
    "\n",
    "TF_mnb_pipe = Pipeline([('tfidfvect',TfidfVectorizer()), \n",
    "                 ('mnb', MultinomialNB())])\n",
    "\n",
    "grid_accuracy = make_scorer(accuracy_score)\n",
    "grid_recall_micro = make_scorer(recall_score, average = 'micro')\n",
    "grid_precision_micro = make_scorer(precision_score, average = 'micro')\n",
    "\n",
    "TF_mnb_params = {'tfidfvect__input' : ['content'],\n",
    "                 'tfidfvect__ngram_range': [(1, 1), (1, 2), (1, 3)],\n",
    "                 'mnb__alpha' : [1.0]}\n",
    "\n",
    "TF_mnb_model_grid = GridSearchCV(estimator = TF_mnb_pipe, param_grid = TF_mnb_params,\n",
    "                                scoring = {'accuracy' : grid_accuracy, \n",
    "                                           'recall' : grid_recall_micro,\n",
    "                                          'precision' : grid_precision_micro},\n",
    "                                refit = 'accuracy')\n",
    "\n",
    "TF_mnb_model_grid.fit(X_train,y_train)\n",
    "display(TF_mnb_model_grid.best_score_)\n",
    "display(TF_mnb_model_grid.best_params_)\n",
    "#end = time.time()\n",
    "#print(f'Training time: {end-start}')"
   ]
  },
  {
   "cell_type": "code",
   "execution_count": 364,
   "metadata": {},
   "outputs": [
    {
     "name": "stdout",
     "output_type": "stream",
     "text": [
      "Validation ============================================================\n",
      "Validation results for MultinomialNB with TF-IDF Vectorize:\n",
      "Accuracy: 0.7405749185785889\n",
      "Recall: 0.7405749185785889\n",
      "Precision: 0.7405749185785889\n",
      "\n",
      "============================================================\n",
      "Predictions for: MultinomialNB with TF-IDF Vectorize\n",
      "Accuracy: 0.7577071290944123\n",
      "Recall: 0.7577071290944123\n",
      "Precision: 0.7577071290944123\n"
     ]
    }
   ],
   "source": [
    "# Display cross validation results, make prediction for X_test \n",
    "# diplay results.  Use respective functions.\n",
    "\n",
    "model_name = 'MultinomialNB with TF-IDF Vectorize'\n",
    "\n",
    "display_cross_validation_results(TF_mnb_model_grid.cv_results_,model_name)\n",
    "\n",
    "y_hat_TF_MNB = TF_mnb_model_grid.predict(X_test)\n",
    "\n",
    "display_prediction_results(y_hat_TF_MNB, y_test,model_name)\n"
   ]
  },
  {
   "cell_type": "code",
   "execution_count": 250,
   "metadata": {},
   "outputs": [
    {
     "name": "stdout",
     "output_type": "stream",
     "text": [
      "Confusion Matrix for Model: MultinomialNB with TF-IDF Vectorize\n",
      "================================================================================\n"
     ]
    },
    {
     "data": {
      "image/png": "[encoded data removed]",
      "text/plain": [
       "<Figure size 432x288 with 2 Axes>"
      ]
     },
     "metadata": {
      "needs_background": "light"
     },
     "output_type": "display_data"
    }
   ],
   "source": [
    "display_confusion_matrix(TF_mnb_model_grid, X_test,\n",
    "                         y_test,model_name)"
   ]
  },
  {
   "cell_type": "code",
   "execution_count": 258,
   "metadata": {},
   "outputs": [
    {
     "data": {
      "text/plain": [
       "0.8430682634209324"
      ]
     },
     "metadata": {},
     "output_type": "display_data"
    },
    {
     "data": {
      "text/plain": [
       "{'lr__C': 100,\n",
       " 'lr__class_weight': None,\n",
       " 'lr__max_iter': 100,\n",
       " 'lr__penalty': 'l1',\n",
       " 'lr__solver': 'liblinear',\n",
       " 'tfidfvect__input': 'content',\n",
       " 'tfidfvect__ngram_range': (1, 2)}"
      ]
     },
     "metadata": {},
     "output_type": "display_data"
    }
   ],
   "source": [
    "# LogisticRegression\n",
    "# Use pipes to TF_IDF Vectorize X_train and then train LogisticRegression\n",
    "\n",
    "TF_LR_pipe = Pipeline([('tfidfvect',TfidfVectorizer()), \n",
    "                 ('lr', LogisticRegression())])\n",
    "\n",
    "grid_accuracy = make_scorer(accuracy_score)\n",
    "grid_recall_micro = make_scorer(recall_score, average = 'micro')\n",
    "grid_precision_micro = make_scorer(precision_score, average = 'micro')\n",
    "\n",
    "TF_LR_params = {'tfidfvect__input' : ['content'],\n",
    "                 'tfidfvect__ngram_range': [(1, 1), (1, 2)],\n",
    "                 'lr__penalty' : ['l1','l2'],\n",
    "                'lr__C' : [1.0, 100],  # tried 1 and 1000\n",
    "                'lr__class_weight' : [None],  # tried None and 'balanced'\n",
    "                'lr__solver' : ['liblinear','lbfgs','newton-cg'], # tried 'newton-cg', 'lbfgs', 'liblinear', 'sag', 'saga'\n",
    "                'lr__max_iter' : [100,1000]} # treid 100,1000 and 10000\n",
    "\n",
    "TF_LR_model_grid = GridSearchCV(estimator = TF_LR_pipe, param_grid = TF_LR_params,\n",
    "                                scoring = {'accuracy' : grid_accuracy, \n",
    "                                           'recall' : grid_recall_micro,\n",
    "                                          'precision' : grid_precision_micro},\n",
    "                                refit = 'accuracy')\n",
    "\n",
    "TF_LR_model_grid.fit(X_train,y_train)\n",
    "display(TF_LR_model_grid.best_score_)\n",
    "display(TF_LR_model_grid.best_params_)\n",
    "#end = time.time()\n",
    "#print(f'Training time: {end-start}')"
   ]
  },
  {
   "cell_type": "code",
   "execution_count": 306,
   "metadata": {},
   "outputs": [
    {
     "name": "stdout",
     "output_type": "stream",
     "text": [
      "Validation ============================================================\n",
      "Validation results for Logistic Regression with TF-IDF Vectorize:\n",
      "Accuracy: 0.8022384541174935\n",
      "Recall: 0.8022384541174935\n",
      "Precision: 0.8022384541174935\n",
      "\n",
      "============================================================\n",
      "Predictions for: Logistic Regression with TF-IDF Vectorize\n",
      "Accuracy: 0.861271676300578\n",
      "Recall: 0.861271676300578\n",
      "Precision: 0.861271676300578\n"
     ]
    }
   ],
   "source": [
    "# Display cross validation results, make prediction for X_test \n",
    "# diplay results.  Use respective functions.\n",
    "\n",
    "model_name = 'Logistic Regression with TF-IDF Vectorize'\n",
    "\n",
    "display_cross_validation_results(TF_LR_model_grid.cv_results_,model_name)\n",
    "\n",
    "y_hat_TF_LR = TF_LR_model_grid.predict(X_test)\n",
    "\n",
    "display_prediction_results(y_hat_TF_LR, y_test,model_name)\n"
   ]
  },
  {
   "cell_type": "code",
   "execution_count": 296,
   "metadata": {},
   "outputs": [
    {
     "name": "stdout",
     "output_type": "stream",
     "text": [
      "Confusion Matrix for Model: Logistic Regression with TF-IDF Vectorize\n",
      "================================================================================\n"
     ]
    },
    {
     "data": {
      "image/png": "[encoded data removed]",
      "text/plain": [
       "<Figure size 432x288 with 2 Axes>"
      ]
     },
     "metadata": {
      "needs_background": "light"
     },
     "output_type": "display_data"
    }
   ],
   "source": [
    "display_confusion_matrix(TF_LR_model_grid, X_test,\n",
    "                         y_test,model_name)"
   ]
  },
  {
   "cell_type": "markdown",
   "metadata": {},
   "source": [
    "# Count Vectorizer"
   ]
  },
  {
   "cell_type": "code",
   "execution_count": 361,
   "metadata": {
    "scrolled": true
   },
   "outputs": [
    {
     "data": {
      "text/plain": [
       "0.7467176834973851"
      ]
     },
     "metadata": {},
     "output_type": "display_data"
    },
    {
     "data": {
      "text/plain": [
       "{'countvect__input': 'content',\n",
       " 'countvect__ngram_range': (1, 2),\n",
       " 'mnb__alpha': 1.0}"
      ]
     },
     "metadata": {},
     "output_type": "display_data"
    }
   ],
   "source": [
    "# MultinomialNB\n",
    "# Use pipes to Count Vectorize X_train and then train MultinomialNB\n",
    "\n",
    "start = time.time()\n",
    "\n",
    "CT_mnb_pipe = Pipeline([('countvect',CountVectorizer()), \n",
    "                 ('mnb', MultinomialNB())])\n",
    "\n",
    "grid_accuracy = make_scorer(accuracy_score)\n",
    "grid_recall_micro = make_scorer(recall_score, average = 'micro')\n",
    "grid_precision_micro = make_scorer(precision_score, average = 'micro')\n",
    "\n",
    "CT_mnb_params = {'countvect__input' : ['content'],\n",
    "                 'countvect__ngram_range': [(1, 1), (1, 2), (1, 3)],\n",
    "                 'mnb__alpha' : [1.0]}\n",
    "\n",
    "CT_mnb_model_grid = GridSearchCV(estimator = CT_mnb_pipe, param_grid = CT_mnb_params,\n",
    "                                scoring = {'accuracy' : grid_accuracy, \n",
    "                                           'recall' : grid_recall_micro,\n",
    "                                          'precision' : grid_precision_micro},\n",
    "                                refit = 'accuracy')\n",
    "\n",
    "CT_mnb_model_grid.fit(X_train,yy_train)\n",
    "display(CT_mnb_model_grid.best_score_)\n",
    "display(CT_mnb_model_grid.best_params_)\n",
    "#end = time.time()\n",
    "#print(f'Training time: {end-start}')"
   ]
  },
  {
   "cell_type": "code",
   "execution_count": 362,
   "metadata": {},
   "outputs": [
    {
     "name": "stdout",
     "output_type": "stream",
     "text": [
      "Validation ============================================================\n",
      "Validation results for MultinomialNB with Count Vectorize:\n",
      "Accuracy: 0.7364802013593205\n",
      "Recall: 0.7364802013593205\n",
      "Precision: 0.7364802013593205\n",
      "\n",
      "============================================================\n",
      "Predictions for: MultinomialNB with Count Vectorize\n",
      "Accuracy: 0.766859344894027\n",
      "Recall: 0.766859344894027\n",
      "Precision: 0.766859344894027\n"
     ]
    }
   ],
   "source": [
    "# Display cross validation results, make prediction for X_test \n",
    "# diplay results.  Use respective functions.\n",
    "\n",
    "model_name = 'MultinomialNB with Count Vectorize'\n",
    "\n",
    "display_cross_validation_results(CT_mnb_model_grid.cv_results_,model_name)\n",
    "\n",
    "y_hat_CT_MNB = CT_mnb_model_grid.predict(X_test)\n",
    "\n",
    "display_prediction_results(y_hat_CT_MNB, y_test,model_name)"
   ]
  },
  {
   "cell_type": "code",
   "execution_count": 304,
   "metadata": {},
   "outputs": [
    {
     "name": "stdout",
     "output_type": "stream",
     "text": [
      "Confusion Matrix for Model: MultinomialNB with Count Vectorize\n",
      "================================================================================\n"
     ]
    },
    {
     "data": {
      "image/png": "[encoded data removed]",
      "text/plain": [
       "<Figure size 432x288 with 2 Axes>"
      ]
     },
     "metadata": {
      "needs_background": "light"
     },
     "output_type": "display_data"
    }
   ],
   "source": [
    "display_confusion_matrix(CT_mnb_model_grid, X_test,\n",
    "                         y_test,model_name)"
   ]
  },
  {
   "cell_type": "code",
   "execution_count": 309,
   "metadata": {},
   "outputs": [
    {
     "data": {
      "text/plain": [
       "0.8416216823948414"
      ]
     },
     "metadata": {},
     "output_type": "display_data"
    },
    {
     "data": {
      "text/plain": [
       "{'countvect__input': 'content',\n",
       " 'countvect__ngram_range': (1, 2),\n",
       " 'lr__C': 100,\n",
       " 'lr__class_weight': 'balanced',\n",
       " 'lr__max_iter': 100,\n",
       " 'lr__penalty': 'l1',\n",
       " 'lr__solver': 'liblinear'}"
      ]
     },
     "metadata": {},
     "output_type": "display_data"
    }
   ],
   "source": [
    "# LogisticRegression\n",
    "# Use pipes to TF_IDF Vectorize X_train and then train LogisticRegression\n",
    "\n",
    "CT_LR_pipe = Pipeline([('countvect',CountVectorizer()), \n",
    "                 ('lr', LogisticRegression())])\n",
    "\n",
    "grid_accuracy = make_scorer(accuracy_score)\n",
    "grid_recall_micro = make_scorer(recall_score, average = 'micro')\n",
    "grid_precision_micro = make_scorer(precision_score, average = 'micro')\n",
    "\n",
    "CT_LR_params = {'countvect__input' : ['content'],\n",
    "                 'countvect__ngram_range': [(1, 1), (1, 2)],\n",
    "                 'lr__penalty' : ['l1','l2'],\n",
    "                'lr__C' : [1.0, 100],  # tried 1 and 1000\n",
    "                'lr__class_weight' : ['balanced'],  # tried None and 'balanced'\n",
    "                'lr__solver' : ['liblinear','lbfgs','newton-cg'], # tried 'newton-cg', 'lbfgs', 'liblinear', 'sag', 'saga'\n",
    "                'lr__max_iter' : [100,1000]} # treid 100,1000 and 10000\n",
    "\n",
    "CT_LR_model_grid = GridSearchCV(estimator = CT_LR_pipe, param_grid = CT_LR_params,\n",
    "                                scoring = {'accuracy' : grid_accuracy, \n",
    "                                           'recall' : grid_recall_micro,\n",
    "                                          'precision' : grid_precision_micro},\n",
    "                                refit = 'accuracy')\n",
    "\n",
    "CT_LR_model_grid.fit(X_train,y_train)\n",
    "display(CT_LR_model_grid.best_score_)\n",
    "display(CT_LR_model_grid.best_params_)"
   ]
  },
  {
   "cell_type": "code",
   "execution_count": 310,
   "metadata": {},
   "outputs": [
    {
     "name": "stdout",
     "output_type": "stream",
     "text": [
      "Validation ============================================================\n",
      "Validation results for Logistic Regression with Count Vectorize:\n",
      "Accuracy: 0.7364802013593205\n",
      "Recall: 0.7364802013593205\n",
      "Precision: 0.7364802013593205\n",
      "\n",
      "============================================================\n",
      "Predictions for: Logistic Regression with Count Vectorize\n",
      "Accuracy: 0.8636801541425819\n",
      "Recall: 0.8636801541425819\n",
      "Precision: 0.8636801541425819\n"
     ]
    }
   ],
   "source": [
    "# Display cross validation results, make prediction for X_test \n",
    "# diplay results.  Use respective functions.\n",
    "\n",
    "model_name = 'Logistic Regression with Count Vectorize'\n",
    "\n",
    "display_cross_validation_results(CT_mnb_model_grid.cv_results_,model_name)\n",
    "\n",
    "y_hat_CT_LR = CT_LR_model_grid.predict(X_test)\n",
    "\n",
    "display_prediction_results(y_hat_CT_LR, y_test,model_name)"
   ]
  },
  {
   "cell_type": "code",
   "execution_count": 311,
   "metadata": {},
   "outputs": [
    {
     "name": "stdout",
     "output_type": "stream",
     "text": [
      "Confusion Matrix for Model: Logistic Regression with Count Vectorize\n",
      "================================================================================\n"
     ]
    },
    {
     "data": {
      "image/png": "[encoded data removed]",
      "text/plain": [
       "<Figure size 432x288 with 2 Axes>"
      ]
     },
     "metadata": {
      "needs_background": "light"
     },
     "output_type": "display_data"
    }
   ],
   "source": [
    "display_confusion_matrix(CT_LR_model_grid, X_test,\n",
    "                         y_test,model_name)"
   ]
  },
  {
   "cell_type": "code",
   "execution_count": null,
   "metadata": {},
   "outputs": [],
   "source": []
  },
  {
   "cell_type": "code",
   "execution_count": null,
   "metadata": {},
   "outputs": [],
   "source": []
  },
  {
   "cell_type": "code",
   "execution_count": null,
   "metadata": {},
   "outputs": [],
   "source": []
  },
  {
   "cell_type": "code",
   "execution_count": null,
   "metadata": {},
   "outputs": [],
   "source": []
  },
  {
   "cell_type": "code",
   "execution_count": 354,
   "metadata": {},
   "outputs": [
    {
     "data": {
      "text/plain": [
       "['Elon Musk is shocked\\n\\n@AntonioIvanchev,@tseki_is,@Ed_Cypress,@HectagonFinance,@arcade5io,@saiful_ghazi93,@UrielPiquera,@BoredNFT4\\n\\nhttps://t.co/jOuAX9oSm9']"
      ]
     },
     "metadata": {},
     "output_type": "display_data"
    },
    {
     "data": {
      "text/plain": [
       "154"
      ]
     },
     "metadata": {},
     "output_type": "display_data"
    }
   ],
   "source": [
    "b=[]\n",
    "a=tweets_raw.text.iloc[3]\n",
    "b.append(a)\n",
    "display(b)\n",
    "display(len(a))"
   ]
  },
  {
   "cell_type": "code",
   "execution_count": 355,
   "metadata": {},
   "outputs": [
    {
     "data": {
      "text/plain": [
       "['antonioivanchev',\n",
       " 'arcade5io',\n",
       " 'borednft4',\n",
       " 'co',\n",
       " 'ed_cypress',\n",
       " 'elon',\n",
       " 'hectagonfinance',\n",
       " 'https',\n",
       " 'jouax9osm9',\n",
       " 'musk',\n",
       " 'saiful_ghazi93',\n",
       " 'shocked',\n",
       " 'tseki_is',\n",
       " 'urielpiquera']"
      ]
     },
     "execution_count": 355,
     "metadata": {},
     "output_type": "execute_result"
    }
   ],
   "source": [
    "vectorizer = CountVectorizer(stop_words=Stop_Words)\n",
    "XXXX = vectorizer.fit_transform(b)\n",
    "vectorizer.get_feature_names()"
   ]
  },
  {
   "cell_type": "code",
   "execution_count": 339,
   "metadata": {
    "collapsed": true
   },
   "outputs": [
    {
     "data": {
      "text/plain": [
       "['chieftwit',\n",
       " 'co',\n",
       " 'company',\n",
       " 'cut',\n",
       " 'email',\n",
       " 'employees',\n",
       " 'friday',\n",
       " 'https',\n",
       " 'informing',\n",
       " 'jobs',\n",
       " 'late',\n",
       " 'line',\n",
       " 'notifying',\n",
       " 'pacific',\n",
       " 'plans',\n",
       " 'receive',\n",
       " 'role',\n",
       " 'subject',\n",
       " 'thursday',\n",
       " 'time',\n",
       " 'twitter',\n",
       " 'went',\n",
       " 'workers',\n",
       " 'would',\n",
       " 'ypfkn5mhjs']"
      ]
     },
     "execution_count": 339,
     "metadata": {},
     "output_type": "execute_result"
    }
   ],
   "source": [
    "TF_vectorizer = TfidfVectorizer(stop_words=Stop_Words)\n",
    "XXXX = TF_vectorizer.fit_transform(b)\n",
    "TF_vectorizer.get_feature_names()"
   ]
  },
  {
   "cell_type": "code",
   "execution_count": 356,
   "metadata": {},
   "outputs": [
    {
     "data": {
      "text/plain": [
       "['co', 'elon', 'https', 'jouax9osm9', 'musk', 'shocked']"
      ]
     },
     "execution_count": 356,
     "metadata": {},
     "output_type": "execute_result"
    }
   ],
   "source": [
    "TW_Tok = TweetTokenizer(strip_handles=True)\n",
    "XXXX = TW_Tok.tokenize(a)\n",
    "XXXXX = vectorizer.fit_transform(XXXX)\n",
    "vectorizer.get_feature_names()\n"
   ]
  },
  {
   "cell_type": "code",
   "execution_count": null,
   "metadata": {},
   "outputs": [],
   "source": []
  }
 ],
 "metadata": {
  "kernelspec": {
   "display_name": "Python (learn-env)",
   "language": "python",
   "name": "learn-env"
  },
  "language_info": {
   "codemirror_mode": {
    "name": "ipython",
    "version": 3
   },
   "file_extension": ".py",
   "mimetype": "text/x-python",
   "name": "python",
   "nbconvert_exporter": "python",
   "pygments_lexer": "ipython3",
   "version": "3.8.5"
  },
  "toc": {
   "base_numbering": 1,
   "nav_menu": {},
   "number_sections": true,
   "sideBar": true,
   "skip_h1_title": false,
   "title_cell": "Table of Contents",
   "title_sidebar": "TOC",
   "toc_cell": true,
   "toc_position": {
    "height": "calc(100% - 180px)",
    "left": "10px",
    "top": "150px",
    "width": "384px"
   },
   "toc_section_display": true,
   "toc_window_display": true
  }
 },
 "nbformat": 4,
 "nbformat_minor": 2
}
